{
 "cells": [
  {
   "cell_type": "code",
   "execution_count": 1,
   "metadata": {},
   "outputs": [],
   "source": [
    "import mlflow\n",
    "import pandas as pd\n",
    "import numpy as np\n",
    "import json\n",
    "\n",
    "from sklearn.preprocessing import LabelEncoder, StandardScaler\n",
    "from sklearn.model_selection import train_test_split, cross_validate\n",
    "from sklearn import metrics\n",
    "from sklearn.pipeline import Pipeline"
   ]
  },
  {
   "cell_type": "code",
   "execution_count": 2,
   "metadata": {},
   "outputs": [],
   "source": [
    "df = pd.read_pickle('experiments/crowd_train_all_data_embedded.pkl')"
   ]
  },
  {
   "cell_type": "code",
   "execution_count": 3,
   "metadata": {},
   "outputs": [],
   "source": [
    "def get_dataframe(df, min_count, max_count):\n",
    "    df_temp = df.copy()\n",
    "\n",
    "    freq = df_temp.source_id.value_counts()\n",
    "    freq = freq[min_count <= freq]\n",
    "    df_temp = df_temp[df.source_id.isin(freq.index)]\n",
    "\n",
    "    df_temp = df_temp.groupby('source_id').apply(\n",
    "        lambda x: x.nlargest(max_count, 'duration')\n",
    "    ).reset_index(drop=True).drop(columns=['duration', 'hash_id', 'annotator_emo', 'golden_emo', 'annotator_id', 'speaker_text', 'speaker_emo'])\n",
    "\n",
    "    df_temp.dropna(inplace=True)\n",
    "    \n",
    "    print(df_temp.source_id.nunique())\n",
    "    \n",
    "    return df_temp"
   ]
  },
  {
   "cell_type": "code",
   "execution_count": 4,
   "metadata": {},
   "outputs": [
    {
     "name": "stdout",
     "output_type": "stream",
     "text": [
      "102\n",
      "102\n"
     ]
    }
   ],
   "source": [
    "df_t = get_dataframe(df, 200, 10)\n",
    "df_cross_val = get_dataframe(df, 200, 7)"
   ]
  },
  {
   "cell_type": "code",
   "execution_count": 5,
   "metadata": {},
   "outputs": [
    {
     "data": {
      "text/plain": [
       "((714, 498), (714, 60), (714,))"
      ]
     },
     "execution_count": 5,
     "metadata": {},
     "output_type": "execute_result"
    }
   ],
   "source": [
    "X = np.vstack(df_t.audio_feature.to_numpy()).reshape(df_t.shape[0] , -1)\n",
    "le = LabelEncoder()\n",
    "y = le.fit_transform(df_t.source_id)\n",
    "X_mfccs = X[:, 36 + 384: 36 + 384 + 60] #mfcc only\n",
    "\n",
    "X_cv = np.vstack(df_cross_val.audio_feature.to_numpy()).reshape(df_cross_val.shape[0] , -1)\n",
    "le_cv = LabelEncoder()\n",
    "y_cv = le.fit_transform(df_cross_val.source_id)\n",
    "X_mfccs_cv = X_cv[:, 36 + 384: 36 + 384 + 60] #mfcc only\n",
    "X_cv.shape, X_mfccs_cv.shape, y_cv.shape"
   ]
  },
  {
   "cell_type": "code",
   "execution_count": 6,
   "metadata": {},
   "outputs": [],
   "source": [
    "def get_model_and_params(experiment_name: str, model_name: str):\n",
    "    experiment_id = dict(mlflow.get_experiment_by_name(experiment_name))['experiment_id']\n",
    "\n",
    "    cls_102_5_df = mlflow.search_runs([experiment_id], order_by=['metrics.f1_weighted'])\n",
    "    svc_df = cls_102_5_df[cls_102_5_df['tags.mlflow.runName'] == model_name]\n",
    "    model_dict = dict(eval(svc_df['tags.mlflow.log-model.history'].item().replace('null', 'None'))[0])\n",
    "    logged_model = '/'.join(['runs:', model_dict['run_id'], model_dict['artifact_path']])\n",
    "\n",
    "    mlflow.set_tracking_uri(\"http://127.0.0.1:5000\")\n",
    "    loaded_model = mlflow.pyfunc.load_model(logged_model)\n",
    "\n",
    "    params = svc_df[svc_df.columns[svc_df.columns.str.startswith('params.')]].dropna(axis=1).to_dict()\n",
    "    params = {k.split('.')[-1]: list(v.values())[-1] for k, v in params.items()}\n",
    "    for k, v in params.items():\n",
    "        if v.isdigit():\n",
    "            v = int(v)\n",
    "        elif v.replace('.', '').isdigit():\n",
    "            v = float(v)\n",
    "        params[k] = v\n",
    "    \n",
    "    return loaded_model, params"
   ]
  },
  {
   "cell_type": "markdown",
   "metadata": {},
   "source": [
    "## Классификация, 102 класса, mfcc фичи. Лучшая модель - svm"
   ]
  },
  {
   "cell_type": "code",
   "execution_count": 7,
   "metadata": {},
   "outputs": [
    {
     "data": {
      "application/vnd.jupyter.widget-view+json": {
       "model_id": "a603990a674c445587ea8223c825235a",
       "version_major": 2,
       "version_minor": 0
      },
      "text/plain": [
       "Downloading artifacts:   0%|          | 0/10 [00:00<?, ?it/s]"
      ]
     },
     "metadata": {},
     "output_type": "display_data"
    },
    {
     "name": "stderr",
     "output_type": "stream",
     "text": [
      "2024/05/09 17:10:28 INFO mlflow.store.artifact.artifact_repo: The progress bar can be disabled by setting the environment variable MLFLOW_ENABLE_ARTIFACTS_PROGRESS_BAR to false\n"
     ]
    }
   ],
   "source": [
    "experiment = 'only mfcc 102 classes'\n",
    "model_name = 'svc gsc'\n",
    "loaded_model, params = get_model_and_params(experiment, model_name)"
   ]
  },
  {
   "cell_type": "markdown",
   "metadata": {},
   "source": [
    "проверка того, что модель загрузилась верно"
   ]
  },
  {
   "cell_type": "code",
   "execution_count": 8,
   "metadata": {},
   "outputs": [],
   "source": [
    "X_train, X_val, y_train, y_val = train_test_split(X_mfccs, y, test_size=0.5, random_state=42, stratify=y)\n",
    "\n",
    "scaler = StandardScaler()\n",
    "X_train_scaled = scaler.fit_transform(X_train)\n",
    "X_val_scaled = scaler.transform(X_val)"
   ]
  },
  {
   "cell_type": "code",
   "execution_count": 9,
   "metadata": {},
   "outputs": [
    {
     "data": {
      "text/plain": [
       "0.8556857086268851"
      ]
     },
     "execution_count": 9,
     "metadata": {},
     "output_type": "execute_result"
    }
   ],
   "source": [
    "metrics.f1_score(y_val, loaded_model.predict(X_val_scaled), average='weighted')"
   ]
  },
  {
   "cell_type": "markdown",
   "metadata": {},
   "source": [
    "кросс-валидация"
   ]
  },
  {
   "cell_type": "code",
   "execution_count": 10,
   "metadata": {},
   "outputs": [],
   "source": [
    "from sklearn.svm import SVC"
   ]
  },
  {
   "cell_type": "code",
   "execution_count": 11,
   "metadata": {},
   "outputs": [
    {
     "data": {
      "text/plain": [
       "{'fit_time': array([0.08416033, 0.10100126, 0.07999778, 0.09599757]),\n",
       " 'score_time': array([0.03799868, 0.05900025, 0.03500175, 0.04999971]),\n",
       " 'test_accuracy': array([0.8603352 , 0.86592179, 0.88764045, 0.84831461]),\n",
       " 'test_f1_weighted': array([0.84581006, 0.85512104, 0.88202247, 0.83801498]),\n",
       " 'test_f1_micro': array([0.8603352 , 0.86592179, 0.88764045, 0.84831461]),\n",
       " 'test_f1_macro': array([0.8503268 , 0.84836601, 0.8872549 , 0.82352941])}"
      ]
     },
     "execution_count": 11,
     "metadata": {},
     "output_type": "execute_result"
    }
   ],
   "source": [
    "scaler = StandardScaler()\n",
    "model_svc = SVC(**params)\n",
    "\n",
    "pipeline = Pipeline([('scaler', scaler), ('svc', model_svc)])\n",
    "\n",
    "scoring = {'accuracy': 'accuracy',\n",
    "           'f1_weighted': 'f1_weighted',\n",
    "           'f1_micro': 'f1_micro',\n",
    "           'f1_macro': 'f1_macro'}\n",
    "scores = cross_validate(pipeline, X_mfccs_cv, y_cv, cv = 4, scoring=scoring)\n",
    "scores"
   ]
  },
  {
   "cell_type": "code",
   "execution_count": 12,
   "metadata": {},
   "outputs": [
    {
     "data": {
      "text/plain": [
       "{'accuracy': 0.8655530098549997,\n",
       " 'f1_weighted': 0.8552421379699957,\n",
       " 'f1_micro': 0.8655530098549997,\n",
       " 'f1_macro': 0.8523692810457517}"
      ]
     },
     "execution_count": 12,
     "metadata": {},
     "output_type": "execute_result"
    }
   ],
   "source": [
    "metrcs = ['accuracy', 'f1_weighted', 'f1_micro', 'f1_macro']\n",
    "final_scores = {k: scores['test_' + k].mean() for k in metrcs}\n",
    "final_scores"
   ]
  },
  {
   "cell_type": "code",
   "execution_count": 13,
   "metadata": {},
   "outputs": [],
   "source": [
    "with open(f'cross_validation_scores/{model_name}.json', 'w') as f:\n",
    "    json.dump(final_scores, f)"
   ]
  },
  {
   "cell_type": "markdown",
   "metadata": {},
   "source": [
    "## Классификация, 354 класса, mfcc фичи. Лучшая модель - svm"
   ]
  },
  {
   "cell_type": "code",
   "execution_count": 14,
   "metadata": {},
   "outputs": [
    {
     "name": "stdout",
     "output_type": "stream",
     "text": [
      "354\n",
      "354\n"
     ]
    }
   ],
   "source": [
    "df_t = get_dataframe(df, 100, 10)\n",
    "df_cross_val = get_dataframe(df, 100, 7)"
   ]
  },
  {
   "cell_type": "code",
   "execution_count": 15,
   "metadata": {},
   "outputs": [
    {
     "data": {
      "text/plain": [
       "((2478, 498), (2478, 60), (2478,))"
      ]
     },
     "execution_count": 15,
     "metadata": {},
     "output_type": "execute_result"
    }
   ],
   "source": [
    "X = np.vstack(df_t.audio_feature.to_numpy()).reshape(df_t.shape[0] , -1)\n",
    "le = LabelEncoder()\n",
    "y = le.fit_transform(df_t.source_id)\n",
    "X_mfccs = X[:, 36 + 384: 36 + 384 + 60] #mfcc only\n",
    "\n",
    "X_cv = np.vstack(df_cross_val.audio_feature.to_numpy()).reshape(df_cross_val.shape[0] , -1)\n",
    "le_cv = LabelEncoder()\n",
    "y_cv = le.fit_transform(df_cross_val.source_id)\n",
    "X_mfccs_cv = X_cv[:, 36 + 384: 36 + 384 + 60] #mfcc only\n",
    "X_cv.shape, X_mfccs_cv.shape, y_cv.shape"
   ]
  },
  {
   "cell_type": "code",
   "execution_count": 16,
   "metadata": {},
   "outputs": [
    {
     "data": {
      "application/vnd.jupyter.widget-view+json": {
       "model_id": "073f8683245d40c29cd777acd3cdac32",
       "version_major": 2,
       "version_minor": 0
      },
      "text/plain": [
       "Downloading artifacts:   0%|          | 0/10 [00:00<?, ?it/s]"
      ]
     },
     "metadata": {},
     "output_type": "display_data"
    },
    {
     "name": "stderr",
     "output_type": "stream",
     "text": [
      "2024/05/09 17:10:36 INFO mlflow.store.artifact.artifact_repo: The progress bar can be disabled by setting the environment variable MLFLOW_ENABLE_ARTIFACTS_PROGRESS_BAR to false\n"
     ]
    }
   ],
   "source": [
    "experiment = 'only mfcc 354 classes'\n",
    "model_name = 'svc gsc'\n",
    "loaded_model, params = get_model_and_params(experiment, model_name)"
   ]
  },
  {
   "cell_type": "markdown",
   "metadata": {},
   "source": [
    "Проверка загрузки"
   ]
  },
  {
   "cell_type": "code",
   "execution_count": 17,
   "metadata": {},
   "outputs": [
    {
     "data": {
      "text/plain": [
       "0.7385117628761696"
      ]
     },
     "execution_count": 17,
     "metadata": {},
     "output_type": "execute_result"
    }
   ],
   "source": [
    "X_train, X_val, y_train, y_val = train_test_split(X_mfccs, y, test_size=0.5, random_state=42, stratify=y)\n",
    "\n",
    "scaler = StandardScaler()\n",
    "X_train_scaled = scaler.fit_transform(X_train)\n",
    "X_val_scaled = scaler.transform(X_val)\n",
    "\n",
    "metrics.f1_score(y_val, loaded_model.predict(X_val_scaled), average='weighted')"
   ]
  },
  {
   "cell_type": "markdown",
   "metadata": {},
   "source": [
    "кросс-валидация"
   ]
  },
  {
   "cell_type": "code",
   "execution_count": 18,
   "metadata": {},
   "outputs": [
    {
     "data": {
      "text/plain": [
       "{'fit_time': array([0.95486879, 0.87509155, 0.89400721, 0.89097023]),\n",
       " 'score_time': array([1.0241034 , 0.9579289 , 0.97378707, 0.99095702]),\n",
       " 'test_accuracy': array([0.76129032, 0.75483871, 0.76090468, 0.73990307]),\n",
       " 'test_f1_weighted': array([0.74445469, 0.73672811, 0.74029541, 0.72124779]),\n",
       " 'test_f1_micro': array([0.76129032, 0.75483871, 0.76090468, 0.73990307]),\n",
       " 'test_f1_macro': array([0.74081248, 0.73473231, 0.73833737, 0.71942427])}"
      ]
     },
     "execution_count": 18,
     "metadata": {},
     "output_type": "execute_result"
    }
   ],
   "source": [
    "scaler = StandardScaler()\n",
    "model_svc = SVC(**params)\n",
    "\n",
    "pipeline = Pipeline([('scaler', scaler), ('svc', model_svc)])\n",
    "\n",
    "scoring = {'accuracy': 'accuracy',\n",
    "           'f1_weighted': 'f1_weighted',\n",
    "           'f1_micro': 'f1_micro',\n",
    "           'f1_macro': 'f1_macro'}\n",
    "scores = cross_validate(pipeline, X_mfccs_cv, y_cv, cv = 4, scoring=scoring)\n",
    "scores"
   ]
  },
  {
   "cell_type": "code",
   "execution_count": 19,
   "metadata": {},
   "outputs": [
    {
     "data": {
      "text/plain": [
       "{'accuracy': 0.7542341966751784,\n",
       " 'f1_weighted': 0.7356814978323394,\n",
       " 'f1_micro': 0.7542341966751784,\n",
       " 'f1_macro': 0.7333266074791499}"
      ]
     },
     "execution_count": 19,
     "metadata": {},
     "output_type": "execute_result"
    }
   ],
   "source": [
    "metrcs = ['accuracy', 'f1_weighted', 'f1_micro', 'f1_macro']\n",
    "final_scores = {k: scores['test_' + k].mean() for k in metrcs}\n",
    "final_scores"
   ]
  },
  {
   "cell_type": "code",
   "execution_count": 20,
   "metadata": {},
   "outputs": [],
   "source": [
    "with open(f'cross_validation_scores/{model_name}_354.json', 'w') as f:\n",
    "    json.dump(final_scores, f)"
   ]
  },
  {
   "cell_type": "markdown",
   "metadata": {},
   "source": [
    "гипотеза: увеличение тренировочных данных - выше метрика"
   ]
  },
  {
   "cell_type": "code",
   "execution_count": 21,
   "metadata": {},
   "outputs": [
    {
     "name": "stdout",
     "output_type": "stream",
     "text": [
      "354\n",
      "354\n"
     ]
    }
   ],
   "source": [
    "df_t = get_dataframe(df, 100, 20)\n",
    "df_cross_val = get_dataframe(df, 100, 14)"
   ]
  },
  {
   "cell_type": "code",
   "execution_count": 22,
   "metadata": {},
   "outputs": [
    {
     "data": {
      "text/plain": [
       "((4956, 498), (4956, 60), (4956,))"
      ]
     },
     "execution_count": 22,
     "metadata": {},
     "output_type": "execute_result"
    }
   ],
   "source": [
    "X = np.vstack(df_t.audio_feature.to_numpy()).reshape(df_t.shape[0] , -1)\n",
    "le = LabelEncoder()\n",
    "y = le.fit_transform(df_t.source_id)\n",
    "X_mfccs = X[:, 36 + 384: 36 + 384 + 60] #mfcc only\n",
    "\n",
    "X_cv = np.vstack(df_cross_val.audio_feature.to_numpy()).reshape(df_cross_val.shape[0] , -1)\n",
    "le_cv = LabelEncoder()\n",
    "y_cv = le.fit_transform(df_cross_val.source_id)\n",
    "X_mfccs_cv = X_cv[:, 36 + 384: 36 + 384 + 60] #mfcc only\n",
    "X_cv.shape, X_mfccs_cv.shape, y_cv.shape"
   ]
  },
  {
   "cell_type": "code",
   "execution_count": 23,
   "metadata": {},
   "outputs": [
    {
     "data": {
      "application/vnd.jupyter.widget-view+json": {
       "model_id": "cc3581cb3f104c1cbafe28272cd5c158",
       "version_major": 2,
       "version_minor": 0
      },
      "text/plain": [
       "Downloading artifacts:   0%|          | 0/10 [00:00<?, ?it/s]"
      ]
     },
     "metadata": {},
     "output_type": "display_data"
    },
    {
     "name": "stderr",
     "output_type": "stream",
     "text": [
      "2024/05/09 17:10:49 INFO mlflow.store.artifact.artifact_repo: The progress bar can be disabled by setting the environment variable MLFLOW_ENABLE_ARTIFACTS_PROGRESS_BAR to false\n"
     ]
    }
   ],
   "source": [
    "experiment = 'only mfcc 354 classes'\n",
    "model_name = 'svc gsc'\n",
    "loaded_model, params = get_model_and_params(experiment, model_name)"
   ]
  },
  {
   "cell_type": "code",
   "execution_count": 24,
   "metadata": {},
   "outputs": [
    {
     "data": {
      "text/plain": [
       "{'fit_time': array([2.38389134, 2.30820179, 2.24736381, 2.29371357]),\n",
       " 'score_time': array([2.89615369, 2.90902781, 2.89018297, 3.2234652 ]),\n",
       " 'test_accuracy': array([0.82001614, 0.84665052, 0.8393866 , 0.83131558]),\n",
       " 'test_f1_weighted': array([0.81441218, 0.84446034, 0.83316422, 0.82510823]),\n",
       " 'test_f1_micro': array([0.82001614, 0.84665052, 0.8393866 , 0.83131558]),\n",
       " 'test_f1_macro': array([0.81541788, 0.84249456, 0.83281712, 0.82330142])}"
      ]
     },
     "execution_count": 24,
     "metadata": {},
     "output_type": "execute_result"
    }
   ],
   "source": [
    "scaler = StandardScaler()\n",
    "model_svc = SVC(**params)\n",
    "\n",
    "pipeline = Pipeline([('scaler', scaler), ('svc', model_svc)])\n",
    "\n",
    "scoring = {'accuracy': 'accuracy',\n",
    "           'f1_weighted': 'f1_weighted',\n",
    "           'f1_micro': 'f1_micro',\n",
    "           'f1_macro': 'f1_macro'}\n",
    "scores = cross_validate(pipeline, X_mfccs_cv, y_cv, cv = 4, scoring=scoring)\n",
    "scores"
   ]
  },
  {
   "cell_type": "code",
   "execution_count": 25,
   "metadata": {},
   "outputs": [
    {
     "data": {
      "text/plain": [
       "{'accuracy': 0.8343422114608554,\n",
       " 'f1_weighted': 0.8292862426337003,\n",
       " 'f1_micro': 0.8343422114608554,\n",
       " 'f1_macro': 0.8285077446094394}"
      ]
     },
     "execution_count": 25,
     "metadata": {},
     "output_type": "execute_result"
    }
   ],
   "source": [
    "metrcs = ['accuracy', 'f1_weighted', 'f1_micro', 'f1_macro']\n",
    "final_scores = {k: scores['test_' + k].mean() for k in metrcs}\n",
    "final_scores"
   ]
  },
  {
   "cell_type": "code",
   "execution_count": 26,
   "metadata": {},
   "outputs": [],
   "source": [
    "with open(f'cross_validation_scores/{model_name}_354_more_data.json', 'w') as f:\n",
    "    json.dump(final_scores, f)"
   ]
  }
 ],
 "metadata": {
  "kernelspec": {
   "display_name": "base",
   "language": "python",
   "name": "python3"
  },
  "language_info": {
   "codemirror_mode": {
    "name": "ipython",
    "version": 3
   },
   "file_extension": ".py",
   "mimetype": "text/x-python",
   "name": "python",
   "nbconvert_exporter": "python",
   "pygments_lexer": "ipython3",
   "version": "3.9.12"
  }
 },
 "nbformat": 4,
 "nbformat_minor": 2
}
