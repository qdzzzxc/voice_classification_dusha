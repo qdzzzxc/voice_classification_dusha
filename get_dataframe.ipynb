{
 "cells": [
  {
   "cell_type": "code",
   "execution_count": 1,
   "metadata": {},
   "outputs": [],
   "source": [
    "import pandas as pd\n",
    "import numpy as np\n",
    "\n",
    "import matplotlib.pyplot as plt\n",
    "import seaborn as sns"
   ]
  },
  {
   "cell_type": "code",
   "execution_count": 2,
   "metadata": {},
   "outputs": [],
   "source": [
    "with open(\"crowd_train/raw_crowd_train.jsonl\", \"r\") as file:\n",
    "    lines = file.read().splitlines()"
   ]
  },
  {
   "cell_type": "code",
   "execution_count": 3,
   "metadata": {},
   "outputs": [],
   "source": [
    "dicts = [eval(x.replace('NaN', 'np.nan')) for x in lines]"
   ]
  },
  {
   "cell_type": "code",
   "execution_count": 17,
   "metadata": {},
   "outputs": [],
   "source": [
    "df = pd.DataFrame.from_records(dicts)"
   ]
  },
  {
   "cell_type": "code",
   "execution_count": 18,
   "metadata": {},
   "outputs": [
    {
     "data": {
      "text/plain": [
       "(906953, 9)"
      ]
     },
     "execution_count": 18,
     "metadata": {},
     "output_type": "execute_result"
    }
   ],
   "source": [
    "df.shape"
   ]
  },
  {
   "cell_type": "code",
   "execution_count": 48,
   "metadata": {},
   "outputs": [
    {
     "data": {
      "text/plain": [
       "(124569, 9)"
      ]
     },
     "execution_count": 48,
     "metadata": {},
     "output_type": "execute_result"
    }
   ],
   "source": [
    "df_not_dupl = df.drop_duplicates(subset=\"speaker_text\")\n",
    "df_not_dupl.shape"
   ]
  },
  {
   "cell_type": "code",
   "execution_count": 49,
   "metadata": {},
   "outputs": [],
   "source": [
    "df_not_dupl.to_parquet('crowd_train_without_duplicates.pqt')"
   ]
  },
  {
   "cell_type": "code",
   "execution_count": 28,
   "metadata": {},
   "outputs": [],
   "source": [
    "res = df_not_dupl.source_id.value_counts()"
   ]
  },
  {
   "cell_type": "code",
   "execution_count": 21,
   "metadata": {},
   "outputs": [
    {
     "data": {
      "text/plain": [
       "<Axes: xlabel='source_id', ylabel='count'>"
      ]
     },
     "execution_count": 21,
     "metadata": {},
     "output_type": "execute_result"
    },
    {
     "data": {
      "image/png": "[encoded data removed]",
      "text/plain": [
       "<Figure size 640x480 with 1 Axes>"
      ]
     },
     "metadata": {},
     "output_type": "display_data"
    }
   ],
   "source": [
    "sns.barplot(res)"
   ]
  },
  {
   "cell_type": "code",
   "execution_count": 29,
   "metadata": {},
   "outputs": [],
   "source": [
    "res = res[res >= 5]"
   ]
  },
  {
   "cell_type": "code",
   "execution_count": 31,
   "metadata": {},
   "outputs": [
    {
     "data": {
      "text/plain": [
       "source_id\n",
       "749bd4cad1ddbc7211b23a68e5f9f12a    473\n",
       "8fdd37d08a1edd4c3f05f3df1e1d4a8d    462\n",
       "8d912022a064613108789cd33ec6d776    413\n",
       "ddea0499db65074f0de8570a460b6bc6    386\n",
       "b603926497b0f7d1ce220b682622a429    380\n",
       "                                   ... \n",
       "99fd9d1f1a5cf1765773d835f019ff5a      5\n",
       "34eeb75bea7a0ee06a5f3b0db10380a7      5\n",
       "05eb3646a87cac79d8ed0b47d3e7a548      5\n",
       "4de41c378904edef713b2daecd0d5ad8      5\n",
       "9fbdd956c928edba3ae8149af94b6d20      5\n",
       "Name: count, Length: 1756, dtype: int64"
      ]
     },
     "execution_count": 31,
     "metadata": {},
     "output_type": "execute_result"
    }
   ],
   "source": [
    "res"
   ]
  },
  {
   "cell_type": "code",
   "execution_count": 36,
   "metadata": {},
   "outputs": [
    {
     "data": {
      "text/plain": [
       "(124449, 3)"
      ]
     },
     "execution_count": 36,
     "metadata": {},
     "output_type": "execute_result"
    }
   ],
   "source": [
    "df_final = df_not_dupl.drop(columns=['hash_id', 'annotator_emo',\n",
    "                            'golden_emo', 'annotator_id', 'speaker_text', 'speaker_emo']).dropna()\n",
    "df_final = df_final[df_final.source_id.isin(res.index)]\n",
    "df_final.shape"
   ]
  },
  {
   "cell_type": "code",
   "execution_count": 37,
   "metadata": {},
   "outputs": [],
   "source": [
    "df_final.to_parquet(\"crowd_train_eda.pqt\", index=False)"
   ]
  },
  {
   "cell_type": "code",
   "execution_count": 7,
   "metadata": {},
   "outputs": [],
   "source": [
    "import pandas as pd\n",
    "import matplotlib.pyplot as plt\n",
    "import seaborn as sns"
   ]
  },
  {
   "cell_type": "code",
   "execution_count": 8,
   "metadata": {},
   "outputs": [],
   "source": [
    "df_final = pd.read_parquet(\"crowd_train_eda.pqt\")"
   ]
  },
  {
   "cell_type": "code",
   "execution_count": 38,
   "metadata": {},
   "outputs": [
    {
     "data": {
      "text/plain": [
       "source_id\n",
       "749bd4cad1ddbc7211b23a68e5f9f12a    473\n",
       "8fdd37d08a1edd4c3f05f3df1e1d4a8d    462\n",
       "8d912022a064613108789cd33ec6d776    413\n",
       "ddea0499db65074f0de8570a460b6bc6    386\n",
       "b603926497b0f7d1ce220b682622a429    380\n",
       "                                   ... \n",
       "05eb3646a87cac79d8ed0b47d3e7a548      5\n",
       "34eeb75bea7a0ee06a5f3b0db10380a7      5\n",
       "82f4f54a8fff2db3301cd62ae18d26df      5\n",
       "03b0121960975e43f8d3a8f66953e32a      5\n",
       "4de41c378904edef713b2daecd0d5ad8      5\n",
       "Name: count, Length: 1756, dtype: int64"
      ]
     },
     "execution_count": 38,
     "metadata": {},
     "output_type": "execute_result"
    }
   ],
   "source": [
    "df_final.source_id.value_counts()"
   ]
  },
  {
   "cell_type": "code",
   "execution_count": 40,
   "metadata": {},
   "outputs": [],
   "source": [
    "# freq = df_final.source_id.value_counts()\n",
    "# freq = freq[10 <= freq]\n",
    "# df_final[df_final.source_id.isin(freq.index)]"
   ]
  },
  {
   "cell_type": "code",
   "execution_count": 44,
   "metadata": {},
   "outputs": [
    {
     "name": "stderr",
     "output_type": "stream",
     "text": [
      "C:\\Users\\Никита\\AppData\\Local\\Temp\\ipykernel_15096\\3152436468.py:1: DeprecationWarning: DataFrameGroupBy.apply operated on the grouping columns. This behavior is deprecated, and in a future version of pandas the grouping columns will be excluded from the operation. Either pass `include_groups=False` to exclude the groupings or explicitly select the grouping columns after groupby to silence this warning.\n",
      "  result = df_final.groupby('source_id').apply(\n"
     ]
    }
   ],
   "source": [
    "result = df_final.groupby('source_id').apply(\n",
    "    lambda x: x.nlargest(5, 'duration')\n",
    ").reset_index(drop=True).drop(columns=['duration'])"
   ]
  },
  {
   "cell_type": "code",
   "execution_count": 46,
   "metadata": {},
   "outputs": [
    {
     "data": {
      "text/plain": [
       "<Axes: xlabel='source_id', ylabel='count'>"
      ]
     },
     "execution_count": 46,
     "metadata": {},
     "output_type": "execute_result"
    },
    {
     "data": {
      "image/png": "[encoded data removed]",
      "text/plain": [
       "<Figure size 640x480 with 1 Axes>"
      ]
     },
     "metadata": {},
     "output_type": "display_data"
    }
   ],
   "source": [
    "# sns.barplot(df_final[df_final.source_id.isin(freq.index)].source_id.value_counts())\n",
    "sns.barplot(result.source_id.value_counts())"
   ]
  },
  {
   "cell_type": "code",
   "execution_count": 47,
   "metadata": {},
   "outputs": [],
   "source": [
    "result.to_parquet(\"crowd_train_eda_all_5.pqt\", index=False)"
   ]
  },
  {
   "cell_type": "code",
   "execution_count": 32,
   "metadata": {},
   "outputs": [],
   "source": [
    "df_40_120 = df_final[df_final.source_id.isin(freq.index)]"
   ]
  },
  {
   "cell_type": "code",
   "execution_count": 33,
   "metadata": {},
   "outputs": [],
   "source": [
    "df_40_120.to_parquet(\"crowd_train_eda_class_balance_40_120.pqt\", index=False)"
   ]
  }
 ],
 "metadata": {
  "kernelspec": {
   "display_name": ".venv",
   "language": "python",
   "name": "python3"
  },
  "language_info": {
   "codemirror_mode": {
    "name": "ipython",
    "version": 3
   },
   "file_extension": ".py",
   "mimetype": "text/x-python",
   "name": "python",
   "nbconvert_exporter": "python",
   "pygments_lexer": "ipython3",
   "version": "3.10.0"
  }
 },
 "nbformat": 4,
 "nbformat_minor": 2
}
