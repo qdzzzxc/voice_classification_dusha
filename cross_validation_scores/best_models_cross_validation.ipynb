{
 "cells": [
  {
   "cell_type": "code",
   "execution_count": 1,
   "metadata": {},
   "outputs": [],
   "source": [
    "import mlflow\n",
    "import pandas as pd\n",
    "import numpy as np\n",
    "import json\n",
    "\n",
    "from sklearn.preprocessing import LabelEncoder, StandardScaler\n",
    "from sklearn.model_selection import train_test_split, cross_validate\n",
    "from sklearn import metrics\n",
    "from sklearn.pipeline import Pipeline\n",
    "\n",
    "import catboost"
   ]
  },
  {
   "cell_type": "code",
   "execution_count": 2,
   "metadata": {},
   "outputs": [],
   "source": [
    "df = pd.read_pickle('experiments/crowd_train_all_data_embedded.pkl')"
   ]
  },
  {
   "cell_type": "code",
   "execution_count": 3,
   "metadata": {},
   "outputs": [],
   "source": [
    "def get_dataframe(df, min_count, max_count):\n",
    "    df_temp = df.copy()\n",
    "\n",
    "    freq = df_temp.source_id.value_counts()\n",
    "    freq = freq[min_count <= freq]\n",
    "    df_temp = df_temp[df.source_id.isin(freq.index)]\n",
    "\n",
    "    df_temp = df_temp.groupby('source_id').apply(\n",
    "        lambda x: x.nlargest(max_count, 'duration')\n",
    "    ).reset_index(drop=True).drop(columns=['duration', 'hash_id', 'annotator_emo', 'golden_emo', 'annotator_id', 'speaker_text', 'speaker_emo'])\n",
    "\n",
    "    df_temp.dropna(inplace=True)\n",
    "    \n",
    "    print(df_temp.source_id.nunique())\n",
    "    \n",
    "    return df_temp"
   ]
  },
  {
   "cell_type": "code",
   "execution_count": 4,
   "metadata": {},
   "outputs": [
    {
     "name": "stdout",
     "output_type": "stream",
     "text": [
      "102\n",
      "102\n"
     ]
    }
   ],
   "source": [
    "df_t = get_dataframe(df, 200, 10)\n",
    "df_cross_val = get_dataframe(df, 200, 7)"
   ]
  },
  {
   "cell_type": "code",
   "execution_count": 5,
   "metadata": {},
   "outputs": [
    {
     "data": {
      "text/plain": [
       "((714, 498), (714, 60), (714,))"
      ]
     },
     "execution_count": 5,
     "metadata": {},
     "output_type": "execute_result"
    }
   ],
   "source": [
    "X = np.vstack(df_t.audio_feature.to_numpy()).reshape(df_t.shape[0] , -1)\n",
    "le = LabelEncoder()\n",
    "y = le.fit_transform(df_t.source_id)\n",
    "X_mfccs = X[:, 36 + 384: 36 + 384 + 60] #mfcc only\n",
    "\n",
    "X_cv = np.vstack(df_cross_val.audio_feature.to_numpy()).reshape(df_cross_val.shape[0] , -1)\n",
    "le_cv = LabelEncoder()\n",
    "y_cv = le.fit_transform(df_cross_val.source_id)\n",
    "X_mfccs_cv = X_cv[:, 36 + 384: 36 + 384 + 60] #mfcc only\n",
    "X_cv.shape, X_mfccs_cv.shape, y_cv.shape"
   ]
  },
  {
   "cell_type": "code",
   "execution_count": 6,
   "metadata": {},
   "outputs": [],
   "source": [
    "def get_model_and_params(experiment_name: str, model_name: str):\n",
    "    experiment_id = dict(mlflow.get_experiment_by_name(experiment_name))['experiment_id']\n",
    "\n",
    "    cls_102_5_df = mlflow.search_runs([experiment_id], order_by=['metrics.f1_weighted'])\n",
    "    svc_df = cls_102_5_df[cls_102_5_df['tags.mlflow.runName'] == model_name]\n",
    "    model_dict = dict(eval(svc_df['tags.mlflow.log-model.history'].item().replace('null', 'None'))[0])\n",
    "    logged_model = '/'.join(['runs:', model_dict['run_id'], model_dict['artifact_path']])\n",
    "\n",
    "    mlflow.set_tracking_uri(\"http://127.0.0.1:5000\")\n",
    "    loaded_model = mlflow.pyfunc.load_model(logged_model)\n",
    "\n",
    "    params = svc_df[svc_df.columns[svc_df.columns.str.startswith('params.')]].dropna(axis=1).to_dict()\n",
    "    params = {k.split('.')[-1]: list(v.values())[-1] for k, v in params.items()}\n",
    "    for k, v in params.items():\n",
    "        if v.isdigit():\n",
    "            v = int(v)\n",
    "        elif v.replace('.', '').isdigit():\n",
    "            v = float(v)\n",
    "        params[k] = v\n",
    "    \n",
    "    return loaded_model, params"
   ]
  },
  {
   "cell_type": "markdown",
   "metadata": {},
   "source": [
    "## Классификация, 102 класса, mfcc фичи. Лучшая модель - svm"
   ]
  },
  {
   "cell_type": "code",
   "execution_count": 7,
   "metadata": {},
   "outputs": [
    {
     "data": {
      "application/vnd.jupyter.widget-view+json": {
       "model_id": "a603990a674c445587ea8223c825235a",
       "version_major": 2,
       "version_minor": 0
      },
      "text/plain": [
       "Downloading artifacts:   0%|          | 0/10 [00:00<?, ?it/s]"
      ]
     },
     "metadata": {},
     "output_type": "display_data"
    },
    {
     "name": "stderr",
     "output_type": "stream",
     "text": [
      "2024/05/09 17:10:28 INFO mlflow.store.artifact.artifact_repo: The progress bar can be disabled by setting the environment variable MLFLOW_ENABLE_ARTIFACTS_PROGRESS_BAR to false\n"
     ]
    }
   ],
   "source": [
    "experiment = 'only mfcc 102 classes'\n",
    "model_name = 'svc gsc'\n",
    "loaded_model, params = get_model_and_params(experiment, model_name)"
   ]
  },
  {
   "cell_type": "markdown",
   "metadata": {},
   "source": [
    "проверка того, что модель загрузилась верно"
   ]
  },
  {
   "cell_type": "code",
   "execution_count": 8,
   "metadata": {},
   "outputs": [],
   "source": [
    "X_train, X_val, y_train, y_val = train_test_split(X_mfccs, y, test_size=0.5, random_state=42, stratify=y)\n",
    "\n",
    "scaler = StandardScaler()\n",
    "X_train_scaled = scaler.fit_transform(X_train)\n",
    "X_val_scaled = scaler.transform(X_val)"
   ]
  },
  {
   "cell_type": "code",
   "execution_count": 9,
   "metadata": {},
   "outputs": [
    {
     "data": {
      "text/plain": [
       "0.8556857086268851"
      ]
     },
     "execution_count": 9,
     "metadata": {},
     "output_type": "execute_result"
    }
   ],
   "source": [
    "metrics.f1_score(y_val, loaded_model.predict(X_val_scaled), average='weighted')"
   ]
  },
  {
   "cell_type": "markdown",
   "metadata": {},
   "source": [
    "кросс-валидация"
   ]
  },
  {
   "cell_type": "code",
   "execution_count": 10,
   "metadata": {},
   "outputs": [],
   "source": [
    "from sklearn.svm import SVC"
   ]
  },
  {
   "cell_type": "code",
   "execution_count": 11,
   "metadata": {},
   "outputs": [
    {
     "data": {
      "text/plain": [
       "{'fit_time': array([0.08416033, 0.10100126, 0.07999778, 0.09599757]),\n",
       " 'score_time': array([0.03799868, 0.05900025, 0.03500175, 0.04999971]),\n",
       " 'test_accuracy': array([0.8603352 , 0.86592179, 0.88764045, 0.84831461]),\n",
       " 'test_f1_weighted': array([0.84581006, 0.85512104, 0.88202247, 0.83801498]),\n",
       " 'test_f1_micro': array([0.8603352 , 0.86592179, 0.88764045, 0.84831461]),\n",
       " 'test_f1_macro': array([0.8503268 , 0.84836601, 0.8872549 , 0.82352941])}"
      ]
     },
     "execution_count": 11,
     "metadata": {},
     "output_type": "execute_result"
    }
   ],
   "source": [
    "scaler = StandardScaler()\n",
    "model_svc = SVC(**params)\n",
    "\n",
    "pipeline = Pipeline([('scaler', scaler), ('svc', model_svc)])\n",
    "\n",
    "scoring = {'accuracy': 'accuracy',\n",
    "           'f1_weighted': 'f1_weighted',\n",
    "           'f1_micro': 'f1_micro',\n",
    "           'f1_macro': 'f1_macro'}\n",
    "scores = cross_validate(pipeline, X_mfccs_cv, y_cv, cv = 4, scoring=scoring)\n",
    "scores"
   ]
  },
  {
   "cell_type": "code",
   "execution_count": 12,
   "metadata": {},
   "outputs": [
    {
     "data": {
      "text/plain": [
       "{'accuracy': 0.8655530098549997,\n",
       " 'f1_weighted': 0.8552421379699957,\n",
       " 'f1_micro': 0.8655530098549997,\n",
       " 'f1_macro': 0.8523692810457517}"
      ]
     },
     "execution_count": 12,
     "metadata": {},
     "output_type": "execute_result"
    }
   ],
   "source": [
    "metrcs = ['accuracy', 'f1_weighted', 'f1_micro', 'f1_macro']\n",
    "final_scores = {k: scores['test_' + k].mean() for k in metrcs}\n",
    "final_scores"
   ]
  },
  {
   "cell_type": "code",
   "execution_count": 13,
   "metadata": {},
   "outputs": [],
   "source": [
    "with open(f'cross_validation_scores/{model_name}.json', 'w') as f:\n",
    "    json.dump(final_scores, f)"
   ]
  },
  {
   "cell_type": "markdown",
   "metadata": {},
   "source": [
    "## Классификация, 354 класса, mfcc фичи. Лучшая модель - svm"
   ]
  },
  {
   "cell_type": "code",
   "execution_count": 14,
   "metadata": {},
   "outputs": [
    {
     "name": "stdout",
     "output_type": "stream",
     "text": [
      "354\n",
      "354\n"
     ]
    }
   ],
   "source": [
    "df_t = get_dataframe(df, 100, 10)\n",
    "df_cross_val = get_dataframe(df, 100, 7)"
   ]
  },
  {
   "cell_type": "code",
   "execution_count": 15,
   "metadata": {},
   "outputs": [
    {
     "data": {
      "text/plain": [
       "((2478, 498), (2478, 60), (2478,))"
      ]
     },
     "execution_count": 15,
     "metadata": {},
     "output_type": "execute_result"
    }
   ],
   "source": [
    "X = np.vstack(df_t.audio_feature.to_numpy()).reshape(df_t.shape[0] , -1)\n",
    "le = LabelEncoder()\n",
    "y = le.fit_transform(df_t.source_id)\n",
    "X_mfccs = X[:, 36 + 384: 36 + 384 + 60] #mfcc only\n",
    "\n",
    "X_cv = np.vstack(df_cross_val.audio_feature.to_numpy()).reshape(df_cross_val.shape[0] , -1)\n",
    "le_cv = LabelEncoder()\n",
    "y_cv = le.fit_transform(df_cross_val.source_id)\n",
    "X_mfccs_cv = X_cv[:, 36 + 384: 36 + 384 + 60] #mfcc only\n",
    "X_cv.shape, X_mfccs_cv.shape, y_cv.shape"
   ]
  },
  {
   "cell_type": "code",
   "execution_count": 16,
   "metadata": {},
   "outputs": [
    {
     "data": {
      "application/vnd.jupyter.widget-view+json": {
       "model_id": "073f8683245d40c29cd777acd3cdac32",
       "version_major": 2,
       "version_minor": 0
      },
      "text/plain": [
       "Downloading artifacts:   0%|          | 0/10 [00:00<?, ?it/s]"
      ]
     },
     "metadata": {},
     "output_type": "display_data"
    },
    {
     "name": "stderr",
     "output_type": "stream",
     "text": [
      "2024/05/09 17:10:36 INFO mlflow.store.artifact.artifact_repo: The progress bar can be disabled by setting the environment variable MLFLOW_ENABLE_ARTIFACTS_PROGRESS_BAR to false\n"
     ]
    }
   ],
   "source": [
    "experiment = 'only mfcc 354 classes'\n",
    "model_name = 'svc gsc'\n",
    "loaded_model, params = get_model_and_params(experiment, model_name)"
   ]
  },
  {
   "cell_type": "markdown",
   "metadata": {},
   "source": [
    "Проверка загрузки"
   ]
  },
  {
   "cell_type": "code",
   "execution_count": 17,
   "metadata": {},
   "outputs": [
    {
     "data": {
      "text/plain": [
       "0.7385117628761696"
      ]
     },
     "execution_count": 17,
     "metadata": {},
     "output_type": "execute_result"
    }
   ],
   "source": [
    "X_train, X_val, y_train, y_val = train_test_split(X_mfccs, y, test_size=0.5, random_state=42, stratify=y)\n",
    "\n",
    "scaler = StandardScaler()\n",
    "X_train_scaled = scaler.fit_transform(X_train)\n",
    "X_val_scaled = scaler.transform(X_val)\n",
    "\n",
    "metrics.f1_score(y_val, loaded_model.predict(X_val_scaled), average='weighted')"
   ]
  },
  {
   "cell_type": "markdown",
   "metadata": {},
   "source": [
    "кросс-валидация"
   ]
  },
  {
   "cell_type": "code",
   "execution_count": 18,
   "metadata": {},
   "outputs": [
    {
     "data": {
      "text/plain": [
       "{'fit_time': array([0.95486879, 0.87509155, 0.89400721, 0.89097023]),\n",
       " 'score_time': array([1.0241034 , 0.9579289 , 0.97378707, 0.99095702]),\n",
       " 'test_accuracy': array([0.76129032, 0.75483871, 0.76090468, 0.73990307]),\n",
       " 'test_f1_weighted': array([0.74445469, 0.73672811, 0.74029541, 0.72124779]),\n",
       " 'test_f1_micro': array([0.76129032, 0.75483871, 0.76090468, 0.73990307]),\n",
       " 'test_f1_macro': array([0.74081248, 0.73473231, 0.73833737, 0.71942427])}"
      ]
     },
     "execution_count": 18,
     "metadata": {},
     "output_type": "execute_result"
    }
   ],
   "source": [
    "scaler = StandardScaler()\n",
    "model_svc = SVC(**params)\n",
    "\n",
    "pipeline = Pipeline([('scaler', scaler), ('svc', model_svc)])\n",
    "\n",
    "scoring = {'accuracy': 'accuracy',\n",
    "           'f1_weighted': 'f1_weighted',\n",
    "           'f1_micro': 'f1_micro',\n",
    "           'f1_macro': 'f1_macro'}\n",
    "scores = cross_validate(pipeline, X_mfccs_cv, y_cv, cv = 4, scoring=scoring)\n",
    "scores"
   ]
  },
  {
   "cell_type": "code",
   "execution_count": 19,
   "metadata": {},
   "outputs": [
    {
     "data": {
      "text/plain": [
       "{'accuracy': 0.7542341966751784,\n",
       " 'f1_weighted': 0.7356814978323394,\n",
       " 'f1_micro': 0.7542341966751784,\n",
       " 'f1_macro': 0.7333266074791499}"
      ]
     },
     "execution_count": 19,
     "metadata": {},
     "output_type": "execute_result"
    }
   ],
   "source": [
    "metrcs = ['accuracy', 'f1_weighted', 'f1_micro', 'f1_macro']\n",
    "final_scores = {k: scores['test_' + k].mean() for k in metrcs}\n",
    "final_scores"
   ]
  },
  {
   "cell_type": "code",
   "execution_count": 20,
   "metadata": {},
   "outputs": [],
   "source": [
    "with open(f'cross_validation_scores/{model_name}_354.json', 'w') as f:\n",
    "    json.dump(final_scores, f)"
   ]
  },
  {
   "cell_type": "markdown",
   "metadata": {},
   "source": [
    "гипотеза: увеличение тренировочных данных - выше метрика"
   ]
  },
  {
   "cell_type": "code",
   "execution_count": 21,
   "metadata": {},
   "outputs": [
    {
     "name": "stdout",
     "output_type": "stream",
     "text": [
      "354\n",
      "354\n"
     ]
    }
   ],
   "source": [
    "df_t = get_dataframe(df, 100, 20)\n",
    "df_cross_val = get_dataframe(df, 100, 14)"
   ]
  },
  {
   "cell_type": "code",
   "execution_count": 22,
   "metadata": {},
   "outputs": [
    {
     "data": {
      "text/plain": [
       "((4956, 498), (4956, 60), (4956,))"
      ]
     },
     "execution_count": 22,
     "metadata": {},
     "output_type": "execute_result"
    }
   ],
   "source": [
    "X = np.vstack(df_t.audio_feature.to_numpy()).reshape(df_t.shape[0] , -1)\n",
    "le = LabelEncoder()\n",
    "y = le.fit_transform(df_t.source_id)\n",
    "X_mfccs = X[:, 36 + 384: 36 + 384 + 60] #mfcc only\n",
    "\n",
    "X_cv = np.vstack(df_cross_val.audio_feature.to_numpy()).reshape(df_cross_val.shape[0] , -1)\n",
    "le_cv = LabelEncoder()\n",
    "y_cv = le.fit_transform(df_cross_val.source_id)\n",
    "X_mfccs_cv = X_cv[:, 36 + 384: 36 + 384 + 60] #mfcc only\n",
    "X_cv.shape, X_mfccs_cv.shape, y_cv.shape"
   ]
  },
  {
   "cell_type": "code",
   "execution_count": 23,
   "metadata": {},
   "outputs": [
    {
     "data": {
      "application/vnd.jupyter.widget-view+json": {
       "model_id": "cc3581cb3f104c1cbafe28272cd5c158",
       "version_major": 2,
       "version_minor": 0
      },
      "text/plain": [
       "Downloading artifacts:   0%|          | 0/10 [00:00<?, ?it/s]"
      ]
     },
     "metadata": {},
     "output_type": "display_data"
    },
    {
     "name": "stderr",
     "output_type": "stream",
     "text": [
      "2024/05/09 17:10:49 INFO mlflow.store.artifact.artifact_repo: The progress bar can be disabled by setting the environment variable MLFLOW_ENABLE_ARTIFACTS_PROGRESS_BAR to false\n"
     ]
    }
   ],
   "source": [
    "experiment = 'only mfcc 354 classes'\n",
    "model_name = 'svc gsc'\n",
    "loaded_model, params = get_model_and_params(experiment, model_name)"
   ]
  },
  {
   "cell_type": "code",
   "execution_count": 24,
   "metadata": {},
   "outputs": [
    {
     "data": {
      "text/plain": [
       "{'fit_time': array([2.38389134, 2.30820179, 2.24736381, 2.29371357]),\n",
       " 'score_time': array([2.89615369, 2.90902781, 2.89018297, 3.2234652 ]),\n",
       " 'test_accuracy': array([0.82001614, 0.84665052, 0.8393866 , 0.83131558]),\n",
       " 'test_f1_weighted': array([0.81441218, 0.84446034, 0.83316422, 0.82510823]),\n",
       " 'test_f1_micro': array([0.82001614, 0.84665052, 0.8393866 , 0.83131558]),\n",
       " 'test_f1_macro': array([0.81541788, 0.84249456, 0.83281712, 0.82330142])}"
      ]
     },
     "execution_count": 24,
     "metadata": {},
     "output_type": "execute_result"
    }
   ],
   "source": [
    "scaler = StandardScaler()\n",
    "model_svc = SVC(**params)\n",
    "\n",
    "pipeline = Pipeline([('scaler', scaler), ('svc', model_svc)])\n",
    "\n",
    "scoring = {'accuracy': 'accuracy',\n",
    "           'f1_weighted': 'f1_weighted',\n",
    "           'f1_micro': 'f1_micro',\n",
    "           'f1_macro': 'f1_macro'}\n",
    "scores = cross_validate(pipeline, X_mfccs_cv, y_cv, cv = 4, scoring=scoring)\n",
    "scores"
   ]
  },
  {
   "cell_type": "code",
   "execution_count": 25,
   "metadata": {},
   "outputs": [
    {
     "data": {
      "text/plain": [
       "{'accuracy': 0.8343422114608554,\n",
       " 'f1_weighted': 0.8292862426337003,\n",
       " 'f1_micro': 0.8343422114608554,\n",
       " 'f1_macro': 0.8285077446094394}"
      ]
     },
     "execution_count": 25,
     "metadata": {},
     "output_type": "execute_result"
    }
   ],
   "source": [
    "metrcs = ['accuracy', 'f1_weighted', 'f1_micro', 'f1_macro']\n",
    "final_scores = {k: scores['test_' + k].mean() for k in metrcs}\n",
    "final_scores"
   ]
  },
  {
   "cell_type": "code",
   "execution_count": 26,
   "metadata": {},
   "outputs": [],
   "source": [
    "with open(f'cross_validation_scores/{model_name}_354_more_data.json', 'w') as f:\n",
    "    json.dump(final_scores, f)"
   ]
  },
  {
   "cell_type": "markdown",
   "metadata": {},
   "source": [
    "## Классификация, 102 класса, все доступные фичи. Лучшая модель - catboost tuned"
   ]
  },
  {
   "cell_type": "code",
   "execution_count": 11,
   "metadata": {},
   "outputs": [
    {
     "data": {
      "application/vnd.jupyter.widget-view+json": {
       "model_id": "727fe6dffd0c423da5b079e3d743e7ef",
       "version_major": 2,
       "version_minor": 0
      },
      "text/plain": [
       "Downloading artifacts:   0%|          | 0/9 [00:00<?, ?it/s]"
      ]
     },
     "metadata": {},
     "output_type": "display_data"
    }
   ],
   "source": [
    "experiment = '102 classes, 5 per class'\n",
    "model_name = 'catboost tuned'\n",
    "loaded_model, params = get_model_and_params(experiment, model_name)"
   ]
  },
  {
   "cell_type": "code",
   "execution_count": 13,
   "metadata": {},
   "outputs": [
    {
     "data": {
      "text/plain": [
       "0.9065314315314316"
      ]
     },
     "execution_count": 13,
     "metadata": {},
     "output_type": "execute_result"
    }
   ],
   "source": [
    "X_train, X_val, y_train, y_val = train_test_split(X, y, test_size=0.5, random_state=42, stratify=y)\n",
    "\n",
    "metrics.f1_score(y_val, loaded_model.predict(X_val), average='weighted')"
   ]
  },
  {
   "cell_type": "code",
   "execution_count": null,
   "metadata": {},
   "outputs": [],
   "source": [
    "params['devices'] = '0'\n",
    "model_cb = catboost.CatBoostClassifier(verbose=10, **params)\n",
    "\n",
    "pipeline = Pipeline([('catboost', model_cb)])\n",
    "\n",
    "scoring = {'accuracy': 'accuracy',\n",
    "           'f1_weighted': 'f1_weighted',\n",
    "           'f1_micro': 'f1_micro',\n",
    "           'f1_macro': 'f1_macro'}\n",
    "scores = cross_validate(pipeline, X_cv, y_cv, cv = 4, scoring=scoring)\n",
    "scores"
   ]
  },
  {
   "cell_type": "code",
   "execution_count": 21,
   "metadata": {},
   "outputs": [
    {
     "data": {
      "text/plain": [
       "{'accuracy': 0.9117522440524763,\n",
       " 'f1_weighted': 0.8989719056287382,\n",
       " 'f1_micro': 0.9117522440524763,\n",
       " 'f1_macro': 0.9014005602240897}"
      ]
     },
     "execution_count": 21,
     "metadata": {},
     "output_type": "execute_result"
    }
   ],
   "source": [
    "metrcs = ['accuracy', 'f1_weighted', 'f1_micro', 'f1_macro']\n",
    "final_scores = {k: scores['test_' + k].mean() for k in metrcs}\n",
    "final_scores"
   ]
  },
  {
   "cell_type": "code",
   "execution_count": 22,
   "metadata": {},
   "outputs": [],
   "source": [
    "with open(f'cross_validation_scores/{model_name}_102.json', 'w') as f:\n",
    "    json.dump(final_scores, f)"
   ]
  },
  {
   "cell_type": "markdown",
   "metadata": {},
   "source": [
    "## Классификация, 354 класса, все доступные фичи. Лучшая модель - catboost tuned"
   ]
  },
  {
   "cell_type": "code",
   "execution_count": 7,
   "metadata": {},
   "outputs": [
    {
     "name": "stdout",
     "output_type": "stream",
     "text": [
      "354\n",
      "354\n"
     ]
    }
   ],
   "source": [
    "df_t = get_dataframe(df, 100, 10)\n",
    "df_cross_val = get_dataframe(df, 100, 7)"
   ]
  },
  {
   "cell_type": "code",
   "execution_count": 8,
   "metadata": {},
   "outputs": [
    {
     "data": {
      "text/plain": [
       "((2478, 498), (2478,))"
      ]
     },
     "execution_count": 8,
     "metadata": {},
     "output_type": "execute_result"
    }
   ],
   "source": [
    "X = np.vstack(df_t.audio_feature.to_numpy()).reshape(df_t.shape[0] , -1)\n",
    "le = LabelEncoder()\n",
    "y = le.fit_transform(df_t.source_id)\n",
    "\n",
    "X_cv = np.vstack(df_cross_val.audio_feature.to_numpy()).reshape(df_cross_val.shape[0] , -1)\n",
    "le_cv = LabelEncoder()\n",
    "y_cv = le.fit_transform(df_cross_val.source_id)\n",
    "X_cv.shape, y_cv.shape"
   ]
  },
  {
   "cell_type": "code",
   "execution_count": 9,
   "metadata": {},
   "outputs": [
    {
     "data": {
      "application/vnd.jupyter.widget-view+json": {
       "model_id": "88866abeebbb4063aee89488e75296e7",
       "version_major": 2,
       "version_minor": 0
      },
      "text/plain": [
       "Downloading artifacts:   0%|          | 0/9 [00:00<?, ?it/s]"
      ]
     },
     "metadata": {},
     "output_type": "display_data"
    }
   ],
   "source": [
    "experiment = '354 classes, 5 per class'\n",
    "model_name = 'catboost tuned'\n",
    "loaded_model, params = get_model_and_params(experiment, model_name)"
   ]
  },
  {
   "cell_type": "code",
   "execution_count": 10,
   "metadata": {},
   "outputs": [
    {
     "data": {
      "text/plain": [
       "0.8702095142773109"
      ]
     },
     "execution_count": 10,
     "metadata": {},
     "output_type": "execute_result"
    }
   ],
   "source": [
    "X_train, X_val, y_train, y_val = train_test_split(X, y, test_size=0.5, random_state=42, stratify=y)\n",
    "\n",
    "metrics.f1_score(y_val, loaded_model.predict(X_val), average='weighted')"
   ]
  },
  {
   "cell_type": "code",
   "execution_count": 11,
   "metadata": {},
   "outputs": [
    {
     "name": "stdout",
     "output_type": "stream",
     "text": [
      "Learning rate set to 0.073649\n",
      "0:\tlearn: 5.8689856\ttotal: 93.1ms\tremaining: 1m 32s\n",
      "10:\tlearn: 5.7389519\ttotal: 1.6s\tremaining: 2m 24s\n",
      "20:\tlearn: 5.7292819\ttotal: 2.51s\tremaining: 1m 57s\n",
      "30:\tlearn: 5.7054912\ttotal: 3.5s\tremaining: 1m 49s\n",
      "40:\tlearn: 5.5789402\ttotal: 4.99s\tremaining: 1m 56s\n",
      "50:\tlearn: 5.4824308\ttotal: 6.88s\tremaining: 2m 8s\n",
      "60:\tlearn: 5.4556111\ttotal: 9.65s\tremaining: 2m 28s\n",
      "70:\tlearn: 5.4497086\ttotal: 12s\tremaining: 2m 37s\n",
      "80:\tlearn: 5.4367332\ttotal: 14.4s\tremaining: 2m 43s\n",
      "90:\tlearn: 5.4058905\ttotal: 17.3s\tremaining: 2m 52s\n",
      "100:\tlearn: 5.3470770\ttotal: 20.2s\tremaining: 3m\n",
      "110:\tlearn: 5.0344230\ttotal: 26.6s\tremaining: 3m 32s\n",
      "120:\tlearn: 4.7117664\ttotal: 33.8s\tremaining: 4m 5s\n",
      "130:\tlearn: 4.4195624\ttotal: 41.1s\tremaining: 4m 32s\n",
      "140:\tlearn: 4.1708548\ttotal: 48.4s\tremaining: 4m 55s\n",
      "150:\tlearn: 3.9541113\ttotal: 55.7s\tremaining: 5m 13s\n",
      "160:\tlearn: 3.7112894\ttotal: 1m 2s\tremaining: 5m 28s\n",
      "170:\tlearn: 3.5210962\ttotal: 1m 10s\tremaining: 5m 40s\n",
      "180:\tlearn: 3.3086190\ttotal: 1m 17s\tremaining: 5m 50s\n",
      "190:\tlearn: 3.0929206\ttotal: 1m 24s\tremaining: 5m 59s\n",
      "200:\tlearn: 2.8840471\ttotal: 1m 32s\tremaining: 6m 6s\n",
      "210:\tlearn: 2.6848242\ttotal: 1m 39s\tremaining: 6m 11s\n",
      "220:\tlearn: 2.5053877\ttotal: 1m 46s\tremaining: 6m 16s\n",
      "230:\tlearn: 2.3776354\ttotal: 1m 54s\tremaining: 6m 19s\n",
      "240:\tlearn: 2.2243747\ttotal: 2m 1s\tremaining: 6m 22s\n",
      "250:\tlearn: 2.0827405\ttotal: 2m 8s\tremaining: 6m 23s\n",
      "260:\tlearn: 1.9578208\ttotal: 2m 16s\tremaining: 6m 25s\n",
      "270:\tlearn: 1.8300926\ttotal: 2m 23s\tremaining: 6m 25s\n",
      "280:\tlearn: 1.7035238\ttotal: 2m 30s\tremaining: 6m 25s\n",
      "290:\tlearn: 1.5878236\ttotal: 2m 38s\tremaining: 6m 25s\n",
      "300:\tlearn: 1.4861376\ttotal: 2m 45s\tremaining: 6m 23s\n",
      "310:\tlearn: 1.3956475\ttotal: 2m 52s\tremaining: 6m 21s\n",
      "320:\tlearn: 1.2977918\ttotal: 2m 59s\tremaining: 6m 19s\n",
      "330:\tlearn: 1.2144247\ttotal: 3m 6s\tremaining: 6m 16s\n",
      "340:\tlearn: 1.1457794\ttotal: 3m 13s\tremaining: 6m 13s\n",
      "350:\tlearn: 1.0710565\ttotal: 3m 20s\tremaining: 6m 10s\n",
      "360:\tlearn: 1.0034123\ttotal: 3m 27s\tremaining: 6m 7s\n",
      "370:\tlearn: 0.9483097\ttotal: 3m 34s\tremaining: 6m 3s\n",
      "380:\tlearn: 0.8899595\ttotal: 3m 41s\tremaining: 5m 59s\n",
      "390:\tlearn: 0.8368873\ttotal: 3m 48s\tremaining: 5m 55s\n",
      "400:\tlearn: 0.7943769\ttotal: 3m 55s\tremaining: 5m 51s\n",
      "410:\tlearn: 0.7530409\ttotal: 4m 2s\tremaining: 5m 47s\n",
      "420:\tlearn: 0.7135973\ttotal: 4m 9s\tremaining: 5m 43s\n",
      "430:\tlearn: 0.6801588\ttotal: 4m 16s\tremaining: 5m 38s\n",
      "440:\tlearn: 0.6483904\ttotal: 4m 23s\tremaining: 5m 33s\n",
      "450:\tlearn: 0.6179838\ttotal: 4m 30s\tremaining: 5m 28s\n",
      "460:\tlearn: 0.5874217\ttotal: 4m 36s\tremaining: 5m 23s\n",
      "470:\tlearn: 0.5626060\ttotal: 4m 43s\tremaining: 5m 18s\n",
      "480:\tlearn: 0.5396524\ttotal: 4m 50s\tremaining: 5m 13s\n",
      "490:\tlearn: 0.5136171\ttotal: 4m 57s\tremaining: 5m 8s\n",
      "500:\tlearn: 0.4919502\ttotal: 5m 4s\tremaining: 5m 3s\n",
      "510:\tlearn: 0.4699984\ttotal: 5m 11s\tremaining: 4m 57s\n",
      "520:\tlearn: 0.4465086\ttotal: 5m 18s\tremaining: 4m 52s\n",
      "530:\tlearn: 0.4259876\ttotal: 5m 24s\tremaining: 4m 46s\n",
      "540:\tlearn: 0.4098239\ttotal: 5m 31s\tremaining: 4m 41s\n",
      "550:\tlearn: 0.3950687\ttotal: 5m 38s\tremaining: 4m 35s\n",
      "560:\tlearn: 0.3780822\ttotal: 5m 44s\tremaining: 4m 29s\n",
      "570:\tlearn: 0.3651941\ttotal: 5m 51s\tremaining: 4m 24s\n",
      "580:\tlearn: 0.3528896\ttotal: 5m 58s\tremaining: 4m 18s\n",
      "590:\tlearn: 0.3402866\ttotal: 6m 5s\tremaining: 4m 12s\n",
      "600:\tlearn: 0.3279375\ttotal: 6m 12s\tremaining: 4m 7s\n",
      "610:\tlearn: 0.3172609\ttotal: 6m 18s\tremaining: 4m 1s\n",
      "620:\tlearn: 0.3075226\ttotal: 6m 25s\tremaining: 3m 55s\n",
      "630:\tlearn: 0.2968636\ttotal: 6m 32s\tremaining: 3m 49s\n",
      "640:\tlearn: 0.2888797\ttotal: 6m 39s\tremaining: 3m 43s\n",
      "650:\tlearn: 0.2785535\ttotal: 6m 45s\tremaining: 3m 37s\n",
      "660:\tlearn: 0.2696371\ttotal: 6m 52s\tremaining: 3m 31s\n",
      "670:\tlearn: 0.2625148\ttotal: 6m 59s\tremaining: 3m 25s\n",
      "680:\tlearn: 0.2540085\ttotal: 7m 6s\tremaining: 3m 19s\n",
      "690:\tlearn: 0.2460543\ttotal: 7m 13s\tremaining: 3m 13s\n",
      "700:\tlearn: 0.2390848\ttotal: 7m 19s\tremaining: 3m 7s\n",
      "710:\tlearn: 0.2336757\ttotal: 7m 26s\tremaining: 3m 1s\n",
      "720:\tlearn: 0.2274053\ttotal: 7m 33s\tremaining: 2m 55s\n",
      "730:\tlearn: 0.2214567\ttotal: 7m 39s\tremaining: 2m 49s\n",
      "740:\tlearn: 0.2157537\ttotal: 7m 46s\tremaining: 2m 43s\n",
      "750:\tlearn: 0.2109343\ttotal: 7m 53s\tremaining: 2m 36s\n",
      "760:\tlearn: 0.2056145\ttotal: 7m 59s\tremaining: 2m 30s\n",
      "770:\tlearn: 0.2009108\ttotal: 8m 6s\tremaining: 2m 24s\n",
      "780:\tlearn: 0.1960690\ttotal: 8m 13s\tremaining: 2m 18s\n",
      "790:\tlearn: 0.1915310\ttotal: 8m 19s\tremaining: 2m 11s\n",
      "800:\tlearn: 0.1877038\ttotal: 8m 25s\tremaining: 2m 5s\n",
      "810:\tlearn: 0.1830706\ttotal: 8m 32s\tremaining: 1m 59s\n",
      "820:\tlearn: 0.1791012\ttotal: 8m 39s\tremaining: 1m 53s\n",
      "830:\tlearn: 0.1755542\ttotal: 8m 46s\tremaining: 1m 46s\n",
      "840:\tlearn: 0.1708895\ttotal: 8m 52s\tremaining: 1m 40s\n",
      "850:\tlearn: 0.1677933\ttotal: 8m 59s\tremaining: 1m 34s\n",
      "860:\tlearn: 0.1645894\ttotal: 9m 6s\tremaining: 1m 28s\n",
      "870:\tlearn: 0.1609978\ttotal: 9m 12s\tremaining: 1m 21s\n",
      "880:\tlearn: 0.1575672\ttotal: 9m 19s\tremaining: 1m 15s\n",
      "890:\tlearn: 0.1548402\ttotal: 9m 26s\tremaining: 1m 9s\n",
      "900:\tlearn: 0.1518657\ttotal: 9m 32s\tremaining: 1m 2s\n",
      "910:\tlearn: 0.1483503\ttotal: 9m 39s\tremaining: 56.6s\n",
      "920:\tlearn: 0.1454486\ttotal: 9m 45s\tremaining: 50.3s\n",
      "930:\tlearn: 0.1427499\ttotal: 9m 52s\tremaining: 43.9s\n",
      "940:\tlearn: 0.1402417\ttotal: 9m 59s\tremaining: 37.6s\n",
      "950:\tlearn: 0.1379111\ttotal: 10m 5s\tremaining: 31.2s\n",
      "960:\tlearn: 0.1357677\ttotal: 10m 11s\tremaining: 24.8s\n",
      "970:\tlearn: 0.1332048\ttotal: 10m 18s\tremaining: 18.5s\n",
      "980:\tlearn: 0.1311418\ttotal: 10m 24s\tremaining: 12.1s\n",
      "990:\tlearn: 0.1291279\ttotal: 10m 30s\tremaining: 5.73s\n",
      "999:\tlearn: 0.1270758\ttotal: 10m 36s\tremaining: 0us\n",
      "Learning rate set to 0.073649\n",
      "0:\tlearn: 5.8096040\ttotal: 750ms\tremaining: 12m 29s\n",
      "10:\tlearn: 5.7038897\ttotal: 3.83s\tremaining: 5m 43s\n",
      "20:\tlearn: 5.6494861\ttotal: 6.42s\tremaining: 4m 59s\n",
      "30:\tlearn: 5.6376543\ttotal: 8.68s\tremaining: 4m 31s\n",
      "40:\tlearn: 5.5810494\ttotal: 11.3s\tremaining: 4m 23s\n",
      "50:\tlearn: 5.4823015\ttotal: 14.3s\tremaining: 4m 26s\n",
      "60:\tlearn: 5.4473707\ttotal: 16.9s\tremaining: 4m 20s\n",
      "70:\tlearn: 5.4206225\ttotal: 19.2s\tremaining: 4m 11s\n",
      "80:\tlearn: 5.4119044\ttotal: 21.5s\tremaining: 4m 3s\n",
      "90:\tlearn: 5.3806323\ttotal: 24s\tremaining: 3m 59s\n",
      "100:\tlearn: 5.2506896\ttotal: 27.8s\tremaining: 4m 7s\n",
      "110:\tlearn: 4.9649646\ttotal: 33.3s\tremaining: 4m 26s\n",
      "120:\tlearn: 4.6875011\ttotal: 39.9s\tremaining: 4m 49s\n",
      "130:\tlearn: 4.3975981\ttotal: 46.4s\tremaining: 5m 8s\n",
      "140:\tlearn: 4.1434564\ttotal: 52.9s\tremaining: 5m 22s\n",
      "150:\tlearn: 3.8856166\ttotal: 59.6s\tremaining: 5m 35s\n",
      "160:\tlearn: 3.6680980\ttotal: 1m 6s\tremaining: 5m 45s\n",
      "170:\tlearn: 3.4418672\ttotal: 1m 12s\tremaining: 5m 53s\n",
      "180:\tlearn: 3.2255744\ttotal: 1m 19s\tremaining: 6m\n",
      "190:\tlearn: 3.0387634\ttotal: 1m 26s\tremaining: 6m 4s\n",
      "200:\tlearn: 2.8544572\ttotal: 1m 32s\tremaining: 6m 9s\n",
      "210:\tlearn: 2.6519848\ttotal: 1m 39s\tremaining: 6m 12s\n",
      "220:\tlearn: 2.4810038\ttotal: 1m 46s\tremaining: 6m 14s\n",
      "230:\tlearn: 2.3261041\ttotal: 1m 52s\tremaining: 6m 15s\n",
      "240:\tlearn: 2.1679806\ttotal: 1m 59s\tremaining: 6m 16s\n",
      "250:\tlearn: 2.0229069\ttotal: 2m 6s\tremaining: 6m 16s\n",
      "260:\tlearn: 1.8994506\ttotal: 2m 12s\tremaining: 6m 16s\n",
      "270:\tlearn: 1.7728086\ttotal: 2m 19s\tremaining: 6m 15s\n",
      "280:\tlearn: 1.6692935\ttotal: 2m 26s\tremaining: 6m 13s\n",
      "290:\tlearn: 1.5513997\ttotal: 2m 32s\tremaining: 6m 12s\n",
      "300:\tlearn: 1.4553882\ttotal: 2m 39s\tremaining: 6m 9s\n",
      "310:\tlearn: 1.3537332\ttotal: 2m 45s\tremaining: 6m 7s\n",
      "320:\tlearn: 1.2653341\ttotal: 2m 52s\tremaining: 6m 5s\n",
      "330:\tlearn: 1.1744984\ttotal: 2m 59s\tremaining: 6m 2s\n",
      "340:\tlearn: 1.0981125\ttotal: 3m 6s\tremaining: 5m 59s\n",
      "350:\tlearn: 1.0382628\ttotal: 3m 12s\tremaining: 5m 56s\n",
      "360:\tlearn: 0.9806768\ttotal: 3m 19s\tremaining: 5m 52s\n",
      "370:\tlearn: 0.9279024\ttotal: 3m 26s\tremaining: 5m 49s\n",
      "380:\tlearn: 0.8814950\ttotal: 3m 32s\tremaining: 5m 45s\n",
      "390:\tlearn: 0.8306121\ttotal: 3m 39s\tremaining: 5m 41s\n",
      "400:\tlearn: 0.7874063\ttotal: 3m 45s\tremaining: 5m 37s\n",
      "410:\tlearn: 0.7487934\ttotal: 3m 52s\tremaining: 5m 32s\n",
      "420:\tlearn: 0.7076345\ttotal: 3m 58s\tremaining: 5m 28s\n",
      "430:\tlearn: 0.6678578\ttotal: 4m 5s\tremaining: 5m 24s\n",
      "440:\tlearn: 0.6345049\ttotal: 4m 12s\tremaining: 5m 19s\n",
      "450:\tlearn: 0.6000634\ttotal: 4m 19s\tremaining: 5m 15s\n",
      "460:\tlearn: 0.5731591\ttotal: 4m 26s\tremaining: 5m 11s\n",
      "470:\tlearn: 0.5486050\ttotal: 4m 34s\tremaining: 5m 7s\n",
      "480:\tlearn: 0.5255777\ttotal: 4m 41s\tremaining: 5m 3s\n",
      "490:\tlearn: 0.5022271\ttotal: 4m 48s\tremaining: 4m 59s\n",
      "500:\tlearn: 0.4812558\ttotal: 4m 55s\tremaining: 4m 54s\n",
      "510:\tlearn: 0.4635242\ttotal: 5m 2s\tremaining: 4m 49s\n",
      "520:\tlearn: 0.4452918\ttotal: 5m 9s\tremaining: 4m 44s\n",
      "530:\tlearn: 0.4272145\ttotal: 5m 16s\tremaining: 4m 39s\n",
      "540:\tlearn: 0.4109758\ttotal: 5m 24s\tremaining: 4m 34s\n",
      "550:\tlearn: 0.3937932\ttotal: 5m 31s\tremaining: 4m 29s\n",
      "560:\tlearn: 0.3814348\ttotal: 5m 38s\tremaining: 4m 24s\n",
      "570:\tlearn: 0.3674332\ttotal: 5m 46s\tremaining: 4m 20s\n",
      "580:\tlearn: 0.3533147\ttotal: 5m 54s\tremaining: 4m 15s\n",
      "590:\tlearn: 0.3401451\ttotal: 6m 2s\tremaining: 4m 10s\n",
      "600:\tlearn: 0.3283349\ttotal: 6m 9s\tremaining: 4m 5s\n",
      "610:\tlearn: 0.3178393\ttotal: 6m 16s\tremaining: 3m 59s\n",
      "620:\tlearn: 0.3069588\ttotal: 6m 23s\tremaining: 3m 53s\n",
      "630:\tlearn: 0.2973635\ttotal: 6m 29s\tremaining: 3m 48s\n",
      "640:\tlearn: 0.2890786\ttotal: 6m 36s\tremaining: 3m 42s\n",
      "650:\tlearn: 0.2812835\ttotal: 6m 43s\tremaining: 3m 36s\n",
      "660:\tlearn: 0.2753158\ttotal: 6m 50s\tremaining: 3m 30s\n",
      "670:\tlearn: 0.2673692\ttotal: 6m 57s\tremaining: 3m 24s\n",
      "680:\tlearn: 0.2601660\ttotal: 7m 4s\tremaining: 3m 18s\n",
      "690:\tlearn: 0.2540469\ttotal: 7m 11s\tremaining: 3m 12s\n",
      "700:\tlearn: 0.2467946\ttotal: 7m 17s\tremaining: 3m 6s\n",
      "710:\tlearn: 0.2401004\ttotal: 7m 24s\tremaining: 3m\n",
      "720:\tlearn: 0.2325513\ttotal: 7m 31s\tremaining: 2m 54s\n",
      "730:\tlearn: 0.2268932\ttotal: 7m 38s\tremaining: 2m 48s\n",
      "740:\tlearn: 0.2214129\ttotal: 7m 45s\tremaining: 2m 42s\n",
      "750:\tlearn: 0.2157632\ttotal: 7m 52s\tremaining: 2m 36s\n",
      "760:\tlearn: 0.2103046\ttotal: 7m 59s\tremaining: 2m 30s\n",
      "770:\tlearn: 0.2055118\ttotal: 8m 5s\tremaining: 2m 24s\n",
      "780:\tlearn: 0.2011797\ttotal: 8m 12s\tremaining: 2m 18s\n",
      "790:\tlearn: 0.1969904\ttotal: 8m 19s\tremaining: 2m 11s\n",
      "800:\tlearn: 0.1917355\ttotal: 8m 26s\tremaining: 2m 5s\n",
      "810:\tlearn: 0.1879487\ttotal: 8m 32s\tremaining: 1m 59s\n",
      "820:\tlearn: 0.1841231\ttotal: 8m 39s\tremaining: 1m 53s\n",
      "830:\tlearn: 0.1802493\ttotal: 8m 46s\tremaining: 1m 46s\n",
      "840:\tlearn: 0.1760426\ttotal: 8m 52s\tremaining: 1m 40s\n",
      "850:\tlearn: 0.1726177\ttotal: 8m 59s\tremaining: 1m 34s\n",
      "860:\tlearn: 0.1695022\ttotal: 9m 5s\tremaining: 1m 28s\n",
      "870:\tlearn: 0.1668100\ttotal: 9m 12s\tremaining: 1m 21s\n",
      "880:\tlearn: 0.1640536\ttotal: 9m 16s\tremaining: 1m 15s\n",
      "890:\tlearn: 0.1608517\ttotal: 9m 19s\tremaining: 1m 8s\n",
      "900:\tlearn: 0.1581767\ttotal: 9m 23s\tremaining: 1m 1s\n",
      "910:\tlearn: 0.1552406\ttotal: 9m 25s\tremaining: 55.3s\n",
      "920:\tlearn: 0.1527671\ttotal: 9m 27s\tremaining: 48.7s\n",
      "930:\tlearn: 0.1498778\ttotal: 9m 30s\tremaining: 42.3s\n",
      "940:\tlearn: 0.1470703\ttotal: 9m 32s\tremaining: 35.9s\n",
      "950:\tlearn: 0.1443544\ttotal: 9m 34s\tremaining: 29.6s\n",
      "960:\tlearn: 0.1427294\ttotal: 9m 36s\tremaining: 23.4s\n",
      "970:\tlearn: 0.1402762\ttotal: 9m 38s\tremaining: 17.3s\n",
      "980:\tlearn: 0.1377477\ttotal: 9m 41s\tremaining: 11.3s\n",
      "990:\tlearn: 0.1356129\ttotal: 9m 43s\tremaining: 5.3s\n",
      "999:\tlearn: 0.1334834\ttotal: 9m 45s\tremaining: 0us\n",
      "Learning rate set to 0.073657\n",
      "0:\tlearn: 5.8689872\ttotal: 71.8ms\tremaining: 1m 11s\n",
      "10:\tlearn: 5.8353707\ttotal: 825ms\tremaining: 1m 14s\n",
      "20:\tlearn: 5.8131482\ttotal: 1.56s\tremaining: 1m 12s\n",
      "30:\tlearn: 5.7425195\ttotal: 2.45s\tremaining: 1m 16s\n",
      "40:\tlearn: 5.6773856\ttotal: 3.4s\tremaining: 1m 19s\n",
      "50:\tlearn: 5.6490994\ttotal: 4.13s\tremaining: 1m 16s\n",
      "60:\tlearn: 5.6083317\ttotal: 4.94s\tremaining: 1m 16s\n",
      "70:\tlearn: 5.5573220\ttotal: 5.83s\tremaining: 1m 16s\n",
      "80:\tlearn: 5.4941207\ttotal: 6.76s\tremaining: 1m 16s\n",
      "90:\tlearn: 5.4374848\ttotal: 7.65s\tremaining: 1m 16s\n",
      "100:\tlearn: 5.3313011\ttotal: 8.86s\tremaining: 1m 18s\n",
      "110:\tlearn: 5.0652668\ttotal: 10.8s\tremaining: 1m 26s\n",
      "120:\tlearn: 4.7312714\ttotal: 12.9s\tremaining: 1m 33s\n",
      "130:\tlearn: 4.4583656\ttotal: 15.2s\tremaining: 1m 40s\n",
      "140:\tlearn: 4.1582026\ttotal: 17.5s\tremaining: 1m 46s\n",
      "150:\tlearn: 3.9218663\ttotal: 19.7s\tremaining: 1m 50s\n",
      "160:\tlearn: 3.6749297\ttotal: 22s\tremaining: 1m 54s\n",
      "170:\tlearn: 3.4501499\ttotal: 24.3s\tremaining: 1m 57s\n",
      "180:\tlearn: 3.2761870\ttotal: 26.7s\tremaining: 2m\n",
      "190:\tlearn: 3.0546292\ttotal: 29s\tremaining: 2m 2s\n",
      "200:\tlearn: 2.8653723\ttotal: 31.3s\tremaining: 2m 4s\n",
      "210:\tlearn: 2.6740614\ttotal: 33.6s\tremaining: 2m 5s\n",
      "220:\tlearn: 2.5078860\ttotal: 35.9s\tremaining: 2m 6s\n",
      "230:\tlearn: 2.3444912\ttotal: 38.2s\tremaining: 2m 7s\n",
      "240:\tlearn: 2.1814011\ttotal: 40.5s\tremaining: 2m 7s\n",
      "250:\tlearn: 2.0270779\ttotal: 42.9s\tremaining: 2m 7s\n",
      "260:\tlearn: 1.8736365\ttotal: 48.7s\tremaining: 2m 17s\n",
      "270:\tlearn: 1.7405657\ttotal: 55.7s\tremaining: 2m 29s\n",
      "280:\tlearn: 1.6092923\ttotal: 1m 2s\tremaining: 2m 40s\n",
      "290:\tlearn: 1.5011673\ttotal: 1m 9s\tremaining: 2m 50s\n",
      "300:\tlearn: 1.4129599\ttotal: 1m 16s\tremaining: 2m 58s\n",
      "310:\tlearn: 1.3177077\ttotal: 1m 23s\tremaining: 3m 5s\n",
      "320:\tlearn: 1.2370380\ttotal: 1m 30s\tremaining: 3m 12s\n",
      "330:\tlearn: 1.1584494\ttotal: 1m 37s\tremaining: 3m 17s\n",
      "340:\tlearn: 1.0800375\ttotal: 1m 44s\tremaining: 3m 22s\n",
      "350:\tlearn: 1.0089983\ttotal: 1m 51s\tremaining: 3m 26s\n",
      "360:\tlearn: 0.9490609\ttotal: 1m 58s\tremaining: 3m 30s\n",
      "370:\tlearn: 0.9035107\ttotal: 2m 5s\tremaining: 3m 33s\n",
      "380:\tlearn: 0.8531321\ttotal: 2m 12s\tremaining: 3m 35s\n",
      "390:\tlearn: 0.8010590\ttotal: 2m 19s\tremaining: 3m 37s\n",
      "400:\tlearn: 0.7629457\ttotal: 2m 26s\tremaining: 3m 38s\n",
      "410:\tlearn: 0.7221254\ttotal: 2m 33s\tremaining: 3m 39s\n",
      "420:\tlearn: 0.6806773\ttotal: 2m 40s\tremaining: 3m 40s\n",
      "430:\tlearn: 0.6493223\ttotal: 2m 47s\tremaining: 3m 41s\n",
      "440:\tlearn: 0.6155888\ttotal: 2m 54s\tremaining: 3m 41s\n",
      "450:\tlearn: 0.5837896\ttotal: 3m 1s\tremaining: 3m 40s\n",
      "460:\tlearn: 0.5620164\ttotal: 3m 8s\tremaining: 3m 39s\n",
      "470:\tlearn: 0.5402753\ttotal: 3m 14s\tremaining: 3m 38s\n",
      "480:\tlearn: 0.5175784\ttotal: 3m 21s\tremaining: 3m 37s\n",
      "490:\tlearn: 0.4973346\ttotal: 3m 28s\tremaining: 3m 36s\n",
      "500:\tlearn: 0.4763211\ttotal: 3m 32s\tremaining: 3m 31s\n",
      "510:\tlearn: 0.4576231\ttotal: 3m 34s\tremaining: 3m 25s\n",
      "520:\tlearn: 0.4425157\ttotal: 3m 36s\tremaining: 3m 19s\n",
      "530:\tlearn: 0.4275381\ttotal: 3m 39s\tremaining: 3m 13s\n",
      "540:\tlearn: 0.4123571\ttotal: 3m 41s\tremaining: 3m 8s\n",
      "550:\tlearn: 0.3979744\ttotal: 3m 43s\tremaining: 3m 2s\n",
      "560:\tlearn: 0.3827875\ttotal: 3m 46s\tremaining: 2m 57s\n",
      "570:\tlearn: 0.3689776\ttotal: 3m 48s\tremaining: 2m 51s\n",
      "580:\tlearn: 0.3565814\ttotal: 3m 50s\tremaining: 2m 46s\n",
      "590:\tlearn: 0.3417524\ttotal: 3m 53s\tremaining: 2m 41s\n",
      "600:\tlearn: 0.3320370\ttotal: 3m 55s\tremaining: 2m 36s\n",
      "610:\tlearn: 0.3218868\ttotal: 3m 57s\tremaining: 2m 31s\n",
      "620:\tlearn: 0.3110142\ttotal: 4m\tremaining: 2m 26s\n",
      "630:\tlearn: 0.3017734\ttotal: 4m 2s\tremaining: 2m 21s\n",
      "640:\tlearn: 0.2910883\ttotal: 4m 4s\tremaining: 2m 16s\n",
      "650:\tlearn: 0.2824503\ttotal: 4m 6s\tremaining: 2m 12s\n",
      "660:\tlearn: 0.2728371\ttotal: 4m 9s\tremaining: 2m 7s\n",
      "670:\tlearn: 0.2659309\ttotal: 4m 11s\tremaining: 2m 3s\n",
      "680:\tlearn: 0.2584795\ttotal: 4m 13s\tremaining: 1m 58s\n",
      "690:\tlearn: 0.2509419\ttotal: 4m 15s\tremaining: 1m 54s\n",
      "700:\tlearn: 0.2440593\ttotal: 4m 18s\tremaining: 1m 50s\n",
      "710:\tlearn: 0.2381694\ttotal: 4m 20s\tremaining: 1m 45s\n",
      "720:\tlearn: 0.2330802\ttotal: 4m 22s\tremaining: 1m 41s\n",
      "730:\tlearn: 0.2265363\ttotal: 4m 24s\tremaining: 1m 37s\n",
      "740:\tlearn: 0.2203717\ttotal: 4m 27s\tremaining: 1m 33s\n",
      "750:\tlearn: 0.2143228\ttotal: 4m 29s\tremaining: 1m 29s\n",
      "760:\tlearn: 0.2089875\ttotal: 4m 31s\tremaining: 1m 25s\n",
      "770:\tlearn: 0.2050204\ttotal: 4m 33s\tremaining: 1m 21s\n",
      "780:\tlearn: 0.2001354\ttotal: 4m 36s\tremaining: 1m 17s\n",
      "790:\tlearn: 0.1957933\ttotal: 4m 38s\tremaining: 1m 13s\n",
      "800:\tlearn: 0.1903632\ttotal: 4m 40s\tremaining: 1m 9s\n",
      "810:\tlearn: 0.1860478\ttotal: 4m 42s\tremaining: 1m 5s\n",
      "820:\tlearn: 0.1821675\ttotal: 4m 45s\tremaining: 1m 2s\n",
      "830:\tlearn: 0.1780470\ttotal: 4m 47s\tremaining: 58.4s\n",
      "840:\tlearn: 0.1748044\ttotal: 4m 49s\tremaining: 54.7s\n",
      "850:\tlearn: 0.1708402\ttotal: 4m 51s\tremaining: 51.1s\n",
      "860:\tlearn: 0.1672255\ttotal: 4m 53s\tremaining: 47.5s\n",
      "870:\tlearn: 0.1635689\ttotal: 4m 56s\tremaining: 43.9s\n",
      "880:\tlearn: 0.1612318\ttotal: 4m 58s\tremaining: 40.3s\n",
      "890:\tlearn: 0.1580445\ttotal: 5m\tremaining: 36.8s\n",
      "900:\tlearn: 0.1545372\ttotal: 5m 2s\tremaining: 33.3s\n",
      "910:\tlearn: 0.1518731\ttotal: 5m 5s\tremaining: 29.8s\n",
      "920:\tlearn: 0.1492322\ttotal: 5m 7s\tremaining: 26.4s\n",
      "930:\tlearn: 0.1468141\ttotal: 5m 9s\tremaining: 22.9s\n",
      "940:\tlearn: 0.1437981\ttotal: 5m 11s\tremaining: 19.5s\n",
      "950:\tlearn: 0.1408465\ttotal: 5m 13s\tremaining: 16.2s\n",
      "960:\tlearn: 0.1385091\ttotal: 5m 16s\tremaining: 12.8s\n",
      "970:\tlearn: 0.1359630\ttotal: 5m 18s\tremaining: 9.51s\n",
      "980:\tlearn: 0.1332274\ttotal: 5m 20s\tremaining: 6.21s\n",
      "990:\tlearn: 0.1307293\ttotal: 5m 22s\tremaining: 2.93s\n",
      "999:\tlearn: 0.1287971\ttotal: 5m 24s\tremaining: 0us\n",
      "Learning rate set to 0.073657\n",
      "0:\tlearn: 5.8689872\ttotal: 74.1ms\tremaining: 1m 13s\n",
      "10:\tlearn: 5.7718243\ttotal: 1.02s\tremaining: 1m 32s\n",
      "20:\tlearn: 5.6591361\ttotal: 3.62s\tremaining: 2m 48s\n",
      "30:\tlearn: 5.6519766\ttotal: 6.04s\tremaining: 3m 8s\n",
      "40:\tlearn: 5.6471615\ttotal: 8.39s\tremaining: 3m 16s\n",
      "50:\tlearn: 5.4992399\ttotal: 12.2s\tremaining: 3m 46s\n",
      "60:\tlearn: 5.4290151\ttotal: 15.1s\tremaining: 3m 52s\n",
      "70:\tlearn: 5.3870712\ttotal: 17.9s\tremaining: 3m 53s\n",
      "80:\tlearn: 5.3053620\ttotal: 21.2s\tremaining: 4m\n",
      "90:\tlearn: 5.2462645\ttotal: 24.1s\tremaining: 4m\n",
      "100:\tlearn: 5.1221255\ttotal: 27.9s\tremaining: 4m 8s\n",
      "110:\tlearn: 4.9733954\ttotal: 32.6s\tremaining: 4m 20s\n",
      "120:\tlearn: 4.6461702\ttotal: 39.6s\tremaining: 4m 47s\n",
      "130:\tlearn: 4.3878151\ttotal: 46.8s\tremaining: 5m 10s\n",
      "140:\tlearn: 4.1473015\ttotal: 52.6s\tremaining: 5m 20s\n",
      "150:\tlearn: 3.9560379\ttotal: 54.8s\tremaining: 5m 8s\n",
      "160:\tlearn: 3.6932953\ttotal: 57.1s\tremaining: 4m 57s\n",
      "170:\tlearn: 3.4869033\ttotal: 59.4s\tremaining: 4m 47s\n",
      "180:\tlearn: 3.2948328\ttotal: 1m 1s\tremaining: 4m 39s\n",
      "190:\tlearn: 3.0739566\ttotal: 1m 4s\tremaining: 4m 31s\n",
      "200:\tlearn: 2.8667541\ttotal: 1m 6s\tremaining: 4m 24s\n",
      "210:\tlearn: 2.6914441\ttotal: 1m 8s\tremaining: 4m 17s\n",
      "220:\tlearn: 2.5215556\ttotal: 1m 11s\tremaining: 4m 10s\n",
      "230:\tlearn: 2.3558672\ttotal: 1m 13s\tremaining: 4m 4s\n",
      "240:\tlearn: 2.1831782\ttotal: 1m 15s\tremaining: 3m 58s\n",
      "250:\tlearn: 2.0430875\ttotal: 1m 18s\tremaining: 3m 53s\n",
      "260:\tlearn: 1.9103230\ttotal: 1m 20s\tremaining: 3m 47s\n",
      "270:\tlearn: 1.7799171\ttotal: 1m 22s\tremaining: 3m 42s\n",
      "280:\tlearn: 1.6615780\ttotal: 1m 25s\tremaining: 3m 37s\n",
      "290:\tlearn: 1.5594332\ttotal: 1m 27s\tremaining: 3m 33s\n",
      "300:\tlearn: 1.4685052\ttotal: 1m 29s\tremaining: 3m 28s\n",
      "310:\tlearn: 1.3838558\ttotal: 1m 32s\tremaining: 3m 23s\n",
      "320:\tlearn: 1.2858749\ttotal: 1m 34s\tremaining: 3m 19s\n",
      "330:\tlearn: 1.1913387\ttotal: 1m 36s\tremaining: 3m 15s\n",
      "340:\tlearn: 1.1150735\ttotal: 1m 39s\tremaining: 3m 11s\n",
      "350:\tlearn: 1.0471775\ttotal: 1m 41s\tremaining: 3m 7s\n",
      "360:\tlearn: 0.9874817\ttotal: 1m 43s\tremaining: 3m 3s\n",
      "370:\tlearn: 0.9298067\ttotal: 1m 46s\tremaining: 2m 59s\n",
      "380:\tlearn: 0.8721481\ttotal: 1m 48s\tremaining: 2m 56s\n",
      "390:\tlearn: 0.8284345\ttotal: 1m 50s\tremaining: 2m 52s\n",
      "400:\tlearn: 0.7818041\ttotal: 1m 52s\tremaining: 2m 48s\n",
      "410:\tlearn: 0.7409226\ttotal: 1m 55s\tremaining: 2m 45s\n",
      "420:\tlearn: 0.7025941\ttotal: 1m 57s\tremaining: 2m 41s\n",
      "430:\tlearn: 0.6688571\ttotal: 1m 59s\tremaining: 2m 38s\n",
      "440:\tlearn: 0.6361790\ttotal: 2m 2s\tremaining: 2m 34s\n",
      "450:\tlearn: 0.6161331\ttotal: 2m 4s\tremaining: 2m 31s\n",
      "460:\tlearn: 0.5851877\ttotal: 2m 6s\tremaining: 2m 28s\n",
      "470:\tlearn: 0.5549865\ttotal: 2m 9s\tremaining: 2m 24s\n",
      "480:\tlearn: 0.5302854\ttotal: 2m 11s\tremaining: 2m 21s\n",
      "490:\tlearn: 0.5065489\ttotal: 2m 13s\tremaining: 2m 18s\n",
      "500:\tlearn: 0.4821077\ttotal: 2m 15s\tremaining: 2m 15s\n",
      "510:\tlearn: 0.4627705\ttotal: 2m 18s\tremaining: 2m 12s\n",
      "520:\tlearn: 0.4447474\ttotal: 2m 20s\tremaining: 2m 9s\n",
      "530:\tlearn: 0.4274841\ttotal: 2m 22s\tremaining: 2m 6s\n",
      "540:\tlearn: 0.4098580\ttotal: 2m 25s\tremaining: 2m 3s\n",
      "550:\tlearn: 0.3932694\ttotal: 2m 27s\tremaining: 1m 59s\n",
      "560:\tlearn: 0.3788821\ttotal: 2m 29s\tremaining: 1m 56s\n",
      "570:\tlearn: 0.3655814\ttotal: 2m 31s\tremaining: 1m 54s\n",
      "580:\tlearn: 0.3522732\ttotal: 2m 34s\tremaining: 1m 51s\n",
      "590:\tlearn: 0.3390077\ttotal: 2m 36s\tremaining: 1m 48s\n",
      "600:\tlearn: 0.3279041\ttotal: 2m 38s\tremaining: 1m 45s\n",
      "610:\tlearn: 0.3169238\ttotal: 2m 40s\tremaining: 1m 42s\n",
      "620:\tlearn: 0.3065725\ttotal: 2m 42s\tremaining: 1m 39s\n",
      "630:\tlearn: 0.2957960\ttotal: 2m 45s\tremaining: 1m 36s\n",
      "640:\tlearn: 0.2865059\ttotal: 2m 47s\tremaining: 1m 33s\n",
      "650:\tlearn: 0.2762423\ttotal: 2m 49s\tremaining: 1m 30s\n",
      "660:\tlearn: 0.2685023\ttotal: 2m 52s\tremaining: 1m 28s\n",
      "670:\tlearn: 0.2614012\ttotal: 2m 54s\tremaining: 1m 25s\n",
      "680:\tlearn: 0.2542008\ttotal: 2m 57s\tremaining: 1m 23s\n",
      "690:\tlearn: 0.2473981\ttotal: 2m 59s\tremaining: 1m 20s\n",
      "700:\tlearn: 0.2408247\ttotal: 3m 2s\tremaining: 1m 17s\n",
      "710:\tlearn: 0.2351072\ttotal: 3m 9s\tremaining: 1m 17s\n",
      "720:\tlearn: 0.2287459\ttotal: 3m 17s\tremaining: 1m 16s\n",
      "730:\tlearn: 0.2225539\ttotal: 3m 25s\tremaining: 1m 15s\n",
      "740:\tlearn: 0.2171010\ttotal: 3m 29s\tremaining: 1m 13s\n",
      "750:\tlearn: 0.2110768\ttotal: 3m 31s\tremaining: 1m 10s\n",
      "760:\tlearn: 0.2057888\ttotal: 3m 33s\tremaining: 1m 7s\n",
      "770:\tlearn: 0.2009560\ttotal: 3m 35s\tremaining: 1m 4s\n",
      "780:\tlearn: 0.1968553\ttotal: 3m 38s\tremaining: 1m 1s\n",
      "790:\tlearn: 0.1921109\ttotal: 3m 40s\tremaining: 58.2s\n",
      "800:\tlearn: 0.1876611\ttotal: 3m 42s\tremaining: 55.3s\n",
      "810:\tlearn: 0.1837200\ttotal: 3m 44s\tremaining: 52.4s\n",
      "820:\tlearn: 0.1796329\ttotal: 3m 46s\tremaining: 49.5s\n",
      "830:\tlearn: 0.1764050\ttotal: 3m 49s\tremaining: 46.6s\n",
      "840:\tlearn: 0.1728317\ttotal: 3m 51s\tremaining: 43.7s\n",
      "850:\tlearn: 0.1692819\ttotal: 3m 53s\tremaining: 40.9s\n",
      "860:\tlearn: 0.1663704\ttotal: 3m 55s\tremaining: 38s\n",
      "870:\tlearn: 0.1628372\ttotal: 3m 57s\tremaining: 35.2s\n",
      "880:\tlearn: 0.1594706\ttotal: 3m 59s\tremaining: 32.4s\n",
      "890:\tlearn: 0.1562400\ttotal: 4m 2s\tremaining: 29.6s\n",
      "900:\tlearn: 0.1533577\ttotal: 4m 4s\tremaining: 26.8s\n",
      "910:\tlearn: 0.1505956\ttotal: 4m 6s\tremaining: 24.1s\n",
      "920:\tlearn: 0.1480958\ttotal: 4m 8s\tremaining: 21.3s\n",
      "930:\tlearn: 0.1447041\ttotal: 4m 10s\tremaining: 18.6s\n",
      "940:\tlearn: 0.1424066\ttotal: 4m 12s\tremaining: 15.9s\n",
      "950:\tlearn: 0.1398577\ttotal: 4m 15s\tremaining: 13.1s\n",
      "960:\tlearn: 0.1376271\ttotal: 4m 17s\tremaining: 10.4s\n",
      "970:\tlearn: 0.1350541\ttotal: 4m 19s\tremaining: 7.75s\n",
      "980:\tlearn: 0.1327095\ttotal: 4m 21s\tremaining: 5.07s\n",
      "990:\tlearn: 0.1306852\ttotal: 4m 23s\tremaining: 2.39s\n",
      "999:\tlearn: 0.1290300\ttotal: 4m 25s\tremaining: 0us\n"
     ]
    },
    {
     "data": {
      "text/plain": [
       "{'fit_time': array([634.52272248, 583.82567358, 324.01509213, 265.35006046]),\n",
       " 'score_time': array([0.15224195, 0.11741281, 0.11350965, 0.11302757]),\n",
       " 'test_accuracy': array([0.86129032, 0.87903226, 0.86591276, 0.86752827]),\n",
       " 'test_f1_weighted': array([0.84544547, 0.8677957 , 0.84891145, 0.85368875]),\n",
       " 'test_f1_micro': array([0.86129032, 0.87903226, 0.86591276, 0.86752827]),\n",
       " 'test_f1_macro': array([0.84285714, 0.86704331, 0.84869518, 0.85320151])}"
      ]
     },
     "execution_count": 11,
     "metadata": {},
     "output_type": "execute_result"
    }
   ],
   "source": [
    "params['devices'] = '0'\n",
    "model_cb = catboost.CatBoostClassifier(verbose=10, **params)\n",
    "\n",
    "pipeline = Pipeline([('catboost', model_cb)])\n",
    "\n",
    "scoring = {'accuracy': 'accuracy',\n",
    "           'f1_weighted': 'f1_weighted',\n",
    "           'f1_micro': 'f1_micro',\n",
    "           'f1_macro': 'f1_macro'}\n",
    "scores = cross_validate(pipeline, X_cv, y_cv, cv = 4, scoring=scoring)\n",
    "scores"
   ]
  },
  {
   "cell_type": "code",
   "execution_count": 12,
   "metadata": {},
   "outputs": [
    {
     "data": {
      "text/plain": [
       "{'accuracy': 0.868440903642712,\n",
       " 'f1_weighted': 0.8539603418625255,\n",
       " 'f1_micro': 0.868440903642712,\n",
       " 'f1_macro': 0.8529492870594566}"
      ]
     },
     "execution_count": 12,
     "metadata": {},
     "output_type": "execute_result"
    }
   ],
   "source": [
    "metrcs = ['accuracy', 'f1_weighted', 'f1_micro', 'f1_macro']\n",
    "final_scores = {k: scores['test_' + k].mean() for k in metrcs}\n",
    "final_scores"
   ]
  },
  {
   "cell_type": "code",
   "execution_count": 13,
   "metadata": {},
   "outputs": [],
   "source": [
    "with open(f'cross_validation_scores/{model_name}_354.json', 'w') as f:\n",
    "    json.dump(final_scores, f)"
   ]
  },
  {
   "cell_type": "code",
   "execution_count": null,
   "metadata": {},
   "outputs": [],
   "source": []
  }
 ],
 "metadata": {
  "kernelspec": {
   "display_name": "base",
   "language": "python",
   "name": "python3"
  },
  "language_info": {
   "codemirror_mode": {
    "name": "ipython",
    "version": 3
   },
   "file_extension": ".py",
   "mimetype": "text/x-python",
   "name": "python",
   "nbconvert_exporter": "python",
   "pygments_lexer": "ipython3",
   "version": "3.9.12"
  }
 },
 "nbformat": 4,
 "nbformat_minor": 2
}
