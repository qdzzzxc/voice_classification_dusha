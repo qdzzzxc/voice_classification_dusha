{
 "cells": [
  {
   "cell_type": "code",
   "execution_count": 22,
   "metadata": {},
   "outputs": [],
   "source": [
    "import mlflow\n",
    "import numpy as np\n",
    "import pandas as pd\n",
    "from sklearn import metrics\n",
    "from sklearn.model_selection import train_test_split\n",
    "from sklearn.preprocessing import LabelEncoder, StandardScaler"
   ]
  },
  {
   "cell_type": "code",
   "execution_count": 23,
   "metadata": {},
   "outputs": [],
   "source": [
    "df = pd.read_pickle(\"experiments/crowd_train_all_data_embedded.pkl\")"
   ]
  },
  {
   "cell_type": "code",
   "execution_count": 76,
   "metadata": {},
   "outputs": [
    {
     "name": "stdout",
     "output_type": "stream",
     "text": [
      "102\n",
      "13\n"
     ]
    }
   ],
   "source": [
    "def get_dataframe(df, min_count, max_count, max_filter=None):\n",
    "    df_temp = df.copy()\n",
    "\n",
    "    freq = df_temp.source_id.value_counts()\n",
    "    if max_filter:\n",
    "        freq = freq[(min_count <= freq) & (freq <= max_filter)]\n",
    "    else:\n",
    "        freq = freq[min_count <= freq]\n",
    "    df_temp = df_temp[df.source_id.isin(freq.index)]\n",
    "\n",
    "    df_temp = (\n",
    "        df_temp.groupby('source_id')\n",
    "        .apply(lambda x: x.nlargest(max_count, 'duration'))\n",
    "        .reset_index(drop=True)\n",
    "        .drop(\n",
    "            columns=[\n",
    "                'duration',\n",
    "                'hash_id',\n",
    "                'annotator_emo',\n",
    "                'golden_emo',\n",
    "                'annotator_id',\n",
    "                'speaker_text',\n",
    "                'speaker_emo',\n",
    "            ]\n",
    "        )\n",
    "    )\n",
    "\n",
    "    df_temp.dropna(inplace=True)\n",
    "\n",
    "    print(df_temp.source_id.nunique())\n",
    "\n",
    "    return df_temp\n",
    "\n",
    "\n",
    "df_t = get_dataframe(df, 200, 10)\n",
    "not_in_df_t = get_dataframe(df, 0, 1, max_filter=1)"
   ]
  },
  {
   "cell_type": "code",
   "execution_count": 25,
   "metadata": {},
   "outputs": [
    {
     "data": {
      "text/plain": [
       "((1020, 498), (1020, 60), (1020,))"
      ]
     },
     "execution_count": 25,
     "metadata": {},
     "output_type": "execute_result"
    }
   ],
   "source": [
    "X = np.vstack(df_t.audio_feature.to_numpy()).reshape(df_t.shape[0], -1)\n",
    "le = LabelEncoder()\n",
    "y = le.fit_transform(df_t.source_id)\n",
    "X_mfccs = X[:, 36 + 384 : 36 + 384 + 60]  # mfcc only\n",
    "\n",
    "X.shape, X_mfccs.shape, y.shape"
   ]
  },
  {
   "cell_type": "code",
   "execution_count": 92,
   "metadata": {},
   "outputs": [
    {
     "data": {
      "text/plain": [
       "((13, 498), (13, 60), (13,))"
      ]
     },
     "execution_count": 92,
     "metadata": {},
     "output_type": "execute_result"
    }
   ],
   "source": [
    "X_not = np.vstack(not_in_df_t.audio_feature.to_numpy()).reshape(\n",
    "    not_in_df_t.shape[0], -1\n",
    ")\n",
    "le_not = LabelEncoder()\n",
    "y_not = le.fit_transform(not_in_df_t.source_id)\n",
    "X_mfccs_not = X_not[:, 36 + 384 : 36 + 384 + 60]  # mfcc only\n",
    "\n",
    "X_not.shape, X_mfccs_not.shape, y_not.shape"
   ]
  },
  {
   "cell_type": "code",
   "execution_count": 79,
   "metadata": {},
   "outputs": [],
   "source": [
    "def get_model_and_params(experiment_name: str, model_name: str):\n",
    "    experiment_id = dict(mlflow.get_experiment_by_name(experiment_name))[\n",
    "        'experiment_id'\n",
    "    ]\n",
    "\n",
    "    cls_102_5_df = mlflow.search_runs([experiment_id], order_by=['metrics.f1_weighted'])\n",
    "    svc_df = cls_102_5_df[cls_102_5_df['tags.mlflow.runName'] == model_name]\n",
    "    model_dict = dict(\n",
    "        eval(svc_df['tags.mlflow.log-model.history'].item().replace('null', 'None'))[0]\n",
    "    )\n",
    "    logged_model = '/'.join(\n",
    "        ['runs:', model_dict['run_id'], model_dict['artifact_path']]\n",
    "    )\n",
    "\n",
    "    mlflow.set_tracking_uri(\"http://127.0.0.1:5000\")\n",
    "    loaded_model = mlflow.sklearn.load_model(logged_model)\n",
    "\n",
    "    params = (\n",
    "        svc_df[svc_df.columns[svc_df.columns.str.startswith('params.')]]\n",
    "        .dropna(axis=1)\n",
    "        .to_dict()\n",
    "    )\n",
    "    params = {k.split('.')[-1]: list(v.values())[-1] for k, v in params.items()}\n",
    "    for k, v in params.items():\n",
    "        if v.isdigit():\n",
    "            v = int(v)\n",
    "        elif v.replace('.', '').isdigit():\n",
    "            v = float(v)\n",
    "        params[k] = v\n",
    "\n",
    "    return loaded_model, params"
   ]
  },
  {
   "cell_type": "markdown",
   "metadata": {},
   "source": [
    "SVM, 102 класса, mfcc фичи"
   ]
  },
  {
   "cell_type": "code",
   "execution_count": 80,
   "metadata": {},
   "outputs": [
    {
     "data": {
      "application/vnd.jupyter.widget-view+json": {
       "model_id": "bd7a718248434d03a7cfad01b7d14b27",
       "version_major": 2,
       "version_minor": 0
      },
      "text/plain": [
       "Downloading artifacts:   0%|          | 0/10 [00:00<?, ?it/s]"
      ]
     },
     "metadata": {},
     "output_type": "display_data"
    },
    {
     "name": "stderr",
     "output_type": "stream",
     "text": [
      "2024/05/09 23:47:39 INFO mlflow.store.artifact.artifact_repo: The progress bar can be disabled by setting the environment variable MLFLOW_ENABLE_ARTIFACTS_PROGRESS_BAR to false\n"
     ]
    }
   ],
   "source": [
    "experiment = \"only mfcc 102 classes\"\n",
    "model_name = \"svc gsc\"\n",
    "loaded_model, params = get_model_and_params(experiment, model_name)\n"
   ]
  },
  {
   "cell_type": "code",
   "execution_count": 81,
   "metadata": {},
   "outputs": [],
   "source": [
    "X_train, X_val, y_train, y_val = train_test_split(\n",
    "    X_mfccs, y, test_size=0.5, random_state=42, stratify=y\n",
    ")\n",
    "\n",
    "scaler = StandardScaler()\n",
    "X_train_scaled = scaler.fit_transform(X_train)\n",
    "X_val_scaled = scaler.transform(X_val)"
   ]
  },
  {
   "cell_type": "code",
   "execution_count": 82,
   "metadata": {},
   "outputs": [
    {
     "data": {
      "text/plain": [
       "0.8556857086268851"
      ]
     },
     "execution_count": 82,
     "metadata": {},
     "output_type": "execute_result"
    }
   ],
   "source": [
    "preds_val = loaded_model.predict(X_val_scaled)\n",
    "metrics.f1_score(y_val, preds_val, average=\"weighted\")\n"
   ]
  },
  {
   "cell_type": "code",
   "execution_count": 108,
   "metadata": {},
   "outputs": [],
   "source": [
    "from sklearn.calibration import CalibratedClassifierCV\n",
    "from sklearn.svm import SVC\n",
    "\n",
    "params = {\"kernel\": \"rbf\", \"decision_function_shape\": \"ovr\", \"C\": 5}\n",
    "model = SVC(**params)\n",
    "calibrated = CalibratedClassifierCV(model, method=\"isotonic\", cv=5)\n",
    "calibrated.fit(X_train_scaled, y_train)\n",
    "calibrated_probs = calibrated.predict_proba(X_val_scaled)\n"
   ]
  },
  {
   "cell_type": "code",
   "execution_count": 109,
   "metadata": {},
   "outputs": [
    {
     "data": {
      "text/plain": [
       "0.854234599822835"
      ]
     },
     "execution_count": 109,
     "metadata": {},
     "output_type": "execute_result"
    }
   ],
   "source": [
    "preds_val = calibrated.predict(X_val_scaled)\n",
    "metrics.f1_score(y_val, preds_val, average=\"weighted\")\n"
   ]
  },
  {
   "cell_type": "code",
   "execution_count": 110,
   "metadata": {},
   "outputs": [
    {
     "data": {
      "text/plain": [
       "0.7432785292376581"
      ]
     },
     "execution_count": 110,
     "metadata": {},
     "output_type": "execute_result"
    }
   ],
   "source": [
    "np.max(calibrated_probs, axis=1)[preds_val == y_val].mean()"
   ]
  },
  {
   "cell_type": "code",
   "execution_count": 111,
   "metadata": {},
   "outputs": [
    {
     "data": {
      "text/plain": [
       "0.5586797794527484"
      ]
     },
     "execution_count": 111,
     "metadata": {},
     "output_type": "execute_result"
    }
   ],
   "source": [
    "np.max(calibrated_probs, axis=1)[preds_val != y_val].mean()"
   ]
  },
  {
   "cell_type": "code",
   "execution_count": null,
   "metadata": {},
   "outputs": [],
   "source": []
  }
 ],
 "metadata": {
  "kernelspec": {
   "display_name": ".venv",
   "language": "python",
   "name": "python3"
  },
  "language_info": {
   "codemirror_mode": {
    "name": "ipython",
    "version": 3
   },
   "file_extension": ".py",
   "mimetype": "text/x-python",
   "name": "python",
   "nbconvert_exporter": "python",
   "pygments_lexer": "ipython3",
   "version": "3.9.12"
  }
 },
 "nbformat": 4,
 "nbformat_minor": 2
}
