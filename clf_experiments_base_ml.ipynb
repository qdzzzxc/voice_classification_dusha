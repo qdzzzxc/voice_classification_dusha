{
 "cells": [
  {
   "cell_type": "code",
   "execution_count": 1,
   "metadata": {},
   "outputs": [],
   "source": [
    "import pandas as pd\n",
    "import numpy as np\n",
    "\n",
    "from sklearn.preprocessing import LabelEncoder\n",
    "\n",
    "from sklearn.model_selection import train_test_split\n",
    "from sklearn.metrics import f1_score, classification_report\n",
    "\n",
    "from tqdm.notebook import tqdm\n",
    "\n",
    "from sklearn import svm\n",
    "from sklearn.neighbors import KNeighborsClassifier\n",
    "from sklearn.tree import DecisionTreeClassifier \n",
    "from sklearn.naive_bayes import GaussianNB\n",
    "from sklearn import metrics\n",
    "from sklearn.linear_model import PassiveAggressiveClassifier\n",
    "import catboost\n",
    "\n",
    "from sklearn.preprocessing import StandardScaler\n",
    "\n",
    "from sklearn.model_selection import GridSearchCV"
   ]
  },
  {
   "cell_type": "code",
   "execution_count": 2,
   "metadata": {},
   "outputs": [],
   "source": [
    "df = pd.read_pickle('crowd_train_all_data_embedded.pkl')"
   ]
  },
  {
   "cell_type": "code",
   "execution_count": 3,
   "metadata": {},
   "outputs": [],
   "source": [
    "def get_dataframe(df, min_count, max_count):\n",
    "    df_temp = df.copy()\n",
    "\n",
    "    freq = df_temp.source_id.value_counts()\n",
    "    freq = freq[min_count <= freq]\n",
    "    df_temp = df_temp[df.source_id.isin(freq.index)]\n",
    "\n",
    "    df_temp = df_temp.groupby('source_id').apply(\n",
    "        lambda x: x.nlargest(max_count, 'duration')\n",
    "    ).reset_index(drop=True).drop(columns=['duration', 'hash_id', 'annotator_emo', 'golden_emo', 'annotator_id', 'speaker_text', 'speaker_emo'])\n",
    "\n",
    "    df_temp.dropna(inplace=True)\n",
    "    \n",
    "    print(df_temp.source_id.nunique())\n",
    "    \n",
    "    return df_temp"
   ]
  },
  {
   "cell_type": "code",
   "execution_count": 4,
   "metadata": {},
   "outputs": [
    {
     "name": "stdout",
     "output_type": "stream",
     "text": [
      "354\n"
     ]
    }
   ],
   "source": [
    "df_t = get_dataframe(df, 100, 10)"
   ]
  },
  {
   "cell_type": "code",
   "execution_count": 4,
   "metadata": {},
   "outputs": [
    {
     "name": "stdout",
     "output_type": "stream",
     "text": [
      "102\n"
     ]
    }
   ],
   "source": [
    "df_t = get_dataframe(df, 200, 10)"
   ]
  },
  {
   "cell_type": "code",
   "execution_count": 5,
   "metadata": {},
   "outputs": [
    {
     "data": {
      "text/plain": [
       "((3540, 498), (3540,))"
      ]
     },
     "execution_count": 5,
     "metadata": {},
     "output_type": "execute_result"
    }
   ],
   "source": [
    "X = np.vstack(df_t.audio_feature.to_numpy()).reshape(df_t.shape[0] , -1)\n",
    "le = LabelEncoder()\n",
    "y = le.fit_transform(df_t.source_id)\n",
    "X.shape, y.shape"
   ]
  },
  {
   "cell_type": "code",
   "execution_count": 6,
   "metadata": {},
   "outputs": [
    {
     "data": {
      "text/plain": [
       "((1770, 498), (1770, 498))"
      ]
     },
     "execution_count": 6,
     "metadata": {},
     "output_type": "execute_result"
    }
   ],
   "source": [
    "X_train, X_test, y_train, y_test = train_test_split(X, y, test_size=0.5, random_state=42, stratify=y)\n",
    "X_train.shape, X_test.shape"
   ]
  },
  {
   "cell_type": "code",
   "execution_count": 7,
   "metadata": {},
   "outputs": [
    {
     "data": {
      "text/plain": [
       "(5, 5)"
      ]
     },
     "execution_count": 7,
     "metadata": {},
     "output_type": "execute_result"
    }
   ],
   "source": [
    "len(y_train[y_train==4]), len(y_test[y_test==4])"
   ]
  },
  {
   "cell_type": "markdown",
   "metadata": {},
   "source": [
    "## Метод опорных векторов"
   ]
  },
  {
   "cell_type": "code",
   "execution_count": 8,
   "metadata": {},
   "outputs": [],
   "source": [
    "from sklearn.svm import SVC"
   ]
  },
  {
   "cell_type": "code",
   "execution_count": 9,
   "metadata": {},
   "outputs": [
    {
     "name": "stdout",
     "output_type": "stream",
     "text": [
      "0.9994293214632197\n",
      "\n",
      "0.7314317901182308\n",
      "0.7372881355932204\n",
      "0.7372881355932204\n"
     ]
    }
   ],
   "source": [
    "model_params = {\n",
    "    'kernel': 'linear',\n",
    "    \"decision_function_shape\": 'ovr',\n",
    "    'C': 1\n",
    "    }\n",
    "model_svc = SVC(**model_params)\n",
    "scaler = StandardScaler()\n",
    "X_train_scaled = scaler.fit_transform(X_train)\n",
    "X_test_scaled = scaler.transform(X_test)\n",
    "\n",
    "model_svc.fit(X_train_scaled, y_train)\n",
    "predicts = model_svc.predict(X_test_scaled)\n",
    "\n",
    "print(metrics.f1_score(y_train, model_svc.predict(X_train_scaled), average=\"weighted\"))\n",
    "print()\n",
    "print(metrics.f1_score(y_test, predicts, average=\"weighted\"))\n",
    "print(metrics.f1_score(y_test, predicts, average=\"micro\"))\n",
    "print(metrics.accuracy_score(y_test, predicts))"
   ]
  },
  {
   "cell_type": "code",
   "execution_count": 10,
   "metadata": {},
   "outputs": [
    {
     "name": "stderr",
     "output_type": "stream",
     "text": [
      "c:\\ProgramData\\Anaconda3\\lib\\site-packages\\_distutils_hack\\__init__.py:30: UserWarning: Setuptools is replacing distutils.\n",
      "  warnings.warn(\"Setuptools is replacing distutils.\")\n"
     ]
    }
   ],
   "source": [
    "import mlflow\n",
    "\n",
    "mlflow.set_tracking_uri(\"http://127.0.0.1:5000\")\n",
    "experiment = mlflow.set_experiment(f\"{len(set(y))} classes, 5 per class\")\n",
    "\n",
    "run_name = \"svc normilized linear kernel\"\n",
    "\n",
    "with mlflow.start_run(run_name=run_name) as run:\n",
    "    model_params = {\n",
    "    'kernel': 'linear',\n",
    "    \"decision_function_shape\": 'ovr',\n",
    "    'C': 1\n",
    "    }\n",
    "    model_svc = SVC(**model_params)\n",
    "\n",
    "    scaler = StandardScaler()\n",
    "    X_train_scaled = scaler.fit_transform(X_train)\n",
    "    X_test_scaled = scaler.transform(X_test)\n",
    "\n",
    "    model_svc.fit(X_train_scaled, y_train)\n",
    "    predicts = model_svc.predict(X_test_scaled)\n",
    "\n",
    "    mlflow.log_metric(\"train f1_weighted\", metrics.f1_score(y_train, model_svc.predict(X_train_scaled), average=\"weighted\"))\n",
    "    mlflow.log_metric(\"f1_weighted\", metrics.f1_score(y_test, predicts, average=\"weighted\"))\n",
    "    mlflow.log_metric(\"f1_micro\", metrics.f1_score(y_test, predicts, average=\"micro\"))\n",
    "    mlflow.log_metric(\"accuracy\", metrics.accuracy_score(y_test, predicts))\n",
    "    \n",
    "    mlflow.log_params(model_params)\n",
    "\n",
    "    mlflow.sklearn.log_model(\n",
    "        sk_model=model_svc, \n",
    "        input_example=X_test[:10], \n",
    "        artifact_path=f\"mlflow/{run_name}/model\"\n",
    "    )"
   ]
  },
  {
   "cell_type": "markdown",
   "metadata": {},
   "source": [
    "## KNN"
   ]
  },
  {
   "cell_type": "code",
   "execution_count": 11,
   "metadata": {},
   "outputs": [],
   "source": [
    "from sklearn.neighbors import KNeighborsClassifier"
   ]
  },
  {
   "cell_type": "code",
   "execution_count": 12,
   "metadata": {},
   "outputs": [
    {
     "name": "stdout",
     "output_type": "stream",
     "text": [
      "1.0\n",
      "\n",
      "0.6681762330828291\n",
      "0.6790960451977401\n",
      "0.6790960451977401\n"
     ]
    }
   ],
   "source": [
    "model_params = {\n",
    "    'n_neighbors': 1,\n",
    "    'algorithm': 'auto',\n",
    "    'weights': 'uniform',\n",
    "    'p': 1,\n",
    "    }\n",
    "model_knn = KNeighborsClassifier(**model_params)\n",
    "scaler = StandardScaler()\n",
    "X_train_scaled = scaler.fit_transform(X_train)\n",
    "X_test_scaled = scaler.transform(X_test)\n",
    "# X_train_scaled = X_train\n",
    "# X_test_scaled = X_test\n",
    "\n",
    "model_knn.fit(X_train_scaled, y_train)\n",
    "predicts = model_knn.predict(X_test_scaled)\n",
    "\n",
    "print(metrics.f1_score(y_train, model_knn.predict(X_train_scaled), average=\"weighted\"))\n",
    "print()\n",
    "print(metrics.f1_score(y_test, predicts, average=\"weighted\"))\n",
    "print(metrics.f1_score(y_test, predicts, average=\"micro\"))\n",
    "print(metrics.accuracy_score(y_test, predicts))"
   ]
  },
  {
   "cell_type": "code",
   "execution_count": 13,
   "metadata": {},
   "outputs": [],
   "source": [
    "import mlflow\n",
    "\n",
    "mlflow.set_tracking_uri(\"http://127.0.0.1:5000\")\n",
    "experiment = mlflow.set_experiment(f\"{len(set(y))} classes, 5 per class\")\n",
    "\n",
    "run_name = \"knn normilized manhattan\"\n",
    "\n",
    "with mlflow.start_run(run_name=run_name) as run:\n",
    "    model_params = {\n",
    "    'n_neighbors': 1,\n",
    "    'algorithm': 'auto',\n",
    "    'weights': 'uniform',\n",
    "    'p': 1,\n",
    "    }\n",
    "    model_knn = KNeighborsClassifier(**model_params)\n",
    "\n",
    "    scaler = StandardScaler()\n",
    "    X_train_scaled = scaler.fit_transform(X_train)\n",
    "    X_test_scaled = scaler.transform(X_test)\n",
    "\n",
    "    model_knn.fit(X_train_scaled, y_train)\n",
    "    predicts = model_knn.predict(X_test_scaled)\n",
    "\n",
    "    mlflow.log_metric(\"train f1_weighted\", metrics.f1_score(y_train, model_knn.predict(X_train_scaled), average=\"weighted\"))\n",
    "    mlflow.log_metric(\"f1_weighted\", metrics.f1_score(y_test, predicts, average=\"weighted\"))\n",
    "    mlflow.log_metric(\"f1_micro\", metrics.f1_score(y_test, predicts, average=\"micro\"))\n",
    "    mlflow.log_metric(\"accuracy\", metrics.accuracy_score(y_test, predicts))\n",
    "    \n",
    "    mlflow.log_params(model_params)\n",
    "\n",
    "    mlflow.sklearn.log_model(\n",
    "        sk_model=model_knn, \n",
    "        input_example=X_test[:10], \n",
    "        artifact_path=f\"mlflow/{run_name}/model\"\n",
    "    )"
   ]
  },
  {
   "cell_type": "markdown",
   "metadata": {},
   "source": [
    "## Наивный баес"
   ]
  },
  {
   "cell_type": "code",
   "execution_count": 14,
   "metadata": {},
   "outputs": [],
   "source": [
    "from sklearn.naive_bayes import GaussianNB, BernoulliNB"
   ]
  },
  {
   "cell_type": "code",
   "execution_count": 16,
   "metadata": {},
   "outputs": [
    {
     "name": "stdout",
     "output_type": "stream",
     "text": [
      "0.9269449163516961\n",
      "\n",
      "0.5927120081928027\n",
      "0.6022598870056497\n",
      "0.6022598870056497\n"
     ]
    }
   ],
   "source": [
    "model_params = {\n",
    "    \"var_smoothing\": 0.068\n",
    "    }\n",
    "model_nb = GaussianNB(**model_params)\n",
    "scaler = StandardScaler()\n",
    "X_train_scaled = scaler.fit_transform(X_train)\n",
    "X_test_scaled = scaler.transform(X_test)\n",
    "# X_train_scaled = X_train\n",
    "# X_test_scaled = X_test\n",
    "\n",
    "model_nb.fit(X_train_scaled, y_train)\n",
    "predicts = model_nb.predict(X_test_scaled)\n",
    "\n",
    "print(metrics.f1_score(y_train, model_nb.predict(X_train_scaled), average=\"weighted\"))\n",
    "print()\n",
    "print(metrics.f1_score(y_test, predicts, average=\"weighted\"))\n",
    "print(metrics.f1_score(y_test, predicts, average=\"micro\"))\n",
    "print(metrics.accuracy_score(y_test, predicts))"
   ]
  },
  {
   "cell_type": "code",
   "execution_count": 160,
   "metadata": {},
   "outputs": [],
   "source": [
    "import mlflow\n",
    "\n",
    "mlflow.set_tracking_uri(\"http://127.0.0.1:5000\")\n",
    "experiment = mlflow.set_experiment(f\"{len(set(y))} classes, 5 per class\")\n",
    "\n",
    "run_name = \"naive bayes manhattan\"\n",
    "\n",
    "with mlflow.start_run(run_name=run_name) as run:\n",
    "    model_params = {\n",
    "        \"priors\": [1/102]*102,\n",
    "        \"var_smoothing\": 0.068\n",
    "        }\n",
    "    model_nb = GaussianNB(**model_params)\n",
    "\n",
    "    scaler = StandardScaler()\n",
    "    X_train_scaled = scaler.fit_transform(X_train)\n",
    "    X_test_scaled = scaler.transform(X_test)\n",
    "\n",
    "    model_nb.fit(X_train_scaled, y_train)\n",
    "    predicts = model_nb.predict(X_test_scaled)\n",
    "\n",
    "    mlflow.log_metric(\"train f1_weighted\", metrics.f1_score(y_train, model_nb.predict(X_train_scaled), average=\"weighted\"))\n",
    "    mlflow.log_metric(\"f1_weighted\", metrics.f1_score(y_test, predicts, average=\"weighted\"))\n",
    "    mlflow.log_metric(\"f1_micro\", metrics.f1_score(y_test, predicts, average=\"micro\"))\n",
    "    mlflow.log_metric(\"accuracy\", metrics.accuracy_score(y_test, predicts))\n",
    "    \n",
    "    mlflow.log_params(model_params)\n",
    "\n",
    "    mlflow.sklearn.log_model(\n",
    "        sk_model=model_nb, \n",
    "        input_example=X_test[:10], \n",
    "        artifact_path=f\"mlflow/{run_name}/model\"\n",
    "    )"
   ]
  },
  {
   "cell_type": "markdown",
   "metadata": {},
   "source": [
    "## Случайный лес"
   ]
  },
  {
   "cell_type": "code",
   "execution_count": 17,
   "metadata": {},
   "outputs": [],
   "source": [
    "from sklearn.ensemble import RandomForestClassifier"
   ]
  },
  {
   "cell_type": "code",
   "execution_count": 18,
   "metadata": {},
   "outputs": [
    {
     "name": "stdout",
     "output_type": "stream",
     "text": [
      "1.0\n",
      "\n",
      "0.7343876434853502\n",
      "0.748587570621469\n",
      "0.748587570621469\n"
     ]
    }
   ],
   "source": [
    "model_params = {\n",
    "    # 'max_depth': None,\n",
    "    \"min_samples_split\": 3,\n",
    "    \"min_samples_leaf\": 1,\n",
    "    # \"max_samples\": None,\n",
    "    \"random_state\": 42,\n",
    "    \"warm_start\": True\n",
    "    }\n",
    "model_dt = RandomForestClassifier(**model_params)\n",
    "scaler = StandardScaler()\n",
    "# X_train_scaled = scaler.fit_transform(X_train)\n",
    "# X_test_scaled = scaler.transform(X_test)\n",
    "X_train_scaled = X_train\n",
    "X_test_scaled = X_test\n",
    "\n",
    "model_dt.fit(X_train_scaled, y_train)\n",
    "predicts = model_dt.predict(X_test_scaled)\n",
    "\n",
    "print(metrics.f1_score(y_train, model_dt.predict(X_train_scaled), average=\"weighted\"))\n",
    "print()\n",
    "print(metrics.f1_score(y_test, predicts, average=\"weighted\"))\n",
    "print(metrics.f1_score(y_test, predicts, average=\"micro\"))\n",
    "print(metrics.accuracy_score(y_test, predicts))"
   ]
  },
  {
   "cell_type": "code",
   "execution_count": 223,
   "metadata": {},
   "outputs": [],
   "source": [
    "import mlflow\n",
    "\n",
    "mlflow.set_tracking_uri(\"http://127.0.0.1:5000\")\n",
    "experiment = mlflow.set_experiment(f\"{len(set(y))} classes, 5 per class\")\n",
    "\n",
    "run_name = \"random forest\"\n",
    "\n",
    "with mlflow.start_run(run_name=run_name) as run:\n",
    "    model_params = {\n",
    "    # 'max_depth': None,\n",
    "    \"min_samples_split\": 3,\n",
    "    \"min_samples_leaf\": 1,\n",
    "    # \"max_samples\": None,\n",
    "    \"random_state\": 42,\n",
    "    \"warm_start\": True\n",
    "    }\n",
    "    model_rand_f = RandomForestClassifier(**model_params)\n",
    "\n",
    "    scaler = StandardScaler()\n",
    "    # X_train_scaled = scaler.fit_transform(X_train)\n",
    "    # X_test_scaled = scaler.transform(X_test)\n",
    "    X_train_scaled = X_train\n",
    "    X_test_scaled = X_test\n",
    "\n",
    "    model_rand_f.fit(X_train_scaled, y_train)\n",
    "    predicts = model_rand_f.predict(X_test_scaled)\n",
    "\n",
    "    mlflow.log_metric(\"train f1_weighted\", metrics.f1_score(y_train, model_rand_f.predict(X_train_scaled), average=\"weighted\"))\n",
    "    mlflow.log_metric(\"f1_weighted\", metrics.f1_score(y_test, predicts, average=\"weighted\"))\n",
    "    mlflow.log_metric(\"f1_micro\", metrics.f1_score(y_test, predicts, average=\"micro\"))\n",
    "    mlflow.log_metric(\"accuracy\", metrics.accuracy_score(y_test, predicts))\n",
    "    \n",
    "    mlflow.log_params(model_params)\n",
    "\n",
    "    mlflow.sklearn.log_model(\n",
    "        sk_model=model_rand_f, \n",
    "        input_example=X_test[:10], \n",
    "        artifact_path=f\"mlflow/{run_name}/model\"\n",
    "    )"
   ]
  },
  {
   "cell_type": "markdown",
   "metadata": {},
   "source": [
    "## Логистическая регрессия"
   ]
  },
  {
   "cell_type": "code",
   "execution_count": 19,
   "metadata": {},
   "outputs": [],
   "source": [
    "import mlflow\n",
    "from sklearn.metrics import classification_report, confusion_matrix\n",
    "\n",
    "from sklearn.linear_model import LogisticRegression"
   ]
  },
  {
   "cell_type": "code",
   "execution_count": 20,
   "metadata": {},
   "outputs": [
    {
     "name": "stdout",
     "output_type": "stream",
     "text": [
      "0.9994293214632197\n",
      "\n",
      "0.7494400811698917\n",
      "0.7542372881355932\n",
      "0.7542372881355932\n"
     ]
    }
   ],
   "source": [
    "model_params = {\n",
    "        \"max_iter\": 10_000,\n",
    "        \"solver\": \"newton-cg\"\n",
    "    }\n",
    "model_lr = LogisticRegression(**model_params)\n",
    "scaler = StandardScaler()\n",
    "X_train_scaled = scaler.fit_transform(X_train)\n",
    "X_test_scaled = scaler.transform(X_test)\n",
    "\n",
    "model_lr.fit(X_train_scaled, y_train)\n",
    "predicts = model_lr.predict(X_test_scaled)\n",
    "\n",
    "print(metrics.f1_score(y_train, model_lr.predict(X_train_scaled), average=\"weighted\"))\n",
    "print()\n",
    "print(metrics.f1_score(y_test, predicts, average=\"weighted\"))\n",
    "print(metrics.f1_score(y_test, predicts, average=\"micro\"))\n",
    "print(metrics.accuracy_score(y_test, predicts))"
   ]
  },
  {
   "cell_type": "code",
   "execution_count": null,
   "metadata": {},
   "outputs": [],
   "source": [
    "model_params = {\n",
    "        \"max_iter\": 10_000,\n",
    "        \"solver\": \"newton-cg\",\n",
    "        'penalty': 'l2',\n",
    "    }\n",
    "model_lr = LogisticRegression(**model_params)\n",
    "scaler = StandardScaler()\n",
    "X_train_scaled = scaler.fit_transform(X_train)\n",
    "X_test_scaled = scaler.transform(X_test)\n",
    "\n",
    "param_grid = {\n",
    "    'C': np.arange(70, 81, 2)\n",
    "}\n",
    "\n",
    "grid_search = GridSearchCV(model_lr, param_grid, cv=5, scoring='f1_weighted', verbose=2)\n",
    "\n",
    "grid_search.fit(X_train_scaled, y_train)"
   ]
  },
  {
   "cell_type": "code",
   "execution_count": 29,
   "metadata": {},
   "outputs": [
    {
     "data": {
      "text/plain": [
       "({'C': 74}, 0.7761437908496732)"
      ]
     },
     "execution_count": 29,
     "metadata": {},
     "output_type": "execute_result"
    }
   ],
   "source": [
    "grid_search.best_params_, grid_search.best_score_"
   ]
  },
  {
   "cell_type": "code",
   "execution_count": 31,
   "metadata": {},
   "outputs": [
    {
     "name": "stdout",
     "output_type": "stream",
     "text": [
      "Точность на тестовой выборке: 0.7869552336680364\n"
     ]
    }
   ],
   "source": [
    "test_accuracy = grid_search.score(X_test_scaled, y_test)\n",
    "print(\"Точность на тестовой выборке:\", test_accuracy)"
   ]
  },
  {
   "cell_type": "code",
   "execution_count": 51,
   "metadata": {},
   "outputs": [
    {
     "name": "stderr",
     "output_type": "stream",
     "text": [
      "2024/05/04 21:46:26 INFO mlflow.tracking.fluent: Experiment with name '354 classes, 5 per class' does not exist. Creating a new experiment.\n",
      "C:\\Users\\Никита\\AppData\\Roaming\\Python\\Python39\\site-packages\\sklearn\\linear_model\\_logistic.py:460: ConvergenceWarning: lbfgs failed to converge (status=1):\n",
      "STOP: TOTAL NO. of ITERATIONS REACHED LIMIT.\n",
      "\n",
      "Increase the number of iterations (max_iter) or scale the data as shown in:\n",
      "    https://scikit-learn.org/stable/modules/preprocessing.html\n",
      "Please also refer to the documentation for alternative solver options:\n",
      "    https://scikit-learn.org/stable/modules/linear_model.html#logistic-regression\n",
      "  n_iter_i = _check_optimize_result(\n"
     ]
    }
   ],
   "source": [
    "mlflow.set_tracking_uri(\"http://127.0.0.1:5000\")\n",
    "experiment = mlflow.set_experiment(\"354 classes, 5 per class\")\n",
    "\n",
    "run_name = \"logreg normilized base\"\n",
    "\n",
    "with mlflow.start_run(run_name=run_name) as run:\n",
    "    model_params = {\n",
    "        \"max_iter\": 1_000,\n",
    "    }\n",
    "    model_lr = LogisticRegression(**model_params)\n",
    "    model_lr.fit(X_train, y_train)\n",
    "    predicts = model_lr.predict(X_test)\n",
    "\n",
    "    mlflow.log_metric(\"train f1_weighted\", metrics.f1_score(y_train, model_lr.predict(X_train), average=\"weighted\"))\n",
    "    mlflow.log_metric(\"f1_weighted\", metrics.f1_score(y_test, predicts, average=\"weighted\"))\n",
    "    mlflow.log_metric(\"f1_micro\", metrics.f1_score(y_test, predicts, average=\"micro\"))\n",
    "    mlflow.log_metric(\"accuracy\", metrics.accuracy_score(y_test, predicts))\n",
    "    \n",
    "    mlflow.log_params(model_params)\n",
    "\n",
    "    mlflow.sklearn.log_model(\n",
    "        sk_model=model_lr, \n",
    "        input_example=X_test[:10], \n",
    "        artifact_path=f\"mlflow/{run_name}/model\"\n",
    "    )"
   ]
  },
  {
   "cell_type": "markdown",
   "metadata": {},
   "source": [
    "нормализация"
   ]
  },
  {
   "cell_type": "code",
   "execution_count": 32,
   "metadata": {},
   "outputs": [
    {
     "name": "stderr",
     "output_type": "stream",
     "text": [
      "c:\\ProgramData\\Anaconda3\\lib\\site-packages\\_distutils_hack\\__init__.py:30: UserWarning: Setuptools is replacing distutils.\n",
      "  warnings.warn(\"Setuptools is replacing distutils.\")\n"
     ]
    }
   ],
   "source": [
    "mlflow.set_tracking_uri(\"http://127.0.0.1:5000\")\n",
    "experiment = mlflow.set_experiment(f\"{len(set(y))} classes, 5 per class\")\n",
    "\n",
    "run_name = \"logreg normilized l2 newton-cg\"\n",
    "\n",
    "with mlflow.start_run(run_name=run_name) as run:\n",
    "    model_params = {\n",
    "        \"max_iter\": 1_000,\n",
    "        \"solver\": \"newton-cg\",\n",
    "        'penalty': 'l2',\n",
    "        'C': 74,\n",
    "    }\n",
    "    model_lr = LogisticRegression(**model_params)\n",
    "    scaler = StandardScaler()\n",
    "    X_train_scaled = scaler.fit_transform(X_train)\n",
    "    X_test_scaled = scaler.transform(X_test)\n",
    "\n",
    "    model_lr.fit(X_train_scaled, y_train)\n",
    "    predicts = model_lr.predict(X_test_scaled)\n",
    "\n",
    "    mlflow.log_metric(\"train f1_weighted\", metrics.f1_score(y_train, model_lr.predict(X_train_scaled), average=\"weighted\"))\n",
    "    mlflow.log_metric(\"f1_weighted\", metrics.f1_score(y_test, predicts, average=\"weighted\"))\n",
    "    mlflow.log_metric(\"f1_micro\", metrics.f1_score(y_test, predicts, average=\"micro\"))\n",
    "    mlflow.log_metric(\"accuracy\", metrics.accuracy_score(y_test, predicts))\n",
    "    \n",
    "    mlflow.log_params(model_params)\n",
    "\n",
    "    mlflow.sklearn.log_model(\n",
    "        sk_model=model_lr, \n",
    "        input_example=X_test[:10], \n",
    "        artifact_path=f\"mlflow/{run_name}/model\"\n",
    "    )"
   ]
  },
  {
   "cell_type": "code",
   "execution_count": 52,
   "metadata": {},
   "outputs": [
    {
     "name": "stdout",
     "output_type": "stream",
     "text": [
      "0.5076827693635165\n",
      "0.5203389830508475\n",
      "0.5203389830508475\n"
     ]
    }
   ],
   "source": [
    "print(metrics.f1_score(y_test, predicts, average=\"weighted\"))\n",
    "print(metrics.f1_score(y_test, predicts, average=\"micro\"))\n",
    "print(metrics.accuracy_score(y_test, predicts))"
   ]
  },
  {
   "cell_type": "markdown",
   "metadata": {},
   "source": [
    "## Бэггинг"
   ]
  },
  {
   "cell_type": "code",
   "execution_count": 226,
   "metadata": {},
   "outputs": [],
   "source": [
    "from sklearn.ensemble import BaggingClassifier"
   ]
  },
  {
   "cell_type": "code",
   "execution_count": 280,
   "metadata": {},
   "outputs": [
    {
     "name": "stderr",
     "output_type": "stream",
     "text": [
      "[Parallel(n_jobs=6)]: Using backend LokyBackend with 6 concurrent workers.\n",
      "[Parallel(n_jobs=6)]: Done   2 out of   6 | elapsed:   16.9s remaining:   34.0s\n",
      "[Parallel(n_jobs=6)]: Done   3 out of   6 | elapsed:   17.7s remaining:   17.7s\n",
      "[Parallel(n_jobs=6)]: Done   4 out of   6 | elapsed:   24.0s remaining:   12.0s\n",
      "[Parallel(n_jobs=6)]: Done   6 out of   6 | elapsed:   25.2s finished\n",
      "[Parallel(n_jobs=6)]: Using backend LokyBackend with 6 concurrent workers.\n",
      "[Parallel(n_jobs=6)]: Batch computation too fast (0.08899950981140137s.) Setting batch_size=2.\n",
      "[Parallel(n_jobs=6)]: Done   2 out of   6 | elapsed:    0.0s remaining:    0.2s\n",
      "[Parallel(n_jobs=6)]: Done   3 out of   6 | elapsed:    0.0s remaining:    0.0s\n",
      "[Parallel(n_jobs=6)]: Done   4 out of   6 | elapsed:    0.1s remaining:    0.0s\n",
      "[Parallel(n_jobs=6)]: Done   6 out of   6 | elapsed:    0.1s finished\n",
      "[Parallel(n_jobs=6)]: Using backend LokyBackend with 6 concurrent workers.\n",
      "[Parallel(n_jobs=6)]: Batch computation too fast (0.10500216484069824s.) Setting batch_size=2.\n",
      "[Parallel(n_jobs=6)]: Done   2 out of   6 | elapsed:    0.0s remaining:    0.1s\n",
      "[Parallel(n_jobs=6)]: Done   3 out of   6 | elapsed:    0.0s remaining:    0.0s\n",
      "[Parallel(n_jobs=6)]: Done   4 out of   6 | elapsed:    0.0s remaining:    0.0s\n",
      "[Parallel(n_jobs=6)]: Done   6 out of   6 | elapsed:    0.1s finished\n"
     ]
    },
    {
     "name": "stdout",
     "output_type": "stream",
     "text": [
      "1.0\n",
      "\n",
      "0.835818375524258\n",
      "0.8490196078431372\n",
      "0.8490196078431372\n"
     ]
    }
   ],
   "source": [
    "estimator_params = {\n",
    "    \"min_samples_split\": 2,\n",
    "    \"min_samples_leaf\": 1,\n",
    "    }\n",
    "model_dt = DecisionTreeClassifier(**estimator_params)\n",
    "bagging_params = {\n",
    "        \"estimator\": model_dt,\n",
    "        \"random_state\": 42,\n",
    "        \"verbose\": 10,\n",
    "        \"n_jobs\": -1,\n",
    "        \"n_estimators\": 95,\n",
    "        \"max_samples\": 1.0,\n",
    "        \"max_features\": 0.6,\n",
    "    }\n",
    "\n",
    "bagging = BaggingClassifier(**bagging_params)\n",
    "scaler = StandardScaler()\n",
    "# X_train_scaled = scaler.fit_transform(X_train)\n",
    "# X_test_scaled = scaler.transform(X_test)\n",
    "X_train_scaled = X_train\n",
    "X_test_scaled = X_test\n",
    "\n",
    "bagging.fit(X_train_scaled, y_train)\n",
    "predicts = bagging.predict(X_test_scaled)\n",
    "\n",
    "print(metrics.f1_score(y_train, bagging.predict(X_train_scaled), average=\"weighted\"))\n",
    "print()\n",
    "print(metrics.f1_score(y_test, predicts, average=\"weighted\"))\n",
    "print(metrics.f1_score(y_test, predicts, average=\"micro\"))\n",
    "print(metrics.accuracy_score(y_test, predicts))"
   ]
  },
  {
   "cell_type": "code",
   "execution_count": 281,
   "metadata": {},
   "outputs": [
    {
     "name": "stderr",
     "output_type": "stream",
     "text": [
      "[Parallel(n_jobs=6)]: Using backend LokyBackend with 6 concurrent workers.\n",
      "[Parallel(n_jobs=6)]: Done   2 out of   6 | elapsed:   25.5s remaining:   51.2s\n",
      "[Parallel(n_jobs=6)]: Done   3 out of   6 | elapsed:   28.0s remaining:   28.0s\n",
      "[Parallel(n_jobs=6)]: Done   4 out of   6 | elapsed:   28.1s remaining:   14.0s\n",
      "[Parallel(n_jobs=6)]: Done   6 out of   6 | elapsed:   30.4s finished\n",
      "[Parallel(n_jobs=6)]: Using backend LokyBackend with 6 concurrent workers.\n",
      "[Parallel(n_jobs=6)]: Batch computation too fast (0.09124541282653809s.) Setting batch_size=2.\n",
      "[Parallel(n_jobs=6)]: Done   2 out of   6 | elapsed:    0.0s remaining:    0.2s\n",
      "[Parallel(n_jobs=6)]: Done   3 out of   6 | elapsed:    0.1s remaining:    0.1s\n",
      "[Parallel(n_jobs=6)]: Done   4 out of   6 | elapsed:    0.1s remaining:    0.0s\n",
      "[Parallel(n_jobs=6)]: Done   6 out of   6 | elapsed:    0.1s finished\n",
      "[Parallel(n_jobs=6)]: Using backend LokyBackend with 6 concurrent workers.\n",
      "[Parallel(n_jobs=6)]: Batch computation too fast (0.0972585678100586s.) Setting batch_size=2.\n",
      "[Parallel(n_jobs=6)]: Done   2 out of   6 | elapsed:    0.0s remaining:    0.1s\n",
      "[Parallel(n_jobs=6)]: Done   3 out of   6 | elapsed:    0.1s remaining:    0.1s\n",
      "[Parallel(n_jobs=6)]: Done   4 out of   6 | elapsed:    0.1s remaining:    0.0s\n",
      "[Parallel(n_jobs=6)]: Done   6 out of   6 | elapsed:    0.1s finished\n"
     ]
    }
   ],
   "source": [
    "mlflow.set_tracking_uri(\"http://127.0.0.1:5000\")\n",
    "experiment = mlflow.set_experiment(f\"{len(set(y))} classes, 5 per class\")\n",
    "\n",
    "run_name = \"bagging base decision tree\"\n",
    "\n",
    "with mlflow.start_run(run_name=run_name) as run:\n",
    "    estimator_params = {\n",
    "    \"min_samples_split\": 2,\n",
    "    \"min_samples_leaf\": 1,\n",
    "    }\n",
    "    model_dt = DecisionTreeClassifier(**estimator_params)\n",
    "    bagging_params = {\n",
    "            \"estimator\": model_dt,\n",
    "            \"random_state\": 42,\n",
    "            \"verbose\": 10,\n",
    "            \"n_jobs\": -1,\n",
    "            \"n_estimators\": 95,\n",
    "            \"max_samples\": 1.0,\n",
    "            \"max_features\": 0.6,\n",
    "        }\n",
    "\n",
    "    bagging = BaggingClassifier(**bagging_params)\n",
    "    X_train_scaled = X_train\n",
    "    X_test_scaled = X_test\n",
    "\n",
    "    bagging.fit(X_train_scaled, y_train)\n",
    "    predicts = bagging.predict(X_test_scaled)\n",
    "\n",
    "    mlflow.log_metric(\"train f1_weighted\", metrics.f1_score(y_train, bagging.predict(X_train_scaled), average=\"weighted\"))\n",
    "    mlflow.log_metric(\"f1_weighted\", metrics.f1_score(y_test, predicts, average=\"weighted\"))\n",
    "    mlflow.log_metric(\"f1_micro\", metrics.f1_score(y_test, predicts, average=\"micro\"))\n",
    "    mlflow.log_metric(\"accuracy\", metrics.accuracy_score(y_test, predicts))\n",
    "    \n",
    "    mlflow.log_params(estimator_params)\n",
    "    mlflow.log_params(bagging_params)\n",
    "\n",
    "    # mlflow.sklearn.log_model(\n",
    "    #     sk_model=bagging, \n",
    "    #     input_example=X_test[:10], \n",
    "    #     artifact_path=f\"mlflow/{run_name}/model\"\n",
    "    # )"
   ]
  },
  {
   "cell_type": "markdown",
   "metadata": {},
   "source": [
    "## Категориальный бустинг"
   ]
  },
  {
   "cell_type": "code",
   "execution_count": 10,
   "metadata": {},
   "outputs": [
    {
     "name": "stdout",
     "output_type": "stream",
     "text": [
      "Learning rate set to 0.385148\n",
      "0:\tlearn: 4.2791791\ttotal: 431ms\tremaining: 42.6s\n",
      "10:\tlearn: 2.1389203\ttotal: 3.55s\tremaining: 28.7s\n",
      "20:\tlearn: 1.0899507\ttotal: 5.23s\tremaining: 19.7s\n",
      "30:\tlearn: 0.6068646\ttotal: 8.81s\tremaining: 19.6s\n",
      "40:\tlearn: 0.4007766\ttotal: 11.1s\tremaining: 16s\n",
      "50:\tlearn: 0.2828278\ttotal: 12.8s\tremaining: 12.3s\n",
      "60:\tlearn: 0.2174564\ttotal: 14.2s\tremaining: 9.06s\n",
      "70:\tlearn: 0.1690994\ttotal: 17.3s\tremaining: 7.08s\n",
      "80:\tlearn: 0.1392092\ttotal: 22.2s\tremaining: 5.21s\n",
      "90:\tlearn: 0.1183481\ttotal: 26.6s\tremaining: 2.63s\n",
      "99:\tlearn: 0.1018914\ttotal: 30.7s\tremaining: 0us\n",
      "1.0\n",
      "\n",
      "0.8558466859937449\n",
      "0.8666666666666667\n",
      "0.8666666666666667\n"
     ]
    }
   ],
   "source": [
    "model_params = {\n",
    "        \"task_type\": 'GPU',\n",
    "        \"devices\": '0',\n",
    "        \"iterations\": 1_00,\n",
    "    }\n",
    "model_cb = catboost.CatBoostClassifier(verbose=10, **model_params)\n",
    "scaler = StandardScaler()\n",
    "# X_train_scaled = scaler.fit_transform(X_train)\n",
    "# X_test_scaled = scaler.transform(X_test)\n",
    "X_train_scaled = X_train\n",
    "X_test_scaled = X_test\n",
    "\n",
    "model_cb.fit(X_train_scaled, y_train)\n",
    "predicts = model_cb.predict(X_test_scaled)\n",
    "\n",
    "print(metrics.f1_score(y_train, model_cb.predict(X_train_scaled), average=\"weighted\"))\n",
    "print()\n",
    "print(metrics.f1_score(y_test, predicts, average=\"weighted\"))\n",
    "print(metrics.f1_score(y_test, predicts, average=\"micro\"))\n",
    "print(metrics.accuracy_score(y_test, predicts))"
   ]
  },
  {
   "cell_type": "code",
   "execution_count": 54,
   "metadata": {},
   "outputs": [
    {
     "name": "stdout",
     "output_type": "stream",
     "text": [
      "Learning rate set to 0.072924\n",
      "0:\tlearn: 5.8082980\ttotal: 829ms\tremaining: 13m 48s\n",
      "10:\tlearn: 5.2715373\ttotal: 7.99s\tremaining: 11m 58s\n",
      "20:\tlearn: 4.7758899\ttotal: 14.9s\tremaining: 11m 34s\n",
      "30:\tlearn: 4.3018111\ttotal: 22s\tremaining: 11m 26s\n",
      "40:\tlearn: 3.8817046\ttotal: 28.9s\tremaining: 11m 17s\n",
      "50:\tlearn: 3.5263277\ttotal: 35.9s\tremaining: 11m 8s\n",
      "60:\tlearn: 3.1635171\ttotal: 43.2s\tremaining: 11m 5s\n",
      "70:\tlearn: 2.8722896\ttotal: 50.6s\tremaining: 11m 1s\n",
      "80:\tlearn: 2.5884051\ttotal: 57.9s\tremaining: 10m 56s\n",
      "90:\tlearn: 2.3457448\ttotal: 1m 5s\tremaining: 10m 53s\n",
      "100:\tlearn: 2.1352517\ttotal: 1m 12s\tremaining: 10m 43s\n",
      "110:\tlearn: 1.9470644\ttotal: 1m 19s\tremaining: 10m 33s\n",
      "120:\tlearn: 1.7526676\ttotal: 1m 26s\tremaining: 10m 26s\n",
      "130:\tlearn: 1.5830097\ttotal: 1m 33s\tremaining: 10m 18s\n",
      "140:\tlearn: 1.4335409\ttotal: 1m 40s\tremaining: 10m 12s\n",
      "150:\tlearn: 1.3047540\ttotal: 1m 47s\tremaining: 10m 6s\n",
      "160:\tlearn: 1.1937150\ttotal: 1m 55s\tremaining: 9m 59s\n",
      "170:\tlearn: 1.0962493\ttotal: 2m 2s\tremaining: 9m 55s\n",
      "180:\tlearn: 1.0102608\ttotal: 2m 10s\tremaining: 9m 51s\n",
      "190:\tlearn: 0.9235777\ttotal: 2m 18s\tremaining: 9m 48s\n",
      "200:\tlearn: 0.8450117\ttotal: 2m 26s\tremaining: 9m 40s\n",
      "210:\tlearn: 0.7836404\ttotal: 2m 33s\tremaining: 9m 32s\n",
      "220:\tlearn: 0.7213260\ttotal: 2m 41s\tremaining: 9m 27s\n",
      "230:\tlearn: 0.6685041\ttotal: 2m 48s\tremaining: 9m 22s\n",
      "240:\tlearn: 0.6206428\ttotal: 2m 56s\tremaining: 9m 15s\n",
      "250:\tlearn: 0.5791891\ttotal: 3m 3s\tremaining: 9m 8s\n",
      "260:\tlearn: 0.5431132\ttotal: 3m 11s\tremaining: 9m 1s\n",
      "270:\tlearn: 0.5072550\ttotal: 3m 18s\tremaining: 8m 54s\n",
      "280:\tlearn: 0.4772661\ttotal: 3m 26s\tremaining: 8m 48s\n",
      "290:\tlearn: 0.4469884\ttotal: 3m 34s\tremaining: 8m 41s\n",
      "300:\tlearn: 0.4221034\ttotal: 3m 41s\tremaining: 8m 34s\n",
      "310:\tlearn: 0.3982335\ttotal: 3m 49s\tremaining: 8m 28s\n",
      "320:\tlearn: 0.3768010\ttotal: 3m 57s\tremaining: 8m 22s\n",
      "330:\tlearn: 0.3552856\ttotal: 4m 5s\tremaining: 8m 15s\n",
      "340:\tlearn: 0.3387431\ttotal: 4m 12s\tremaining: 8m 8s\n",
      "350:\tlearn: 0.3221729\ttotal: 4m 20s\tremaining: 8m 1s\n",
      "360:\tlearn: 0.3086496\ttotal: 4m 28s\tremaining: 7m 54s\n",
      "370:\tlearn: 0.2944761\ttotal: 4m 35s\tremaining: 7m 47s\n",
      "380:\tlearn: 0.2822309\ttotal: 4m 43s\tremaining: 7m 40s\n",
      "390:\tlearn: 0.2712246\ttotal: 4m 50s\tremaining: 7m 32s\n",
      "400:\tlearn: 0.2602878\ttotal: 4m 57s\tremaining: 7m 24s\n",
      "410:\tlearn: 0.2495259\ttotal: 5m 4s\tremaining: 7m 17s\n",
      "420:\tlearn: 0.2390759\ttotal: 5m 11s\tremaining: 7m 8s\n",
      "430:\tlearn: 0.2292182\ttotal: 5m 18s\tremaining: 7m\n",
      "440:\tlearn: 0.2224486\ttotal: 5m 24s\tremaining: 6m 51s\n",
      "450:\tlearn: 0.2137585\ttotal: 5m 32s\tremaining: 6m 44s\n",
      "460:\tlearn: 0.2057764\ttotal: 5m 39s\tremaining: 6m 36s\n",
      "470:\tlearn: 0.1988960\ttotal: 5m 45s\tremaining: 6m 28s\n",
      "480:\tlearn: 0.1922266\ttotal: 5m 53s\tremaining: 6m 21s\n",
      "490:\tlearn: 0.1861872\ttotal: 6m 1s\tremaining: 6m 14s\n",
      "500:\tlearn: 0.1799561\ttotal: 6m 8s\tremaining: 6m 6s\n",
      "510:\tlearn: 0.1746880\ttotal: 6m 15s\tremaining: 5m 59s\n",
      "520:\tlearn: 0.1697421\ttotal: 6m 22s\tremaining: 5m 51s\n",
      "530:\tlearn: 0.1642833\ttotal: 6m 29s\tremaining: 5m 44s\n",
      "540:\tlearn: 0.1596866\ttotal: 6m 36s\tremaining: 5m 36s\n",
      "550:\tlearn: 0.1546642\ttotal: 6m 43s\tremaining: 5m 28s\n",
      "560:\tlearn: 0.1502652\ttotal: 6m 49s\tremaining: 5m 20s\n",
      "570:\tlearn: 0.1459969\ttotal: 6m 55s\tremaining: 5m 12s\n",
      "580:\tlearn: 0.1415365\ttotal: 7m 2s\tremaining: 5m 4s\n",
      "590:\tlearn: 0.1378090\ttotal: 7m 9s\tremaining: 4m 57s\n",
      "600:\tlearn: 0.1337622\ttotal: 7m 15s\tremaining: 4m 49s\n",
      "610:\tlearn: 0.1303140\ttotal: 7m 22s\tremaining: 4m 41s\n",
      "620:\tlearn: 0.1273031\ttotal: 7m 28s\tremaining: 4m 33s\n",
      "630:\tlearn: 0.1244269\ttotal: 7m 35s\tremaining: 4m 26s\n",
      "640:\tlearn: 0.1212655\ttotal: 7m 41s\tremaining: 4m 18s\n",
      "650:\tlearn: 0.1186021\ttotal: 7m 47s\tremaining: 4m 10s\n",
      "660:\tlearn: 0.1159993\ttotal: 7m 54s\tremaining: 4m 3s\n",
      "670:\tlearn: 0.1131777\ttotal: 8m\tremaining: 3m 55s\n",
      "680:\tlearn: 0.1107604\ttotal: 8m 7s\tremaining: 3m 48s\n",
      "690:\tlearn: 0.1082035\ttotal: 8m 14s\tremaining: 3m 41s\n",
      "700:\tlearn: 0.1058682\ttotal: 8m 20s\tremaining: 3m 33s\n",
      "710:\tlearn: 0.1037959\ttotal: 8m 27s\tremaining: 3m 26s\n",
      "720:\tlearn: 0.1014907\ttotal: 8m 33s\tremaining: 3m 18s\n",
      "730:\tlearn: 0.0993724\ttotal: 8m 40s\tremaining: 3m 11s\n",
      "740:\tlearn: 0.0974473\ttotal: 8m 47s\tremaining: 3m 4s\n",
      "750:\tlearn: 0.0954981\ttotal: 8m 54s\tremaining: 2m 57s\n",
      "760:\tlearn: 0.0936564\ttotal: 9m 1s\tremaining: 2m 49s\n",
      "770:\tlearn: 0.0919938\ttotal: 9m 7s\tremaining: 2m 42s\n",
      "780:\tlearn: 0.0901529\ttotal: 9m 13s\tremaining: 2m 35s\n",
      "790:\tlearn: 0.0886247\ttotal: 9m 20s\tremaining: 2m 28s\n",
      "800:\tlearn: 0.0871382\ttotal: 9m 26s\tremaining: 2m 20s\n",
      "810:\tlearn: 0.0855180\ttotal: 9m 32s\tremaining: 2m 13s\n",
      "820:\tlearn: 0.0840274\ttotal: 9m 39s\tremaining: 2m 6s\n",
      "830:\tlearn: 0.0826160\ttotal: 9m 46s\tremaining: 1m 59s\n",
      "840:\tlearn: 0.0813053\ttotal: 9m 53s\tremaining: 1m 52s\n",
      "850:\tlearn: 0.0799782\ttotal: 9m 59s\tremaining: 1m 44s\n",
      "860:\tlearn: 0.0787512\ttotal: 10m 5s\tremaining: 1m 37s\n",
      "870:\tlearn: 0.0774171\ttotal: 10m 12s\tremaining: 1m 30s\n",
      "880:\tlearn: 0.0761767\ttotal: 10m 18s\tremaining: 1m 23s\n",
      "890:\tlearn: 0.0749081\ttotal: 10m 25s\tremaining: 1m 16s\n",
      "900:\tlearn: 0.0738712\ttotal: 10m 32s\tremaining: 1m 9s\n",
      "910:\tlearn: 0.0727864\ttotal: 10m 38s\tremaining: 1m 2s\n",
      "920:\tlearn: 0.0716995\ttotal: 10m 44s\tremaining: 55.3s\n",
      "930:\tlearn: 0.0708697\ttotal: 10m 51s\tremaining: 48.3s\n",
      "940:\tlearn: 0.0698214\ttotal: 10m 56s\tremaining: 41.2s\n",
      "950:\tlearn: 0.0689349\ttotal: 11m 2s\tremaining: 34.2s\n",
      "960:\tlearn: 0.0679804\ttotal: 11m 8s\tremaining: 27.1s\n",
      "970:\tlearn: 0.0670285\ttotal: 11m 15s\tremaining: 20.2s\n",
      "980:\tlearn: 0.0660835\ttotal: 11m 21s\tremaining: 13.2s\n",
      "990:\tlearn: 0.0653415\ttotal: 11m 27s\tremaining: 6.24s\n",
      "999:\tlearn: 0.0645645\ttotal: 11m 32s\tremaining: 0us\n"
     ]
    }
   ],
   "source": [
    "mlflow.set_tracking_uri(\"http://127.0.0.1:5000\")\n",
    "experiment = mlflow.set_experiment(\"354 classes, 5 per class\")\n",
    "\n",
    "run_name = \"catboost base\"\n",
    "\n",
    "with mlflow.start_run(run_name=run_name) as run:\n",
    "    model_params = {\n",
    "        \"task_type\": 'GPU',\n",
    "        \"devices\": '0',\n",
    "        \"iterations\": 1000,\n",
    "    }\n",
    "    model_cb = catboost.CatBoostClassifier(verbose=10, **model_params)\n",
    "    model_cb.fit(X_train, y_train)\n",
    "    predicts = model_cb.predict(X_test)\n",
    "\n",
    "    mlflow.log_metric(\"train f1_weighted\", metrics.f1_score(y_train, model_cb.predict(X_train), average=\"weighted\"))\n",
    "    mlflow.log_metric(\"f1_weighted\", metrics.f1_score(y_test, predicts, average=\"weighted\"))\n",
    "    mlflow.log_metric(\"f1_micro\", metrics.f1_score(y_test, predicts, average=\"micro\"))\n",
    "    mlflow.log_metric(\"accuracy\", metrics.accuracy_score(y_test, predicts))\n",
    "    \n",
    "    mlflow.log_params(model_params)\n",
    "\n",
    "    mlflow.sklearn.log_model(\n",
    "        sk_model=model_cb, \n",
    "        input_example=X_test[:10], \n",
    "        artifact_path=f\"mlflow/{run_name}/model\"\n",
    "    )"
   ]
  },
  {
   "cell_type": "code",
   "execution_count": 37,
   "metadata": {},
   "outputs": [
    {
     "name": "stdout",
     "output_type": "stream",
     "text": [
      "F1: 1.0\n",
      "\n"
     ]
    }
   ],
   "source": [
    "preds = model_cb.predict(X_train)\n",
    "    \n",
    "print(f'F1: {metrics.f1_score(y_train, preds, average=\"weighted\")}')\n",
    "print()"
   ]
  },
  {
   "cell_type": "code",
   "execution_count": 38,
   "metadata": {},
   "outputs": [
    {
     "name": "stdout",
     "output_type": "stream",
     "text": [
      "F1: 0.8558466859937449\n",
      "\n"
     ]
    }
   ],
   "source": [
    "preds = model_cb.predict(X_test)\n",
    "    \n",
    "print(f'F1: {metrics.f1_score(y_test, preds, average=\"weighted\")}')\n",
    "print()"
   ]
  },
  {
   "cell_type": "code",
   "execution_count": 89,
   "metadata": {},
   "outputs": [
    {
     "name": "stdout",
     "output_type": "stream",
     "text": [
      "              precision    recall  f1-score   support\n",
      "\n",
      "           0       0.50      0.60      0.55         5\n",
      "           1       0.50      0.40      0.44         5\n",
      "           2       0.60      0.60      0.60         5\n",
      "           3       1.00      0.60      0.75         5\n",
      "           4       0.80      0.80      0.80         5\n",
      "           5       1.00      1.00      1.00         5\n",
      "           6       0.75      0.60      0.67         5\n",
      "           7       1.00      0.40      0.57         5\n",
      "           8       0.71      1.00      0.83         5\n",
      "           9       1.00      1.00      1.00         5\n",
      "          10       0.83      1.00      0.91         5\n",
      "          11       1.00      0.80      0.89         5\n",
      "          12       1.00      1.00      1.00         5\n",
      "          13       0.67      0.80      0.73         5\n",
      "          14       1.00      0.80      0.89         5\n",
      "          15       0.75      0.60      0.67         5\n",
      "          16       1.00      1.00      1.00         5\n",
      "          17       0.60      0.60      0.60         5\n",
      "          18       1.00      0.80      0.89         5\n",
      "          19       0.50      0.40      0.44         5\n",
      "          20       0.80      0.80      0.80         5\n",
      "          21       0.83      1.00      0.91         5\n",
      "          22       0.71      1.00      0.83         5\n",
      "          23       0.33      0.20      0.25         5\n",
      "          24       1.00      1.00      1.00         5\n",
      "          25       1.00      1.00      1.00         5\n",
      "          26       0.80      0.80      0.80         5\n",
      "          27       0.83      1.00      0.91         5\n",
      "          28       1.00      1.00      1.00         5\n",
      "          29       0.56      1.00      0.71         5\n",
      "          30       1.00      0.80      0.89         5\n",
      "          31       1.00      0.80      0.89         5\n",
      "          32       1.00      1.00      1.00         5\n",
      "          33       1.00      1.00      1.00         5\n",
      "          34       0.80      0.80      0.80         5\n",
      "          35       0.83      1.00      0.91         5\n",
      "          36       1.00      1.00      1.00         5\n",
      "          37       1.00      1.00      1.00         5\n",
      "          38       0.33      0.80      0.47         5\n",
      "          39       1.00      1.00      1.00         5\n",
      "          40       1.00      1.00      1.00         5\n",
      "          41       1.00      0.60      0.75         5\n",
      "          42       0.75      0.60      0.67         5\n",
      "          43       0.75      0.60      0.67         5\n",
      "          44       1.00      0.20      0.33         5\n",
      "          45       0.75      0.60      0.67         5\n",
      "          46       0.67      0.40      0.50         5\n",
      "          47       1.00      1.00      1.00         5\n",
      "          48       1.00      0.80      0.89         5\n",
      "          49       1.00      0.80      0.89         5\n",
      "          50       1.00      0.60      0.75         5\n",
      "          51       0.50      0.40      0.44         5\n",
      "          52       0.83      1.00      0.91         5\n",
      "          53       0.80      0.80      0.80         5\n",
      "          54       1.00      1.00      1.00         5\n",
      "          55       0.83      1.00      0.91         5\n",
      "          56       1.00      1.00      1.00         5\n",
      "          57       1.00      1.00      1.00         5\n",
      "          58       0.50      0.40      0.44         5\n",
      "          59       0.71      1.00      0.83         5\n",
      "          60       1.00      1.00      1.00         5\n",
      "          61       0.33      0.20      0.25         5\n",
      "          62       1.00      1.00      1.00         5\n",
      "          63       0.83      1.00      0.91         5\n",
      "          64       1.00      0.60      0.75         5\n",
      "          65       0.67      0.80      0.73         5\n",
      "          66       0.50      1.00      0.67         5\n",
      "          67       1.00      0.60      0.75         5\n",
      "          68       0.67      0.80      0.73         5\n",
      "          69       0.80      0.80      0.80         5\n",
      "          70       1.00      0.80      0.89         5\n",
      "          71       0.67      0.40      0.50         5\n",
      "          72       0.43      0.60      0.50         5\n",
      "          73       1.00      1.00      1.00         5\n",
      "          74       0.75      0.60      0.67         5\n",
      "          75       1.00      1.00      1.00         5\n",
      "          76       1.00      0.80      0.89         5\n",
      "          77       1.00      0.80      0.89         5\n",
      "          78       0.50      0.40      0.44         5\n",
      "          79       0.75      0.60      0.67         5\n",
      "          80       1.00      0.60      0.75         5\n",
      "          81       1.00      1.00      1.00         5\n",
      "          82       1.00      0.80      0.89         5\n",
      "          83       1.00      1.00      1.00         5\n",
      "          84       1.00      0.80      0.89         5\n",
      "          85       0.67      0.80      0.73         5\n",
      "          86       0.67      0.40      0.50         5\n",
      "          87       0.60      0.60      0.60         5\n",
      "          88       1.00      0.60      0.75         5\n",
      "          89       0.60      0.60      0.60         5\n",
      "          90       1.00      0.60      0.75         5\n",
      "          91       0.71      1.00      0.83         5\n",
      "          92       0.60      0.60      0.60         5\n",
      "          93       0.50      0.60      0.55         5\n",
      "          94       0.43      0.60      0.50         5\n",
      "          95       1.00      1.00      1.00         5\n",
      "          96       0.00      0.00      0.00         5\n",
      "          97       0.80      0.80      0.80         5\n",
      "          98       0.71      1.00      0.83         5\n",
      "          99       0.60      0.60      0.60         5\n",
      "         100       0.40      0.40      0.40         5\n",
      "         101       0.83      1.00      0.91         5\n",
      "         102       0.83      1.00      0.91         5\n",
      "         103       0.83      1.00      0.91         5\n",
      "         104       1.00      1.00      1.00         5\n",
      "         105       0.67      0.40      0.50         5\n",
      "         106       1.00      1.00      1.00         5\n",
      "         107       1.00      1.00      1.00         5\n",
      "         108       0.67      0.80      0.73         5\n",
      "         109       1.00      1.00      1.00         5\n",
      "         110       0.71      1.00      0.83         5\n",
      "         111       0.36      0.80      0.50         5\n",
      "         112       1.00      0.60      0.75         5\n",
      "         113       0.33      0.40      0.36         5\n",
      "         114       0.83      1.00      0.91         5\n",
      "         115       1.00      0.20      0.33         5\n",
      "         116       1.00      0.80      0.89         5\n",
      "         117       0.83      1.00      0.91         5\n",
      "         118       0.71      1.00      0.83         5\n",
      "         119       1.00      1.00      1.00         5\n",
      "         120       1.00      0.80      0.89         5\n",
      "         121       0.50      0.80      0.62         5\n",
      "         122       1.00      1.00      1.00         5\n",
      "         123       1.00      0.80      0.89         5\n",
      "         124       0.67      0.80      0.73         5\n",
      "         125       0.75      0.60      0.67         5\n",
      "         126       0.75      0.60      0.67         5\n",
      "         127       0.83      1.00      0.91         5\n",
      "         128       0.71      1.00      0.83         5\n",
      "         129       1.00      1.00      1.00         5\n",
      "         130       1.00      1.00      1.00         5\n",
      "         131       0.83      1.00      0.91         5\n",
      "         132       0.50      0.60      0.55         5\n",
      "         133       0.83      1.00      0.91         5\n",
      "         134       1.00      0.60      0.75         5\n",
      "         135       0.62      1.00      0.77         5\n",
      "         136       1.00      0.80      0.89         5\n",
      "         137       0.83      1.00      0.91         5\n",
      "         138       0.83      1.00      0.91         5\n",
      "         139       1.00      0.80      0.89         5\n",
      "         140       0.62      1.00      0.77         5\n",
      "         141       0.71      1.00      0.83         5\n",
      "         142       0.83      1.00      0.91         5\n",
      "         143       1.00      1.00      1.00         5\n",
      "         144       1.00      1.00      1.00         5\n",
      "         145       1.00      0.80      0.89         5\n",
      "         146       0.60      0.60      0.60         5\n",
      "         147       0.60      0.60      0.60         5\n",
      "         148       1.00      1.00      1.00         5\n",
      "         149       0.80      0.80      0.80         5\n",
      "         150       1.00      1.00      1.00         5\n",
      "         151       1.00      0.40      0.57         5\n",
      "         152       1.00      0.80      0.89         5\n",
      "         153       1.00      0.80      0.89         5\n",
      "         154       1.00      0.60      0.75         5\n",
      "         155       1.00      0.60      0.75         5\n",
      "         156       0.83      1.00      0.91         5\n",
      "         157       0.75      0.60      0.67         5\n",
      "         158       0.80      0.80      0.80         5\n",
      "         159       0.50      0.20      0.29         5\n",
      "         160       0.60      0.60      0.60         5\n",
      "         161       1.00      1.00      1.00         5\n",
      "         162       1.00      1.00      1.00         5\n",
      "         163       0.75      0.60      0.67         5\n",
      "         164       1.00      0.80      0.89         5\n",
      "         165       0.20      0.20      0.20         5\n",
      "         166       1.00      0.80      0.89         5\n",
      "         167       0.83      1.00      0.91         5\n",
      "         168       0.75      0.60      0.67         5\n",
      "         169       0.60      0.60      0.60         5\n",
      "         170       0.83      1.00      0.91         5\n",
      "         171       0.83      1.00      0.91         5\n",
      "         172       1.00      1.00      1.00         5\n",
      "         173       0.75      0.60      0.67         5\n",
      "         174       1.00      0.40      0.57         5\n",
      "         175       1.00      1.00      1.00         5\n",
      "         176       0.75      0.60      0.67         5\n",
      "         177       0.80      0.80      0.80         5\n",
      "         178       1.00      1.00      1.00         5\n",
      "         179       1.00      1.00      1.00         5\n",
      "         180       0.60      0.60      0.60         5\n",
      "         181       1.00      0.80      0.89         5\n",
      "         182       0.71      1.00      0.83         5\n",
      "         183       1.00      0.80      0.89         5\n",
      "         184       1.00      1.00      1.00         5\n",
      "         185       1.00      1.00      1.00         5\n",
      "         186       0.83      1.00      0.91         5\n",
      "         187       1.00      1.00      1.00         5\n",
      "         188       0.71      1.00      0.83         5\n",
      "         189       1.00      1.00      1.00         5\n",
      "         190       1.00      0.80      0.89         5\n",
      "         191       0.57      0.80      0.67         5\n",
      "         192       1.00      0.80      0.89         5\n",
      "         193       1.00      0.60      0.75         5\n",
      "         194       1.00      0.60      0.75         5\n",
      "         195       1.00      1.00      1.00         5\n",
      "         196       1.00      1.00      1.00         5\n",
      "         197       0.75      0.60      0.67         5\n",
      "         198       0.50      0.20      0.29         5\n",
      "         199       1.00      1.00      1.00         5\n",
      "         200       1.00      1.00      1.00         5\n",
      "         201       1.00      1.00      1.00         5\n",
      "         202       0.83      1.00      0.91         5\n",
      "         203       0.00      0.00      0.00         5\n",
      "         204       0.50      0.20      0.29         5\n",
      "         205       1.00      0.60      0.75         5\n",
      "         206       1.00      1.00      1.00         5\n",
      "         207       0.75      0.60      0.67         5\n",
      "         208       1.00      1.00      1.00         5\n",
      "         209       0.83      1.00      0.91         5\n",
      "         210       0.62      1.00      0.77         5\n",
      "         211       0.62      1.00      0.77         5\n",
      "         212       1.00      0.60      0.75         5\n",
      "         213       0.57      0.80      0.67         5\n",
      "         214       0.80      0.80      0.80         5\n",
      "         215       1.00      0.80      0.89         5\n",
      "         216       0.57      0.80      0.67         5\n",
      "         217       0.71      1.00      0.83         5\n",
      "         218       1.00      0.80      0.89         5\n",
      "         219       1.00      0.60      0.75         5\n",
      "         220       0.40      0.40      0.40         5\n",
      "         221       1.00      0.80      0.89         5\n",
      "         222       0.83      1.00      0.91         5\n",
      "         223       1.00      1.00      1.00         5\n",
      "         224       1.00      1.00      1.00         5\n",
      "         225       0.83      1.00      0.91         5\n",
      "         226       1.00      1.00      1.00         5\n",
      "         227       0.50      0.40      0.44         5\n",
      "         228       0.83      1.00      0.91         5\n",
      "         229       0.57      0.80      0.67         5\n",
      "         230       1.00      1.00      1.00         5\n",
      "         231       0.83      1.00      0.91         5\n",
      "         232       0.67      0.80      0.73         5\n",
      "         233       1.00      0.20      0.33         5\n",
      "         234       0.75      0.60      0.67         5\n",
      "         235       0.67      0.40      0.50         5\n",
      "         236       1.00      0.80      0.89         5\n",
      "         237       0.83      1.00      0.91         5\n",
      "         238       0.83      1.00      0.91         5\n",
      "         239       0.80      0.80      0.80         5\n",
      "         240       0.40      0.40      0.40         5\n",
      "         241       0.80      0.80      0.80         5\n",
      "         242       0.57      0.80      0.67         5\n",
      "         243       0.75      0.60      0.67         5\n",
      "         244       0.71      1.00      0.83         5\n",
      "         245       1.00      0.60      0.75         5\n",
      "         246       1.00      1.00      1.00         5\n",
      "         247       0.71      1.00      0.83         5\n",
      "         248       1.00      0.60      0.75         5\n",
      "         249       0.80      0.80      0.80         5\n",
      "         250       0.33      0.20      0.25         5\n",
      "         251       0.83      1.00      0.91         5\n",
      "         252       0.83      1.00      0.91         5\n",
      "         253       0.83      1.00      0.91         5\n",
      "         254       0.83      1.00      0.91         5\n",
      "         255       0.00      0.00      0.00         5\n",
      "         256       0.83      1.00      0.91         5\n",
      "         257       0.83      1.00      0.91         5\n",
      "         258       1.00      0.80      0.89         5\n",
      "         259       0.83      1.00      0.91         5\n",
      "         260       0.83      1.00      0.91         5\n",
      "         261       0.83      1.00      0.91         5\n",
      "         262       1.00      1.00      1.00         5\n",
      "         263       1.00      0.60      0.75         5\n",
      "         264       1.00      1.00      1.00         5\n",
      "         265       1.00      1.00      1.00         5\n",
      "         266       1.00      0.80      0.89         5\n",
      "         267       1.00      0.80      0.89         5\n",
      "         268       0.50      0.60      0.55         5\n",
      "         269       1.00      1.00      1.00         5\n",
      "         270       1.00      0.80      0.89         5\n",
      "         271       1.00      1.00      1.00         5\n",
      "         272       1.00      0.80      0.89         5\n",
      "         273       0.57      0.80      0.67         5\n",
      "         274       0.83      1.00      0.91         5\n",
      "         275       1.00      1.00      1.00         5\n",
      "         276       0.60      0.60      0.60         5\n",
      "         277       1.00      0.80      0.89         5\n",
      "         278       1.00      0.40      0.57         5\n",
      "         279       1.00      0.80      0.89         5\n",
      "         280       0.50      0.60      0.55         5\n",
      "         281       0.57      0.80      0.67         5\n",
      "         282       1.00      0.40      0.57         5\n",
      "         283       0.67      0.80      0.73         5\n",
      "         284       1.00      0.80      0.89         5\n",
      "         285       0.33      0.40      0.36         5\n",
      "         286       1.00      1.00      1.00         5\n",
      "         287       1.00      1.00      1.00         5\n",
      "         288       0.71      1.00      0.83         5\n",
      "         289       0.62      1.00      0.77         5\n",
      "         290       0.60      0.60      0.60         5\n",
      "         291       1.00      1.00      1.00         5\n",
      "         292       1.00      0.80      0.89         5\n",
      "         293       1.00      0.80      0.89         5\n",
      "         294       0.83      1.00      0.91         5\n",
      "         295       1.00      0.80      0.89         5\n",
      "         296       0.71      1.00      0.83         5\n",
      "         297       1.00      0.80      0.89         5\n",
      "         298       1.00      1.00      1.00         5\n",
      "         299       1.00      0.60      0.75         5\n",
      "         300       0.83      1.00      0.91         5\n",
      "         301       0.80      0.80      0.80         5\n",
      "         302       1.00      1.00      1.00         5\n",
      "         303       0.50      0.40      0.44         5\n",
      "         304       1.00      1.00      1.00         5\n",
      "         305       1.00      0.40      0.57         5\n",
      "         306       0.71      1.00      0.83         5\n",
      "         307       0.62      1.00      0.77         5\n",
      "         308       1.00      0.80      0.89         5\n",
      "         309       1.00      1.00      1.00         5\n",
      "         310       1.00      1.00      1.00         5\n",
      "         311       1.00      1.00      1.00         5\n",
      "         312       0.83      1.00      0.91         5\n",
      "         313       0.80      0.80      0.80         5\n",
      "         314       0.67      0.80      0.73         5\n",
      "         315       0.57      0.80      0.67         5\n",
      "         316       0.75      0.60      0.67         5\n",
      "         317       1.00      0.60      0.75         5\n",
      "         318       1.00      0.80      0.89         5\n",
      "         319       0.57      0.80      0.67         5\n",
      "         320       1.00      1.00      1.00         5\n",
      "         321       0.60      0.60      0.60         5\n",
      "         322       0.83      1.00      0.91         5\n",
      "         323       0.71      1.00      0.83         5\n",
      "         324       1.00      1.00      1.00         5\n",
      "         325       1.00      1.00      1.00         5\n",
      "         326       0.42      1.00      0.59         5\n",
      "         327       1.00      1.00      1.00         5\n",
      "         328       0.83      1.00      0.91         5\n",
      "         329       0.83      1.00      0.91         5\n",
      "         330       0.80      0.80      0.80         5\n",
      "         331       1.00      1.00      1.00         5\n",
      "         332       0.50      0.60      0.55         5\n",
      "         333       0.71      1.00      0.83         5\n",
      "         334       1.00      1.00      1.00         5\n",
      "         335       0.83      1.00      0.91         5\n",
      "         336       0.67      0.80      0.73         5\n",
      "         337       0.83      1.00      0.91         5\n",
      "         338       1.00      1.00      1.00         5\n",
      "         339       0.83      1.00      0.91         5\n",
      "         340       1.00      1.00      1.00         5\n",
      "         341       0.67      0.40      0.50         5\n",
      "         342       1.00      0.80      0.89         5\n",
      "         343       1.00      1.00      1.00         5\n",
      "         344       0.83      1.00      0.91         5\n",
      "         345       0.83      1.00      0.91         5\n",
      "         346       0.83      1.00      0.91         5\n",
      "         347       0.71      1.00      0.83         5\n",
      "         348       0.56      1.00      0.71         5\n",
      "         349       0.80      0.80      0.80         5\n",
      "         350       1.00      1.00      1.00         5\n",
      "         351       0.75      0.60      0.67         5\n",
      "         352       0.80      0.80      0.80         5\n",
      "         353       1.00      0.60      0.75         5\n",
      "\n",
      "    accuracy                           0.81      1770\n",
      "   macro avg       0.82      0.81      0.80      1770\n",
      "weighted avg       0.82      0.81      0.80      1770\n",
      "\n"
     ]
    },
    {
     "name": "stderr",
     "output_type": "stream",
     "text": [
      "C:\\Users\\Никита\\AppData\\Roaming\\Python\\Python39\\site-packages\\sklearn\\metrics\\_classification.py:1469: UndefinedMetricWarning: Precision and F-score are ill-defined and being set to 0.0 in labels with no predicted samples. Use `zero_division` parameter to control this behavior.\n",
      "  _warn_prf(average, modifier, msg_start, len(result))\n",
      "C:\\Users\\Никита\\AppData\\Roaming\\Python\\Python39\\site-packages\\sklearn\\metrics\\_classification.py:1469: UndefinedMetricWarning: Precision and F-score are ill-defined and being set to 0.0 in labels with no predicted samples. Use `zero_division` parameter to control this behavior.\n",
      "  _warn_prf(average, modifier, msg_start, len(result))\n",
      "C:\\Users\\Никита\\AppData\\Roaming\\Python\\Python39\\site-packages\\sklearn\\metrics\\_classification.py:1469: UndefinedMetricWarning: Precision and F-score are ill-defined and being set to 0.0 in labels with no predicted samples. Use `zero_division` parameter to control this behavior.\n",
      "  _warn_prf(average, modifier, msg_start, len(result))\n"
     ]
    }
   ],
   "source": [
    "print(classification_report(y_test, preds))"
   ]
  },
  {
   "cell_type": "code",
   "execution_count": 100,
   "metadata": {},
   "outputs": [],
   "source": [
    "preds = model.predict_proba(X_test)\n",
    "confidences = np.max(preds, axis=1)\n",
    "pred_label = np.argmax(preds, axis=1)"
   ]
  },
  {
   "cell_type": "code",
   "execution_count": 103,
   "metadata": {},
   "outputs": [],
   "source": [
    "true_conf = []\n",
    "false_conf = []\n",
    "for i, (conf, pred_) in enumerate(zip(confidences, pred_label)):\n",
    "    if y_test[i] != pred_:\n",
    "        false_conf.append(conf)\n",
    "    else:\n",
    "        true_conf.append(conf)"
   ]
  },
  {
   "cell_type": "code",
   "execution_count": 104,
   "metadata": {},
   "outputs": [
    {
     "data": {
      "text/plain": [
       "(0.493037544467759, 0.17304315771004875)"
      ]
     },
     "execution_count": 104,
     "metadata": {},
     "output_type": "execute_result"
    }
   ],
   "source": [
    "sum(true_conf)/len(true_conf), sum(false_conf)/len(false_conf)"
   ]
  },
  {
   "cell_type": "code",
   "execution_count": 99,
   "metadata": {},
   "outputs": [
    {
     "data": {
      "text/plain": [
       "0.7986898353299151"
      ]
     },
     "execution_count": 99,
     "metadata": {},
     "output_type": "execute_result"
    }
   ],
   "source": [
    "metrics.f1_score(y_test, pred_label, average=\"weighted\")"
   ]
  },
  {
   "cell_type": "code",
   "execution_count": 90,
   "metadata": {},
   "outputs": [],
   "source": [
    "model.save_model(\"catboost_5_score0_8\")"
   ]
  },
  {
   "cell_type": "code",
   "execution_count": 31,
   "metadata": {},
   "outputs": [
    {
     "data": {
      "text/plain": [
       "<catboost.core.CatBoostClassifier at 0x1d3c198c4c0>"
      ]
     },
     "execution_count": 31,
     "metadata": {},
     "output_type": "execute_result"
    }
   ],
   "source": [
    "model = catboost.CatBoostClassifier()\n",
    "\n",
    "model.load_model(\"catboost_20_score0_933\")"
   ]
  }
 ],
 "metadata": {
  "kernelspec": {
   "display_name": ".venv",
   "language": "python",
   "name": "python3"
  },
  "language_info": {
   "codemirror_mode": {
    "name": "ipython",
    "version": 3
   },
   "file_extension": ".py",
   "mimetype": "text/x-python",
   "name": "python",
   "nbconvert_exporter": "python",
   "pygments_lexer": "ipython3",
   "version": "3.9.12"
  }
 },
 "nbformat": 4,
 "nbformat_minor": 2
}
