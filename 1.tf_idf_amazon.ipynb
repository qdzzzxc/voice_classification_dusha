{
 "cells": [
  {
   "cell_type": "markdown",
   "metadata": {},
   "source": [
    "Перед запуском всего ноутбука необходимо в отдельной консоли запустить mlflow server:\n",
    "\n",
    "`mlflow server --host 127.0.0.1 --port 8080`"
   ]
  },
  {
   "cell_type": "code",
   "execution_count": 1,
   "metadata": {},
   "outputs": [],
   "source": [
    "import polars as pl\n",
    "from pathlib import Path\n",
    "\n",
    "amazon_root = Path('Amazon reviews')\n",
    "df = pl.read_csv(amazon_root / 'train.csv', n_rows=50000)"
   ]
  },
  {
   "cell_type": "code",
   "execution_count": 2,
   "metadata": {},
   "outputs": [
    {
     "data": {
      "text/html": [
       "<div><style>\n",
       ".dataframe > thead > tr,\n",
       ".dataframe > tbody > tr {\n",
       "  text-align: right;\n",
       "  white-space: pre-wrap;\n",
       "}\n",
       "</style>\n",
       "<small>shape: (3, 3)</small><table border=\"1\" class=\"dataframe\"><thead><tr><th>Polarity</th><th>Title</th><th>Review</th></tr><tr><td>i64</td><td>str</td><td>str</td></tr></thead><tbody><tr><td>2</td><td>&quot;The best soundtrack ever to anything.&quot;</td><td>&quot;I&#x27;m reading a lot of reviews saying that this is the best &#x27;game soundtrack&#x27; and I figured that I&#x27;d …</td></tr><tr><td>2</td><td>&quot;Amazing!&quot;</td><td>&quot;This soundtrack is my favorite music of all time, hands down. The intense sadness of &quot;Prisoners of …</td></tr><tr><td>2</td><td>&quot;Excellent Soundtrack&quot;</td><td>&quot;I truly like this soundtrack and I enjoy video game music. I have played this game and most of the …</td></tr></tbody></table></div>"
      ],
      "text/plain": [
       "shape: (3, 3)\n",
       "┌──────────┬───────────────────────────────────────┬───────────────────────────────────────────────┐\n",
       "│ Polarity ┆ Title                                 ┆ Review                                        │\n",
       "│ ---      ┆ ---                                   ┆ ---                                           │\n",
       "│ i64      ┆ str                                   ┆ str                                           │\n",
       "╞══════════╪═══════════════════════════════════════╪═══════════════════════════════════════════════╡\n",
       "│ 2        ┆ The best soundtrack ever to anything. ┆ I'm reading a lot of reviews saying that this │\n",
       "│          ┆                                       ┆ is the best 'game soundtrack' and I figured   │\n",
       "│          ┆                                       ┆ that I'd w…                                   │\n",
       "│ 2        ┆ Amazing!                              ┆ This soundtrack is my favorite music of all   │\n",
       "│          ┆                                       ┆ time, hands down. The intense sadness of      │\n",
       "│          ┆                                       ┆ \"Prisoners of F…                              │\n",
       "│ 2        ┆ Excellent Soundtrack                  ┆ I truly like this soundtrack and I enjoy      │\n",
       "│          ┆                                       ┆ video game music. I have played this game and │\n",
       "│          ┆                                       ┆ most of the m…                                │\n",
       "└──────────┴───────────────────────────────────────┴───────────────────────────────────────────────┘"
      ]
     },
     "execution_count": 2,
     "metadata": {},
     "output_type": "execute_result"
    }
   ],
   "source": [
    "df.columns = ['Polarity', 'Title', 'Review']\n",
    "pl.Config.set_fmt_str_lengths(100)\n",
    "df.head(3)"
   ]
  },
  {
   "cell_type": "code",
   "execution_count": 3,
   "metadata": {},
   "outputs": [],
   "source": [
    "df = df.select('Polarity', 'Review').with_columns(\n",
    "    pl.col(\"Polarity\").map_elements(\n",
    "        lambda polarity: \"Negative\" if polarity == 1 else \"Positive\"\n",
    "    )\n",
    ")"
   ]
  },
  {
   "cell_type": "markdown",
   "metadata": {},
   "source": [
    "Датасет сбалансирован по отзывам:"
   ]
  },
  {
   "cell_type": "code",
   "execution_count": 4,
   "metadata": {},
   "outputs": [
    {
     "data": {
      "text/html": [
       "<div><style>\n",
       ".dataframe > thead > tr,\n",
       ".dataframe > tbody > tr {\n",
       "  text-align: right;\n",
       "  white-space: pre-wrap;\n",
       "}\n",
       "</style>\n",
       "<small>shape: (2, 2)</small><table border=\"1\" class=\"dataframe\"><thead><tr><th>Polarity</th><th>count</th></tr><tr><td>str</td><td>u32</td></tr></thead><tbody><tr><td>&quot;Negative&quot;</td><td>24494</td></tr><tr><td>&quot;Positive&quot;</td><td>25506</td></tr></tbody></table></div>"
      ],
      "text/plain": [
       "shape: (2, 2)\n",
       "┌──────────┬───────┐\n",
       "│ Polarity ┆ count │\n",
       "│ ---      ┆ ---   │\n",
       "│ str      ┆ u32   │\n",
       "╞══════════╪═══════╡\n",
       "│ Negative ┆ 24494 │\n",
       "│ Positive ┆ 25506 │\n",
       "└──────────┴───────┘"
      ]
     },
     "execution_count": 4,
     "metadata": {},
     "output_type": "execute_result"
    }
   ],
   "source": [
    "df['Polarity'].value_counts()"
   ]
  },
  {
   "cell_type": "markdown",
   "metadata": {},
   "source": [
    "В этом ноутбуке применим метод классификации на основе частотного подсчета TF-IDF:\n",
    "- TF: term frequency отвечает за частоту встречаемости слова в текущем сообщении\n",
    "- IDF: inverse document frequency отвечает за \"редкость\" слова, насколько слово редко встречается в других сообщениях\n",
    "\n",
    "Для этого сделаем предобработку текста:"
   ]
  },
  {
   "cell_type": "code",
   "execution_count": 5,
   "metadata": {},
   "outputs": [
    {
     "data": {
      "text/html": [
       "<div><style>\n",
       ".dataframe > thead > tr,\n",
       ".dataframe > tbody > tr {\n",
       "  text-align: right;\n",
       "  white-space: pre-wrap;\n",
       "}\n",
       "</style>\n",
       "<small>shape: (5, 3)</small><table border=\"1\" class=\"dataframe\"><thead><tr><th>Polarity</th><th>Review</th><th>corpus</th></tr><tr><td>str</td><td>str</td><td>list[str]</td></tr></thead><tbody><tr><td>&quot;Positive&quot;</td><td>&quot;I&#x27;m reading a lot of reviews saying that this is the best &#x27;game soundtrack&#x27; and I figured that I&#x27;d …</td><td>[&quot;im&quot;, &quot;reading&quot;, … &quot;penny&quot;]</td></tr><tr><td>&quot;Positive&quot;</td><td>&quot;This soundtrack is my favorite music of all time, hands down. The intense sadness of &quot;Prisoners of …</td><td>[&quot;soundtrack&quot;, &quot;favorite&quot;, … &quot;stars&quot;]</td></tr><tr><td>&quot;Positive&quot;</td><td>&quot;I truly like this soundtrack and I enjoy video game music. I have played this game and most of the …</td><td>[&quot;truly&quot;, &quot;like&quot;, … &quot;cross&quot;]</td></tr><tr><td>&quot;Positive&quot;</td><td>&quot;If you&#x27;ve played the game, you know how divine the music is! Every single song tells a story of the…</td><td>[&quot;youve&quot;, &quot;played&quot;, … &quot;paper&quot;]</td></tr><tr><td>&quot;Positive&quot;</td><td>&quot;I am quite sure any of you actually taking the time to read this have played the game at least once…</td><td>[&quot;quite&quot;, &quot;sure&quot;, … &quot;ever&quot;]</td></tr></tbody></table></div>"
      ],
      "text/plain": [
       "shape: (5, 3)\n",
       "┌──────────┬───────────────────────────────────────────────┬───────────────────────────────────────┐\n",
       "│ Polarity ┆ Review                                        ┆ corpus                                │\n",
       "│ ---      ┆ ---                                           ┆ ---                                   │\n",
       "│ str      ┆ str                                           ┆ list[str]                             │\n",
       "╞══════════╪═══════════════════════════════════════════════╪═══════════════════════════════════════╡\n",
       "│ Positive ┆ I'm reading a lot of reviews saying that this ┆ [\"im\", \"reading\", … \"penny\"]          │\n",
       "│          ┆ is the best 'game soundtrack' and I figured   ┆                                       │\n",
       "│          ┆ that I'd w…                                   ┆                                       │\n",
       "│ Positive ┆ This soundtrack is my favorite music of all   ┆ [\"soundtrack\", \"favorite\", … \"stars\"] │\n",
       "│          ┆ time, hands down. The intense sadness of      ┆                                       │\n",
       "│          ┆ \"Prisoners of F…                              ┆                                       │\n",
       "│ Positive ┆ I truly like this soundtrack and I enjoy      ┆ [\"truly\", \"like\", … \"cross\"]          │\n",
       "│          ┆ video game music. I have played this game and ┆                                       │\n",
       "│          ┆ most of the m…                                ┆                                       │\n",
       "│ Positive ┆ If you've played the game, you know how       ┆ [\"youve\", \"played\", … \"paper\"]        │\n",
       "│          ┆ divine the music is! Every single song tells  ┆                                       │\n",
       "│          ┆ a story of the …                              ┆                                       │\n",
       "│ Positive ┆ I am quite sure any of you actually taking    ┆ [\"quite\", \"sure\", … \"ever\"]           │\n",
       "│          ┆ the time to read this have played the game at ┆                                       │\n",
       "│          ┆ least once,…                                  ┆                                       │\n",
       "└──────────┴───────────────────────────────────────────────┴───────────────────────────────────────┘"
      ]
     },
     "execution_count": 5,
     "metadata": {},
     "output_type": "execute_result"
    }
   ],
   "source": [
    "from nltk.corpus import stopwords\n",
    "import nltk\n",
    "import re\n",
    "\n",
    "def preprocessing(input_text: str) -> str:\n",
    "    nltk.download('stopwords')\n",
    "    text = input_text.lower() # приведение к нижнему регистру\n",
    "    text = re.sub(r'https?://\\S+|www\\.\\S+|\\[.*?\\]|[^a-zA-Z\\s]+|\\w*\\d\\w*', '', text) # убираем ссылки\n",
    "    text = re.sub(\"[0-9 \\-_]+\", \" \", text) # убираем спец символы\n",
    "    text = re.sub(\"[^a-z A-Z]+\", \" \", text) # оставляем только буквы\n",
    "    text = \" \".join( # убираем стоп слова\n",
    "        [word for word in text.split() if word not in stopwords.words(\"english\")]\n",
    "    )\n",
    "    return text.strip()\n",
    "\n",
    "df = df.with_columns(\n",
    "    pl.col('Review').map_elements(preprocessing).str.split(' ').alias('corpus')\n",
    ")\n",
    "\n",
    "df.head(5)"
   ]
  },
  {
   "cell_type": "markdown",
   "metadata": {},
   "source": [
    "Как вариант для сокращения разных комбинаций одного и того же слова лемматизируем слова, то есть вместо reading -> read, приводим к единой лемме. На русском языке это также убрало бы падежи."
   ]
  },
  {
   "cell_type": "code",
   "execution_count": 6,
   "metadata": {},
   "outputs": [
    {
     "data": {
      "text/html": [
       "<div><style>\n",
       ".dataframe > thead > tr,\n",
       ".dataframe > tbody > tr {\n",
       "  text-align: right;\n",
       "  white-space: pre-wrap;\n",
       "}\n",
       "</style>\n",
       "<small>shape: (5, 3)</small><table border=\"1\" class=\"dataframe\"><thead><tr><th>Polarity</th><th>Review</th><th>corpus</th></tr><tr><td>str</td><td>str</td><td>list[str]</td></tr></thead><tbody><tr><td>&quot;Positive&quot;</td><td>&quot;I&#x27;m reading a lot of reviews saying that this is the best &#x27;game soundtrack&#x27; and I figured that I&#x27;d …</td><td>[&quot;im&quot;, &quot;reading&quot;, … &quot;penny&quot;]</td></tr><tr><td>&quot;Positive&quot;</td><td>&quot;This soundtrack is my favorite music of all time, hands down. The intense sadness of &quot;Prisoners of …</td><td>[&quot;soundtrack&quot;, &quot;favorite&quot;, … &quot;star&quot;]</td></tr><tr><td>&quot;Positive&quot;</td><td>&quot;I truly like this soundtrack and I enjoy video game music. I have played this game and most of the …</td><td>[&quot;truly&quot;, &quot;like&quot;, … &quot;cross&quot;]</td></tr><tr><td>&quot;Positive&quot;</td><td>&quot;If you&#x27;ve played the game, you know how divine the music is! Every single song tells a story of the…</td><td>[&quot;youve&quot;, &quot;played&quot;, … &quot;paper&quot;]</td></tr><tr><td>&quot;Positive&quot;</td><td>&quot;I am quite sure any of you actually taking the time to read this have played the game at least once…</td><td>[&quot;quite&quot;, &quot;sure&quot;, … &quot;ever&quot;]</td></tr></tbody></table></div>"
      ],
      "text/plain": [
       "shape: (5, 3)\n",
       "┌──────────┬────────────────────────────────────────────────┬──────────────────────────────────────┐\n",
       "│ Polarity ┆ Review                                         ┆ corpus                               │\n",
       "│ ---      ┆ ---                                            ┆ ---                                  │\n",
       "│ str      ┆ str                                            ┆ list[str]                            │\n",
       "╞══════════╪════════════════════════════════════════════════╪══════════════════════════════════════╡\n",
       "│ Positive ┆ I'm reading a lot of reviews saying that this  ┆ [\"im\", \"reading\", … \"penny\"]         │\n",
       "│          ┆ is the best 'game soundtrack' and I figured    ┆                                      │\n",
       "│          ┆ that I'd w…                                    ┆                                      │\n",
       "│ Positive ┆ This soundtrack is my favorite music of all    ┆ [\"soundtrack\", \"favorite\", … \"star\"] │\n",
       "│          ┆ time, hands down. The intense sadness of       ┆                                      │\n",
       "│          ┆ \"Prisoners of F…                               ┆                                      │\n",
       "│ Positive ┆ I truly like this soundtrack and I enjoy video ┆ [\"truly\", \"like\", … \"cross\"]         │\n",
       "│          ┆ game music. I have played this game and most   ┆                                      │\n",
       "│          ┆ of the m…                                      ┆                                      │\n",
       "│ Positive ┆ If you've played the game, you know how divine ┆ [\"youve\", \"played\", … \"paper\"]       │\n",
       "│          ┆ the music is! Every single song tells a story  ┆                                      │\n",
       "│          ┆ of the …                                       ┆                                      │\n",
       "│ Positive ┆ I am quite sure any of you actually taking the ┆ [\"quite\", \"sure\", … \"ever\"]          │\n",
       "│          ┆ time to read this have played the game at      ┆                                      │\n",
       "│          ┆ least once,…                                   ┆                                      │\n",
       "└──────────┴────────────────────────────────────────────────┴──────────────────────────────────────┘"
      ]
     },
     "execution_count": 6,
     "metadata": {},
     "output_type": "execute_result"
    }
   ],
   "source": [
    "from nltk.stem import WordNetLemmatizer\n",
    "\n",
    "def lemmatize(input_frame: pl.DataFrame) -> pl.DataFrame:\n",
    "    lemmatizer = WordNetLemmatizer()\n",
    "\n",
    "    return input_frame.with_columns(\n",
    "        pl.col(\"corpus\").map_elements(\n",
    "            lambda input_list: [lemmatizer.lemmatize(token) for token in input_list]\n",
    "        )\n",
    "    )\n",
    "    \n",
    "df = lemmatize(df)\n",
    "df.head(5)"
   ]
  },
  {
   "cell_type": "markdown",
   "metadata": {},
   "source": [
    "Разобьем на train/test split, получим признаки для train и test:"
   ]
  },
  {
   "cell_type": "code",
   "execution_count": 31,
   "metadata": {},
   "outputs": [],
   "source": [
    "from sklearn.feature_extraction.text import TfidfVectorizer\n",
    "from sklearn.linear_model import LogisticRegression\n",
    "from sklearn.model_selection import train_test_split\n",
    "\n",
    "random_state = 42\n",
    "vectorizer_params = {\n",
    "    \"max_features\": 10000,\n",
    "    \"analyzer\": \"word\"\n",
    "}\n",
    "\n",
    "tfidf_vectorizer = TfidfVectorizer(**vectorizer_params)\n",
    "\n",
    "train, test = train_test_split(\n",
    "    df,\n",
    "    test_size=0.3,\n",
    "    shuffle=True,\n",
    "    random_state=random_state,\n",
    ")\n",
    "\n",
    "tfidf_vectorizer.fit(train[\"corpus\"].to_pandas().astype(str))\n",
    "train_features = tfidf_vectorizer.transform(train[\"corpus\"].to_pandas().astype(str))\n",
    "test_features = tfidf_vectorizer.transform(test[\"corpus\"].to_pandas().astype(str))"
   ]
  },
  {
   "cell_type": "markdown",
   "metadata": {},
   "source": [
    "Вспомогательный код для получения Confusion матрицы:"
   ]
  },
  {
   "cell_type": "code",
   "execution_count": 32,
   "metadata": {},
   "outputs": [],
   "source": [
    "import numpy as np\n",
    "from matplotlib import pyplot as plt\n",
    "from matplotlib.figure import Figure\n",
    "from sklearn.metrics import (\n",
    "    ConfusionMatrixDisplay,\n",
    ")\n",
    "\n",
    "def conf_matrix(y_true: np.ndarray, pred: np.ndarray) -> Figure:\n",
    "    plt.ioff()\n",
    "    fig, ax = plt.subplots(figsize=(5, 5))\n",
    "    ConfusionMatrixDisplay.from_predictions(y_true, pred, ax=ax, colorbar=False)\n",
    "    ax.xaxis.set_tick_params(rotation=90)\n",
    "    _ = ax.set_title(f\"Confusion Matrix\")\n",
    "    plt.tight_layout()\n",
    "    return fig"
   ]
  },
  {
   "cell_type": "markdown",
   "metadata": {},
   "source": [
    "Теперь будем использовать mlflow для логирования результатов обучение логистической регрессии:"
   ]
  },
  {
   "cell_type": "code",
   "execution_count": 33,
   "metadata": {},
   "outputs": [
    {
     "data": {
      "image/png": "[encoded data removed]",
      "text/plain": [
       "<Figure size 500x500 with 1 Axes>"
      ]
     },
     "metadata": {},
     "output_type": "display_data"
    }
   ],
   "source": [
    "import mlflow\n",
    "from sklearn.metrics import classification_report\n",
    "\n",
    "# Подключение к серверу MLflow\n",
    "mlflow.set_tracking_uri(\"http://127.0.0.1:8080\")\n",
    "# Зафиксируем текущее название эксперимента\n",
    "embeddings_experiment = mlflow.set_experiment(\"Embeddings_50k\")\n",
    "\n",
    "# Зафиксируем название текущего запуска, если не фиксировать, оно автосгенерируется\n",
    "tf_idf_run_name = \"tf_idf_embeddings\"\n",
    "\n",
    "with mlflow.start_run(run_name=tf_idf_run_name) as run:\n",
    "    model_params = {\n",
    "        \"multi_class\": \"multinomial\",\n",
    "        \"solver\": \"saga\",\n",
    "        \"random_state\": random_state,\n",
    "    }\n",
    "    model_lr = LogisticRegression(**model_params)\n",
    "    model_lr.fit(train_features, train[\"Polarity\"])\n",
    "    predicts = model_lr.predict(test_features)\n",
    "    report = classification_report(test[\"Polarity\"], predicts, output_dict=True)\n",
    "\n",
    "    # логирование метрик из classification report\n",
    "    mlflow.log_metric(\"accuracy\", report.pop(\"accuracy\"))\n",
    "    for class_or_avg, metrics_dict in report.items():\n",
    "        if class_or_avg == 'macro avg':\n",
    "            break\n",
    "        for metric, value in metrics_dict.items():\n",
    "            mlflow.log_metric(class_or_avg + '_' + metric, value)\n",
    "    \n",
    "    # Логирование параметров модели\n",
    "    mlflow.log_params(vectorizer_params) \n",
    "    mlflow.log_params(model_params)\n",
    "\n",
    "    # Логирование целой модели для переиспользование\n",
    "    mlflow.sklearn.log_model(\n",
    "        sk_model=model_lr, \n",
    "        input_example=test_features[:10], \n",
    "        artifact_path=f\"mlflow/{tf_idf_run_name}/model\"\n",
    "    )\n",
    "    \n",
    "     # Получение confusion matrix на два класса\n",
    "    fig = conf_matrix(test[\"Polarity\"], predicts)\n",
    "    \n",
    "    # Логирование фигур или целых артефактов\n",
    "    mlflow.log_figure(fig, f'{tf_idf_run_name}_confusion_matrix.png')"
   ]
  },
  {
   "cell_type": "markdown",
   "metadata": {},
   "source": [
    "Альтернативно можно попросить mlflow самостоятельно залогировать метрики. для этого перед with выше нужно написать: mlflow.autolog(), но лучше самому в явном виде определять, что ожидается увидеть в дашборде."
   ]
  }
 ],
 "metadata": {
  "kernelspec": {
   "display_name": "mlops",
   "language": "python",
   "name": "python3"
  },
  "language_info": {
   "codemirror_mode": {
    "name": "ipython",
    "version": 3
   },
   "file_extension": ".py",
   "mimetype": "text/x-python",
   "name": "python",
   "nbconvert_exporter": "python",
   "pygments_lexer": "ipython3",
   "version": "3.10.13"
  }
 },
 "nbformat": 4,
 "nbformat_minor": 2
}
