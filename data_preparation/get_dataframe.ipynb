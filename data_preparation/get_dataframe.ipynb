{
 "cells": [
  {
   "cell_type": "code",
   "execution_count": 2,
   "metadata": {},
   "outputs": [],
   "source": [
    "import pandas as pd\n",
    "import numpy as np\n",
    "\n",
    "import matplotlib.pyplot as plt\n",
    "import seaborn as sns"
   ]
  },
  {
   "cell_type": "markdown",
   "metadata": {},
   "source": [
    "Датасет очень большой, поэтому пути до аудио файлов хранятся в json формате. Считываю их и преобразую в удобный pandas dataframe."
   ]
  },
  {
   "cell_type": "code",
   "execution_count": 3,
   "metadata": {},
   "outputs": [],
   "source": [
    "with open(\"Z:/python_project/course_work_stepanov/crowd_train/raw_crowd_train.jsonl\", \"r\") as file:\n",
    "    lines = file.read().splitlines()"
   ]
  },
  {
   "cell_type": "code",
   "execution_count": 4,
   "metadata": {},
   "outputs": [],
   "source": [
    "dicts = [eval(x.replace('NaN', 'np.nan')) for x in lines]"
   ]
  },
  {
   "cell_type": "code",
   "execution_count": 5,
   "metadata": {},
   "outputs": [
    {
     "data": {
      "text/plain": [
       "(906953, 9)"
      ]
     },
     "execution_count": 5,
     "metadata": {},
     "output_type": "execute_result"
    }
   ],
   "source": [
    "df = pd.DataFrame.from_records(dicts)\n",
    "df.shape"
   ]
  },
  {
   "cell_type": "markdown",
   "metadata": {},
   "source": [
    "Удалив дубликаты по тексту в сообщении, датасет уменьшился в 7 раз..."
   ]
  },
  {
   "cell_type": "code",
   "execution_count": 6,
   "metadata": {},
   "outputs": [
    {
     "data": {
      "text/plain": [
       "(124569, 9)"
      ]
     },
     "execution_count": 6,
     "metadata": {},
     "output_type": "execute_result"
    }
   ],
   "source": [
    "df_not_dupl = df.drop_duplicates(subset=\"speaker_text\")\n",
    "df_not_dupl.shape"
   ]
  },
  {
   "cell_type": "code",
   "execution_count": 7,
   "metadata": {},
   "outputs": [],
   "source": [
    "df_not_dupl.to_parquet('crowd_train_without_duplicates.pqt')"
   ]
  },
  {
   "cell_type": "code",
   "execution_count": 8,
   "metadata": {},
   "outputs": [],
   "source": [
    "res = df_not_dupl.source_id.value_counts()"
   ]
  },
  {
   "cell_type": "code",
   "execution_count": 27,
   "metadata": {},
   "outputs": [
    {
     "data": {
      "text/plain": [
       "749bd4cad1ddbc7211b23a68e5f9f12a    473\n",
       "8fdd37d08a1edd4c3f05f3df1e1d4a8d    462\n",
       "8d912022a064613108789cd33ec6d776    413\n",
       "ddea0499db65074f0de8570a460b6bc6    386\n",
       "b603926497b0f7d1ce220b682622a429    380\n",
       "                                   ... \n",
       "9e584abe2402b5d7186a04b65d60708b      1\n",
       "b4fafe0570ca9113fcb49f8b4a399750      1\n",
       "aae7f70146e3b6eeb9403bdc47fbe632      1\n",
       "befd6c45215aa9a0cc4afea2b487b01b      1\n",
       "40c3e6a8428818797faeb7154ae236d7      1\n",
       "Name: source_id, Length: 1806, dtype: int64"
      ]
     },
     "execution_count": 27,
     "metadata": {},
     "output_type": "execute_result"
    }
   ],
   "source": [
    "res"
   ]
  },
  {
   "cell_type": "markdown",
   "metadata": {},
   "source": [
    "Как видно, количество сообщений от пользователей сильно разнится. Для того, чтобы не столкнуться с дизбалансом классов, я буду использовать функцию get_dataframe в файлe my_funcs.py"
   ]
  },
  {
   "cell_type": "code",
   "execution_count": 32,
   "metadata": {},
   "outputs": [
    {
     "data": {
      "image/png": "[encoded data removed]",
      "text/plain": [
       "<Figure size 720x288 with 1 Axes>"
      ]
     },
     "metadata": {
      "needs_background": "light"
     },
     "output_type": "display_data"
    }
   ],
   "source": [
    "plt.figure(figsize=(10, 4))\n",
    "plt.title('Распределение количества аудио')\n",
    "sns.kdeplot(res.values)\n",
    "plt.ylabel('Процент пользователей')\n",
    "plt.xlabel('Количество аудиосообщений')\n",
    "plt.show()"
   ]
  },
  {
   "cell_type": "markdown",
   "metadata": {},
   "source": [
    "Удаляю ненужные мне столбцы и сохраняю датафрейм"
   ]
  },
  {
   "cell_type": "code",
   "execution_count": 36,
   "metadata": {},
   "outputs": [
    {
     "data": {
      "text/plain": [
       "(124449, 3)"
      ]
     },
     "execution_count": 36,
     "metadata": {},
     "output_type": "execute_result"
    }
   ],
   "source": [
    "df_final = df_not_dupl.drop(columns=['hash_id', 'annotator_emo',\n",
    "                            'golden_emo', 'annotator_id', 'speaker_text', 'speaker_emo']).dropna()\n",
    "df_final = df_final[df_final.source_id.isin(res.index)]\n",
    "df_final.shape"
   ]
  },
  {
   "cell_type": "code",
   "execution_count": 37,
   "metadata": {},
   "outputs": [],
   "source": [
    "df_final.to_parquet(\"crowd_train_eda.pqt\", index=False)"
   ]
  }
 ],
 "metadata": {
  "kernelspec": {
   "display_name": ".venv",
   "language": "python",
   "name": "python3"
  },
  "language_info": {
   "codemirror_mode": {
    "name": "ipython",
    "version": 3
   },
   "file_extension": ".py",
   "mimetype": "text/x-python",
   "name": "python",
   "nbconvert_exporter": "python",
   "pygments_lexer": "ipython3",
   "version": "3.9.12"
  }
 },
 "nbformat": 4,
 "nbformat_minor": 2
}
