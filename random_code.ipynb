{
 "cells": [
  {
   "cell_type": "code",
   "execution_count": null,
   "metadata": {},
   "outputs": [],
   "source": [
    "import os\n",
    "\n",
    "experiment = f\"{len(set(y))} classes, evaluation\"\n",
    "model_name = \"catboost tuned evaluation voices\"\n",
    "\n",
    "experiment_id = dict(mlflow.get_experiment_by_name(experiment))['experiment_id']\n",
    "mlflow.search_runs([experiment_id], order_by=['metrics.f1_weighted'])['run_id']\n",
    "runs = mlflow.search_runs([experiment_id], order_by=['metrics.f1_weighted'])\n",
    "run_id = runs[runs['tags.mlflow.runName'] == model_name]['run_id'][0]\n",
    "\n",
    "client = mlflow.tracking.MlflowClient()\n",
    "local_dir = os.path.join(os.getcwd(), 'trained_models', 'best_catboost_356')\n",
    "local_path = client.download_artifacts(run_id, model_name, local_dir)"
   ]
  }
 ],
 "metadata": {
  "language_info": {
   "name": "python"
  }
 },
 "nbformat": 4,
 "nbformat_minor": 2
}
