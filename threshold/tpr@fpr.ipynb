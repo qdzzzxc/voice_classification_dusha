{
 "cells": [
  {
   "cell_type": "code",
   "execution_count": 1,
   "metadata": {},
   "outputs": [],
   "source": [
    "import numpy as np\n",
    "import pandas as pd\n",
    "\n",
    "import seaborn as sns\n",
    "import matplotlib.pyplot as plt\n",
    "\n",
    "from scipy.spatial.distance import cosine\n",
    "\n",
    "from tqdm.notebook import tqdm\n",
    "\n",
    "from copy import copy\n",
    "from my_funcs import get_dataframe\n"
   ]
  },
  {
   "cell_type": "markdown",
   "metadata": {},
   "source": [
    "### Метрика TPR@FPR"
   ]
  },
  {
   "cell_type": "markdown",
   "metadata": {},
   "source": [
    "Для того, чтобы измерить принадлежность векторов к имеющемуся домены голосов, можно использовать следующую метрику. Обычно она используется для моделей, которые обучаются создавать векторные представления чего-либо, но в моём случае, её можно использовать на выходах из алгоритма получения мел-кепстральных коэффициентов. Я буду использовать только их, в то время как классификатор обучен на более широком наборе признаков, так как они лучше всего отражают специфику аудио сигнала."
   ]
  },
  {
   "cell_type": "markdown",
   "metadata": {},
   "source": [
    "### Алгоритм реализации метрики\n",
    "\n",
    "Необходимо создать два набора векторных представлений аудио: query и distractors. \n",
    "Никакие аудио из этих наборов не должны содержаться в обучающем и валидационном датасете."
   ]
  },
  {
   "cell_type": "code",
   "execution_count": 4,
   "metadata": {},
   "outputs": [],
   "source": [
    "df = pd.read_pickle(\"experiments/crowd_train_all_data_embedded.pkl\")"
   ]
  },
  {
   "cell_type": "code",
   "execution_count": 5,
   "metadata": {},
   "outputs": [
    {
     "name": "stdout",
     "output_type": "stream",
     "text": [
      "408\n"
     ]
    },
    {
     "data": {
      "text/plain": [
       "3551"
      ]
     },
     "execution_count": 5,
     "metadata": {},
     "output_type": "execute_result"
    }
   ],
   "source": [
    "query = get_dataframe(df, 0, 13, max_filter=18)\n",
    "query.shape[0]"
   ]
  },
  {
   "cell_type": "code",
   "execution_count": 6,
   "metadata": {},
   "outputs": [
    {
     "name": "stdout",
     "output_type": "stream",
     "text": [
      "196\n"
     ]
    },
    {
     "data": {
      "text/plain": [
       "3528"
      ]
     },
     "execution_count": 6,
     "metadata": {},
     "output_type": "execute_result"
    }
   ],
   "source": [
    "distractors = get_dataframe(df, 20, 18, max_filter=30)\n",
    "distractors.shape[0]"
   ]
  },
  {
   "cell_type": "markdown",
   "metadata": {},
   "source": [
    "Посчитаю косинусные расстояния между векторами, соответствующими одним и тем же людям из query части."
   ]
  },
  {
   "cell_type": "code",
   "execution_count": 7,
   "metadata": {},
   "outputs": [
    {
     "data": {
      "application/vnd.jupyter.widget-view+json": {
       "model_id": "f401d6eb927f4ec5a9106224365fca0b",
       "version_major": 2,
       "version_minor": 0
      },
      "text/plain": [
       "  0%|          | 0/408 [00:00<?, ?it/s]"
      ]
     },
     "metadata": {},
     "output_type": "display_data"
    }
   ],
   "source": [
    "between_one_class_in_query = []\n",
    "for s_id in tqdm(set(query.source_id)):\n",
    "    temp_arr = query[query.source_id == s_id].audio_feature.to_numpy()\n",
    "    for i in range(len(temp_arr)):\n",
    "        for j in range(i + 1, len(temp_arr)):\n",
    "            between_one_class_in_query.append(cosine(temp_arr[i][36 + 384: 36 + 384 + 60], temp_arr[j][36 + 384: 36 + 384 + 60]))"
   ]
  },
  {
   "cell_type": "markdown",
   "metadata": {},
   "source": [
    "Посчитаю косинусные расстояния между векторами, соответствующими разным людям из query части."
   ]
  },
  {
   "cell_type": "code",
   "execution_count": 8,
   "metadata": {},
   "outputs": [
    {
     "data": {
      "application/vnd.jupyter.widget-view+json": {
       "model_id": "8267bb1eb96f4de683bd304cb71f13a6",
       "version_major": 2,
       "version_minor": 0
      },
      "text/plain": [
       "  0%|          | 0/408 [00:00<?, ?it/s]"
      ]
     },
     "metadata": {},
     "output_type": "display_data"
    }
   ],
   "source": [
    "between_diff_class_in_query = []\n",
    "visited = []\n",
    "\n",
    "for s_id in tqdm(set(query.source_id)):\n",
    "    visited.append(s_id)\n",
    "    temp_arr_selected_class = query[query.source_id == s_id].audio_feature.to_numpy()\n",
    "    temp_arr_other_class = query[~query.source_id.isin(visited)].audio_feature.to_numpy()\n",
    "\n",
    "    for selected_emb in temp_arr_selected_class:\n",
    "        for other_emb in temp_arr_other_class:\n",
    "            between_diff_class_in_query.append(cosine(selected_emb[36 + 384: 36 + 384 + 60], other_emb[36 + 384: 36 + 384 + 60]))"
   ]
  },
  {
   "cell_type": "markdown",
   "metadata": {},
   "source": [
    "Посчитаю косинусные расстояния между всеми парами из query и distractors. Всего получится |query|*|distractors| пар."
   ]
  },
  {
   "cell_type": "code",
   "execution_count": 9,
   "metadata": {},
   "outputs": [
    {
     "data": {
      "application/vnd.jupyter.widget-view+json": {
       "model_id": "df240e22a42644a5bc80fd6e16ef99e9",
       "version_major": 2,
       "version_minor": 0
      },
      "text/plain": [
       "  0%|          | 0/3551 [00:00<?, ?it/s]"
      ]
     },
     "metadata": {},
     "output_type": "display_data"
    }
   ],
   "source": [
    "between_query_distractors = []\n",
    "\n",
    "for i in tqdm(query.audio_feature.to_numpy()):\n",
    "    for j in distractors.audio_feature.to_numpy():\n",
    "        between_query_distractors.append(cosine(i[36 + 384: 36 + 384 + 60], j[36 + 384: 36 + 384 + 60]))"
   ]
  },
  {
   "cell_type": "markdown",
   "metadata": {},
   "source": [
    "Сложу количества пар, полученных на 2 и 3 шагах. Это количество false пар."
   ]
  },
  {
   "cell_type": "code",
   "execution_count": 10,
   "metadata": {},
   "outputs": [],
   "source": [
    "false_pairs = copy(between_diff_class_in_query)"
   ]
  },
  {
   "cell_type": "code",
   "execution_count": 11,
   "metadata": {},
   "outputs": [],
   "source": [
    "false_pairs.extend(between_query_distractors)"
   ]
  },
  {
   "cell_type": "markdown",
   "metadata": {},
   "source": [
    "Зафиксируем FPR (false positive rate). Пусть, например, будет 0.01. FPR, умноженный на количество false пар из шага 4 — это разрешенное количество false positives, которые мы разрешаем нашей модели. Обозначим это количество через N."
   ]
  },
  {
   "cell_type": "code",
   "execution_count": 33,
   "metadata": {},
   "outputs": [
    {
     "data": {
      "text/plain": [
       "188150"
      ]
     },
     "execution_count": 33,
     "metadata": {},
     "output_type": "execute_result"
    }
   ],
   "source": [
    "FPR = 0.01\n",
    "N = round(FPR * len(false_pairs))\n",
    "N"
   ]
  },
  {
   "cell_type": "markdown",
   "metadata": {},
   "source": [
    "Отсортирую все значения косинусных расстояний false пар. N — ое по счету значение расстояния зафиксирую как пороговое расстояние."
   ]
  },
  {
   "cell_type": "code",
   "execution_count": 13,
   "metadata": {},
   "outputs": [],
   "source": [
    "false_pairs.sort()"
   ]
  },
  {
   "cell_type": "code",
   "execution_count": 34,
   "metadata": {},
   "outputs": [
    {
     "data": {
      "text/plain": [
       "0.0048326071016201455"
      ]
     },
     "execution_count": 34,
     "metadata": {},
     "output_type": "execute_result"
    }
   ],
   "source": [
    "threshold = false_pairs[N]\n",
    "threshold"
   ]
  },
  {
   "cell_type": "markdown",
   "metadata": {},
   "source": [
    "Посчитаю количество positive пар с шага 1, которые имеют косинусное расстояние меньше, чем пороговое расстояние. Поделю это количество на общее количество positive пар с шага 1. Это будет TPR (true positive rate) — итоговое значение метрики."
   ]
  },
  {
   "cell_type": "code",
   "execution_count": 31,
   "metadata": {},
   "outputs": [],
   "source": [
    "positive_pairs = np.array(between_one_class_in_query)"
   ]
  },
  {
   "cell_type": "code",
   "execution_count": 35,
   "metadata": {},
   "outputs": [
    {
     "data": {
      "text/plain": [
       "0.4184032136580467"
      ]
     },
     "execution_count": 35,
     "metadata": {},
     "output_type": "execute_result"
    }
   ],
   "source": [
    "len(positive_pairs[positive_pairs < threshold])/len(positive_pairs)"
   ]
  },
  {
   "cell_type": "markdown",
   "metadata": {},
   "source": [
    "Нарисую визуализацию, чтобы подобрать устраивающий меня False Positive Rate"
   ]
  },
  {
   "cell_type": "code",
   "execution_count": 44,
   "metadata": {},
   "outputs": [],
   "source": [
    "FPRs = np.linspace(0, 1, 1_000)[:-1]\n",
    "TPRs = []\n",
    "\n",
    "for FPR in FPRs:\n",
    "    N = round(FPR * len(false_pairs))\n",
    "    threshold = false_pairs[N]\n",
    "    TPRs.append(len(positive_pairs[positive_pairs < threshold])/len(positive_pairs))"
   ]
  },
  {
   "cell_type": "code",
   "execution_count": 45,
   "metadata": {},
   "outputs": [
    {
     "data": {
      "text/plain": [
       "[]"
      ]
     },
     "execution_count": 45,
     "metadata": {},
     "output_type": "execute_result"
    },
    {
     "data": {
      "image/png": "[encoded data removed]",
      "text/plain": [
       "<Figure size 720x576 with 1 Axes>"
      ]
     },
     "metadata": {
      "needs_background": "light"
     },
     "output_type": "display_data"
    }
   ],
   "source": [
    "plt.figure(figsize=(10, 8))\n",
    "plt.title('Зависимость TPR от FPR')\n",
    "plt.grid()\n",
    "plt.plot(FPRs, TPRs)\n",
    "for fprate in [0.01, 0.05, 0.075, 0.1, 0.15, 0.2, 0.3, 0.4, 0.505]:\n",
    "    indx = np.where(np.round(FPRs, 3) == fprate)[0].item()\n",
    "    plt.scatter(FPRs[indx], TPRs[indx], zorder=3)\n",
    "    plt.annotate(f'FPR: {round(FPRs[indx], 3)}, TPR: {round(TPRs[indx], 3)}', (FPRs[indx], TPRs[indx]), \n",
    "            textcoords='offset points', xytext=(10, -5))\n",
    "plt.xlabel('False Positive Rate', size=20)\n",
    "plt.ylabel('True Positive Rate', size=20)\n",
    "plt.plot()"
   ]
  },
  {
   "cell_type": "markdown",
   "metadata": {},
   "source": [
    "Подбор FPR зависит от уровня безопасности, которого мы хотим достигнуть в нашей идентификационной системе. Уменьшая FPR получаем более низкий порог, которой уменьшает как количество ложных срабатываний, так и количество верных срабатывания системы. Таким образом, оптимальным fpr = 0.075, так как он поддерживает адекватный уровень tpr."
   ]
  },
  {
   "cell_type": "code",
   "execution_count": 43,
   "metadata": {},
   "outputs": [
    {
     "data": {
      "text/plain": [
       "{'threshold': 0.2896592301118485}"
      ]
     },
     "execution_count": 43,
     "metadata": {},
     "output_type": "execute_result"
    }
   ],
   "source": [
    "import json\n",
    "model_name = 'catboost tuned'\n",
    "\n",
    "with open(f'cross_validation_scores/{model_name}_threshold.json', 'r') as f:\n",
    "    d = json.load(f)\n",
    "\n",
    "d"
   ]
  },
  {
   "cell_type": "code",
   "execution_count": 47,
   "metadata": {},
   "outputs": [
    {
     "data": {
      "text/plain": [
       "0.008504369429957692"
      ]
     },
     "execution_count": 47,
     "metadata": {},
     "output_type": "execute_result"
    }
   ],
   "source": [
    "FPR = 0.075\n",
    "N = round(FPR * len(false_pairs))\n",
    "threshold = false_pairs[N]\n",
    "threshold"
   ]
  },
  {
   "cell_type": "code",
   "execution_count": 48,
   "metadata": {},
   "outputs": [
    {
     "data": {
      "text/plain": [
       "{'threshold': 0.2896592301118485, 'tpr@fpr_threshold': 0.008504369429957692}"
      ]
     },
     "execution_count": 48,
     "metadata": {},
     "output_type": "execute_result"
    }
   ],
   "source": [
    "d['tpr@fpr_threshold'] = threshold\n",
    "d"
   ]
  },
  {
   "cell_type": "code",
   "execution_count": 49,
   "metadata": {},
   "outputs": [],
   "source": [
    "import json\n",
    "\n",
    "with open(f'cross_validation_scores/{model_name}_threshold.json', 'w') as f:\n",
    "    json.dump(d, f)"
   ]
  }
 ],
 "metadata": {
  "kernelspec": {
   "display_name": "base",
   "language": "python",
   "name": "python3"
  },
  "language_info": {
   "codemirror_mode": {
    "name": "ipython",
    "version": 3
   },
   "file_extension": ".py",
   "mimetype": "text/x-python",
   "name": "python",
   "nbconvert_exporter": "python",
   "pygments_lexer": "ipython3",
   "version": "3.9.12"
  }
 },
 "nbformat": 4,
 "nbformat_minor": 2
}
